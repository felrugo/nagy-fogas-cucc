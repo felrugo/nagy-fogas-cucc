{
 "cells": [
  {
   "cell_type": "markdown",
   "metadata": {
    "colab_type": "text",
    "id": "mh-MgyQM2Qw9"
   },
   "source": [
    "# Introduction\n",
    "\n",
    "The U-Net model is a simple fully  convolutional neural network that is used for binary segmentation i.e foreground and background pixel-wise classification. Mainly, it consists of two parts. \n",
    "\n",
    "*   Contracting Path: we apply a series of conv layers and downsampling layers  (max-pooling) layers to reduce the spatial size \n",
    "*   Expanding Path: we apply a series of upsampling layers to reconstruct the spatial size of the input. \n",
    "\n",
    "The two parts are connected using a concatenation layers among different levels. This allows learning different features at different levels. At the end we have a simple conv 1x1 layer to reduce the number of channels to 1. \n",
    "\n",
    "\n",
    "![alt text](https://blog.playment.io/wp-content/uploads/2018/03/Screen-Shot-2018-09-05-at-3.00.03-PM.png)"
   ]
  },
  {
   "cell_type": "markdown",
   "metadata": {
    "colab_type": "text",
    "id": "3LisvDshzevQ"
   },
   "source": [
    "# Imports"
   ]
  },
  {
   "cell_type": "code",
   "execution_count": 1,
   "metadata": {
    "colab": {
     "base_uri": "https://localhost:8080/",
     "height": 34
    },
    "colab_type": "code",
    "executionInfo": {
     "elapsed": 3577,
     "status": "ok",
     "timestamp": 1595263332250,
     "user": {
      "displayName": "Felrugo",
      "photoUrl": "https://lh3.googleusercontent.com/a-/AOh14GiEZYCHDckrxx9NlTyMjHwT3AV1Xr35LocC6wp5=s64",
      "userId": "06350835367473888493"
     },
     "user_tz": -120
    },
    "id": "bdeDl5HO0QsY",
    "outputId": "7f618222-cc1c-4eb3-f01e-f93776d12359"
   },
   "outputs": [],
   "source": [
    "import numpy as np\n",
    "import matplotlib.pyplot as plt\n",
    "import os\n",
    "from PIL import Image\n",
    "import tensorflow as tf\n",
    "import pandas as pd\n",
    "#import keras\n",
    "keras = tf.keras\n",
    "Model = keras.models.Model\n",
    "Conv2D, MaxPooling2D, Input, Conv2DTranspose, Concatenate, BatchNormalization, UpSampling2D = keras.layers.Conv2D, keras.layers.MaxPooling2D, keras.layers.Input, keras.layers.Conv2DTranspose, keras.layers.Concatenate, keras.layers.BatchNormalization, keras.layers.UpSampling2D\n",
    "Dropout, Activation = keras.layers.Dropout, keras.layers.Activation\n",
    "Adam, SGD = keras.optimizers.Adam, keras.optimizers.SGD\n",
    "ModelCheckpoint, ReduceLROnPlateau, EarlyStopping = keras.callbacks.ModelCheckpoint, keras.callbacks. ReduceLROnPlateau, keras.callbacks.EarlyStopping\n",
    "K = keras.backend\n",
    "plot_model = keras.utils.plot_model\n",
    "\n",
    "import glob\n",
    "import random\n",
    "import cv2\n",
    "from random import shuffle"
   ]
  },
  {
   "cell_type": "markdown",
   "metadata": {
    "colab_type": "text",
    "id": "aOpRsS-TzhRg"
   },
   "source": [
    "# Dataset\n",
    "\n",
    "We will use the The Oxford-IIIT Pet Dataset. It contains 37 classes of dogs and cats with around 200 images per each class. The dataset contains labels as bounding boxes and segmentation masks. The total number of images in the dataset is a little more than 7K. \n",
    "\n",
    "![alt text](http://www.robots.ox.ac.uk/~vgg/data/pets/pet_annotations.jpg)\n",
    "\n",
    "Download the images/masks and unzip the files "
   ]
  },
  {
   "cell_type": "code",
   "execution_count": 3,
   "metadata": {},
   "outputs": [
    {
     "data": {
      "text/plain": [
       "(501, 501)"
      ]
     },
     "execution_count": 3,
     "metadata": {},
     "output_type": "execute_result"
    }
   ],
   "source": [
    "t = Image.open(\"binary/0.png\")\n",
    "i = np.array(t)\n",
    "i = i[:,:,0]\n",
    "i.shape"
   ]
  },
  {
   "cell_type": "markdown",
   "metadata": {
    "colab_type": "text",
    "id": "gF9UZdcr0Xkq"
   },
   "source": [
    "Note that we have two foulders. The first one is `images` which contains the raw images and annotation which contains the masks as a `binary` foulder image."
   ]
  },
  {
   "cell_type": "markdown",
   "metadata": {
    "colab_type": "text",
    "id": "tavQ2-MJ0x9E"
   },
   "source": [
    "# Generators"
   ]
  },
  {
   "cell_type": "code",
   "execution_count": 4,
   "metadata": {
    "colab": {},
    "colab_type": "code",
    "executionInfo": {
     "elapsed": 613,
     "status": "ok",
     "timestamp": 1595263414609,
     "user": {
      "displayName": "Felrugo",
      "photoUrl": "https://lh3.googleusercontent.com/a-/AOh14GiEZYCHDckrxx9NlTyMjHwT3AV1Xr35LocC6wp5=s64",
      "userId": "06350835367473888493"
     },
     "user_tz": -120
    },
    "id": "P8tq55g677wp"
   },
   "outputs": [],
   "source": [
    "def image_generator(files, batch_size = 32, sz = (256, 256)):\n",
    "  \n",
    "  while True: \n",
    "    \n",
    "    #extract a random batch \n",
    "    batch = np.random.choice(files, size = batch_size)    \n",
    "    \n",
    "    #variables for collecting batches of inputs and outputs \n",
    "    batch_x = []\n",
    "    batch_y = []\n",
    "    \n",
    "    \n",
    "    for f in batch:\n",
    "\n",
    "        #get the masks. Note that masks are png files \n",
    "        mask = Image.open(f'roots/{f}.png')\n",
    "        mask = np.array(mask.resize(sz))\n",
    "\n",
    "\n",
    "        #preprocess the mask \n",
    "        mask[mask == 0] = 0 \n",
    "        mask[mask != 0 ] = 1\n",
    "        \n",
    "        batch_y.append(mask)\n",
    "\n",
    "        #preprocess the raw images \n",
    "        raw = Image.open(f'original/{f}.png')\n",
    "        raw = raw.resize(sz)\n",
    "        raw = np.array(raw)\n",
    "\n",
    "        #check the number of channels because some of the images are RGBA or GRAY\n",
    "        if len(raw.shape) == 2:\n",
    "          raw = np.stack((raw,)*3, axis=-1)\n",
    "\n",
    "        else:\n",
    "          raw = raw[:,:,0:3]\n",
    "\n",
    "        batch_x.append(raw)\n",
    "\n",
    "    #preprocess a batch of images and masks \n",
    "    batch_x = np.array(batch_x)/255.\n",
    "    batch_y = np.array(batch_y)\n",
    "    batch_y = np.stack((batch_y,)*3, axis=-1)\n",
    "    #batch_y = np.expand_dims(batch_y,3)\n",
    "\n",
    "    yield (batch_x, batch_y)      \n",
    "    "
   ]
  },
  {
   "cell_type": "code",
   "execution_count": 5,
   "metadata": {
    "colab": {},
    "colab_type": "code",
    "executionInfo": {
     "elapsed": 493,
     "status": "ok",
     "timestamp": 1595263428997,
     "user": {
      "displayName": "Felrugo",
      "photoUrl": "https://lh3.googleusercontent.com/a-/AOh14GiEZYCHDckrxx9NlTyMjHwT3AV1Xr35LocC6wp5=s64",
      "userId": "06350835367473888493"
     },
     "user_tz": -120
    },
    "id": "PvwbmS-YTHEZ"
   },
   "outputs": [],
   "source": [
    "batch_size = 32\n",
    "\n",
    "all_files = [i for i in range(4049)]\n",
    "shuffle(all_files)\n",
    "\n",
    "split = int(0.95 * len(all_files))\n",
    "\n",
    "#split into training and testing\n",
    "train_files = all_files[0:split]\n",
    "test_files  = all_files[split:]\n",
    "\n",
    "train_generator = image_generator(train_files, batch_size = batch_size)\n",
    "test_generator  = image_generator(test_files, batch_size = batch_size)"
   ]
  },
  {
   "cell_type": "code",
   "execution_count": 6,
   "metadata": {
    "colab": {},
    "colab_type": "code",
    "executionInfo": {
     "elapsed": 696,
     "status": "ok",
     "timestamp": 1595263437844,
     "user": {
      "displayName": "Felrugo",
      "photoUrl": "https://lh3.googleusercontent.com/a-/AOh14GiEZYCHDckrxx9NlTyMjHwT3AV1Xr35LocC6wp5=s64",
      "userId": "06350835367473888493"
     },
     "user_tz": -120
    },
    "id": "yn_bdWgIuRHD"
   },
   "outputs": [],
   "source": [
    "x, y= next(train_generator)"
   ]
  },
  {
   "cell_type": "code",
   "execution_count": 7,
   "metadata": {},
   "outputs": [
    {
     "data": {
      "text/plain": [
       "(32, 256, 256, 3)"
      ]
     },
     "execution_count": 7,
     "metadata": {},
     "output_type": "execute_result"
    }
   ],
   "source": [
    "y.shape"
   ]
  },
  {
   "cell_type": "code",
   "execution_count": 8,
   "metadata": {
    "colab": {
     "base_uri": "https://localhost:8080/",
     "height": 160
    },
    "colab_type": "code",
    "executionInfo": {
     "elapsed": 566,
     "status": "ok",
     "timestamp": 1595263449991,
     "user": {
      "displayName": "Felrugo",
      "photoUrl": "https://lh3.googleusercontent.com/a-/AOh14GiEZYCHDckrxx9NlTyMjHwT3AV1Xr35LocC6wp5=s64",
      "userId": "06350835367473888493"
     },
     "user_tz": -120
    },
    "id": "jnuNW20FeupL",
    "outputId": "6fb4e0c2-f495-4156-dbde-f18fcc64ae2b"
   },
   "outputs": [
    {
     "data": {
      "text/plain": [
       "<matplotlib.image.AxesImage at 0x166f283cac8>"
      ]
     },
     "execution_count": 8,
     "metadata": {},
     "output_type": "execute_result"
    },
    {
     "data": {
      "image/png": "[encoded data removed]",
      "text/plain": [
       "<Figure size 432x288 with 1 Axes>"
      ]
     },
     "metadata": {
      "needs_background": "light"
     },
     "output_type": "display_data"
    }
   ],
   "source": [
    "plt.axis('off')\n",
    "img = x[0]\n",
    "msk = y[0].squeeze()\n",
    "#msk = np.stack((msk,)*3, axis=-1)\n",
    "\n",
    "plt.imshow( np.concatenate([img, msk, img*msk], axis = 1))"
   ]
  },
  {
   "cell_type": "markdown",
   "metadata": {
    "colab_type": "text",
    "id": "raXLOfBk1pLV"
   },
   "source": [
    "# IoU metric\n",
    "\n",
    "The intersection over union (IoU) metric is a simple metric used to evaluate the performance of a segmentation algorithm. Given two masks $y_{true}, y_{pred}$ we evaluate \n",
    "\n",
    "$$IoU = \\frac{y_{true} \\cap y_{pred}}{y_{true} \\cup y_{pred}}$$"
   ]
  },
  {
   "cell_type": "code",
   "execution_count": 9,
   "metadata": {
    "colab": {},
    "colab_type": "code",
    "executionInfo": {
     "elapsed": 759,
     "status": "ok",
     "timestamp": 1595263562205,
     "user": {
      "displayName": "Felrugo",
      "photoUrl": "https://lh3.googleusercontent.com/a-/AOh14GiEZYCHDckrxx9NlTyMjHwT3AV1Xr35LocC6wp5=s64",
      "userId": "06350835367473888493"
     },
     "user_tz": -120
    },
    "id": "xJLriYXX1oZU"
   },
   "outputs": [],
   "source": [
    "def mean_iou(y_true, y_pred):\n",
    "    yt0 = y_true[:,:,:,0]\n",
    "    yp0 = K.cast(y_pred[:,:,:,0] > 0.5, 'float32')\n",
    "    inter = tf.math.count_nonzero(tf.logical_and(tf.equal(yt0, 1), tf.equal(yp0, 1)))\n",
    "    union = tf.math.count_nonzero(tf.add(yt0, yp0))\n",
    "    iou = tf.where(tf.equal(union, 0), 1., tf.cast(inter/union, 'float32'))\n",
    "    return iou"
   ]
  },
  {
   "cell_type": "markdown",
   "metadata": {
    "colab_type": "text",
    "id": "160g6Ex41r-2"
   },
   "source": [
    "# Model"
   ]
  },
  {
   "cell_type": "code",
   "execution_count": 10,
   "metadata": {
    "colab": {},
    "colab_type": "code",
    "executionInfo": {
     "elapsed": 598,
     "status": "ok",
     "timestamp": 1595263562777,
     "user": {
      "displayName": "Felrugo",
      "photoUrl": "https://lh3.googleusercontent.com/a-/AOh14GiEZYCHDckrxx9NlTyMjHwT3AV1Xr35LocC6wp5=s64",
      "userId": "06350835367473888493"
     },
     "user_tz": -120
    },
    "id": "hONrrUbW9CM_"
   },
   "outputs": [],
   "source": [
    "def unet(sz = (256, 256, 3)):\n",
    "  x = Input(sz)\n",
    "  inputs = x\n",
    "  \n",
    "  #down sampling \n",
    "  f = 8\n",
    "  layers = []\n",
    "  \n",
    "  for i in range(0, 6):\n",
    "    x = Conv2D(f, 3, activation='relu', padding='same') (x)\n",
    "    x = Conv2D(f, 3, activation='relu', padding='same') (x)\n",
    "    layers.append(x)\n",
    "    x = MaxPooling2D() (x)\n",
    "    f = f*2\n",
    "  ff2 = 64 \n",
    "  \n",
    "  #bottleneck \n",
    "  j = len(layers) - 1\n",
    "  x = Conv2D(f, 3, activation='relu', padding='same') (x)\n",
    "  x = Conv2D(f, 3, activation='relu', padding='same') (x)\n",
    "  x = Conv2DTranspose(ff2, 2, strides=(2, 2), padding='same') (x)\n",
    "  x = Concatenate(axis=3)([x, layers[j]])\n",
    "  j = j -1 \n",
    "  \n",
    "  #upsampling \n",
    "  for i in range(0, 5):\n",
    "    ff2 = ff2//2\n",
    "    f = f // 2 \n",
    "    x = Conv2D(f, 3, activation='relu', padding='same') (x)\n",
    "    x = Conv2D(f, 3, activation='relu', padding='same') (x)\n",
    "    x = Conv2DTranspose(ff2, 2, strides=(2, 2), padding='same') (x)\n",
    "    x = Concatenate(axis=3)([x, layers[j]])\n",
    "    j = j -1 \n",
    "    \n",
    "  \n",
    "  #classification \n",
    "  x = Conv2D(f, 3, activation='relu', padding='same') (x)\n",
    "  x = Conv2D(f, 3, activation='relu', padding='same') (x)\n",
    "  outputs = Conv2D(1, 1, activation='sigmoid') (x)\n",
    "  \n",
    "  #model creation \n",
    "  model = Model(inputs=[inputs], outputs=[outputs])\n",
    "  model.compile(optimizer = 'rmsprop', loss = 'binary_crossentropy', metrics = [mean_iou])\n",
    "  \n",
    "  return model"
   ]
  },
  {
   "cell_type": "code",
   "execution_count": 11,
   "metadata": {
    "colab": {},
    "colab_type": "code",
    "executionInfo": {
     "elapsed": 953,
     "status": "ok",
     "timestamp": 1595263563931,
     "user": {
      "displayName": "Felrugo",
      "photoUrl": "https://lh3.googleusercontent.com/a-/AOh14GiEZYCHDckrxx9NlTyMjHwT3AV1Xr35LocC6wp5=s64",
      "userId": "06350835367473888493"
     },
     "user_tz": -120
    },
    "id": "67Fyeczk_zzh"
   },
   "outputs": [],
   "source": [
    "model = unet()"
   ]
  },
  {
   "cell_type": "markdown",
   "metadata": {
    "colab_type": "text",
    "id": "t7QY8rgO1zUU"
   },
   "source": [
    "# Callbacks\n",
    "\n",
    "Simple functions to save the model at each epoch and show some predictions "
   ]
  },
  {
   "cell_type": "code",
   "execution_count": 12,
   "metadata": {
    "colab": {},
    "colab_type": "code",
    "executionInfo": {
     "elapsed": 601,
     "status": "ok",
     "timestamp": 1595263569621,
     "user": {
      "displayName": "Felrugo",
      "photoUrl": "https://lh3.googleusercontent.com/a-/AOh14GiEZYCHDckrxx9NlTyMjHwT3AV1Xr35LocC6wp5=s64",
      "userId": "06350835367473888493"
     },
     "user_tz": -120
    },
    "id": "xfqXmNuc9lWZ"
   },
   "outputs": [],
   "source": [
    "def build_callbacks():\n",
    "        checkpointer = ModelCheckpoint(filepath='unet.h5', verbose=0, save_best_only=True, save_weights_only=True)\n",
    "        callbacks = [checkpointer, PlotLearning()]\n",
    "        return callbacks\n",
    "\n",
    "# inheritance for training process plot \n",
    "class PlotLearning(keras.callbacks.Callback):\n",
    "\n",
    "    def on_train_begin(self, logs={}):\n",
    "        self.i = 0\n",
    "        self.x = []\n",
    "        self.losses = []\n",
    "        self.val_losses = []\n",
    "        self.acc = []\n",
    "        self.val_acc = []\n",
    "        #self.fig = plt.figure()\n",
    "        self.logs = []\n",
    "    def on_epoch_end(self, epoch, logs={}):\n",
    "        self.logs.append(logs)\n",
    "        self.x.append(self.i)\n",
    "        self.losses.append(logs.get('loss'))\n",
    "        self.val_losses.append(logs.get('val_loss'))\n",
    "        self.acc.append(logs.get('mean_iou'))\n",
    "        self.val_acc.append(logs.get('val_mean_iou'))\n",
    "        self.i += 1\n",
    "        print('i=',self.i,'loss=',logs.get('loss'),'val_loss=',logs.get('val_loss'),'mean_iou=',logs.get('mean_iou'),'val_mean_iou=',logs.get('val_mean_iou'))\n",
    "        \n",
    "        #choose a random test image and preprocess\n",
    "        path = np.random.choice(test_files)\n",
    "        raw = Image.open(f'original/{path}.png')\n",
    "        raw = np.array(raw.resize((256, 256)))/255.\n",
    "        raw = raw[:,:,0:3]\n",
    "        \n",
    "        truemsk = Image.open(f'roots/{path}.png')\n",
    "        truemsk = np.array(truemsk.resize((256, 256)))/255.\n",
    "        truemsk = np.stack((truemsk,)*3, axis=-1)\n",
    "        \n",
    "        #predict the mask \n",
    "        pred = model.predict(np.expand_dims(raw, 0))\n",
    "        \n",
    "        #mask post-processing \n",
    "        msk  = pred.squeeze()\n",
    "        msk = np.stack((msk,)*3, axis=-1)\n",
    "        msk[msk >= 0.5] = 1 \n",
    "        msk[msk < 0.5] = 0 \n",
    "        \n",
    "        #show the mask and the segmented image \n",
    "        combined = np.concatenate([raw, msk, truemsk, raw* msk], axis = 1)\n",
    "        plt.axis('off')\n",
    "        plt.imshow(combined)\n",
    "        plt.show()"
   ]
  },
  {
   "cell_type": "markdown",
   "metadata": {
    "colab_type": "text",
    "id": "sU6SPuVY8Mdc"
   },
   "source": [
    "# Training"
   ]
  },
  {
   "cell_type": "code",
   "execution_count": 15,
   "metadata": {
    "colab": {
     "base_uri": "https://localhost:8080/",
     "height": 1000
    },
    "colab_type": "code",
    "executionInfo": {
     "elapsed": 3220431,
     "status": "ok",
     "timestamp": 1595266792874,
     "user": {
      "displayName": "Felrugo",
      "photoUrl": "https://lh3.googleusercontent.com/a-/AOh14GiEZYCHDckrxx9NlTyMjHwT3AV1Xr35LocC6wp5=s64",
      "userId": "06350835367473888493"
     },
     "user_tz": -120
    },
    "id": "_MXGinNg9Wjj",
    "outputId": "dcc87ed7-1cca-4ad2-d34c-b44abaaa33b2"
   },
   "outputs": [
    {
     "name": "stdout",
     "output_type": "stream",
     "text": [
      "WARNING:tensorflow:sample_weight modes were coerced from\n",
      "  ...\n",
      "    to  \n",
      "  ['...']\n",
      "WARNING:tensorflow:sample_weight modes were coerced from\n",
      "  ...\n",
      "    to  \n",
      "  ['...']\n",
      "Train for 120 steps, validate for 6 steps\n",
      "Epoch 1/30\n",
      "119/120 [============================>.] - ETA: 3s - loss: 0.0022 - mean_iou: 0.3523i= 1 loss= 0.0021582357013054812 val_loss= 0.001347079504436503 mean_iou= 0.3551193 val_mean_iou= 0.54685205\n"
     ]
    },
    {
     "data": {
      "image/png": "[encoded data removed]",
      "text/plain": [
       "<Figure size 432x288 with 1 Axes>"
      ]
     },
     "metadata": {
      "needs_background": "light"
     },
     "output_type": "display_data"
    },
    {
     "name": "stdout",
     "output_type": "stream",
     "text": [
      "120/120 [==============================] - 378s 3s/step - loss: 0.0022 - mean_iou: 0.3551 - val_loss: 0.0013 - val_mean_iou: 0.5469\n",
      "Epoch 2/30\n",
      "119/120 [============================>.] - ETA: 3s - loss: 0.0016 - mean_iou: 0.5975i= 2 loss= 0.0016155402054816173 val_loss= 0.0013704815258582432 mean_iou= 0.59686506 val_mean_iou= 0.68343204\n"
     ]
    },
    {
     "data": {
      "image/png": "[encoded data removed]",
      "text/plain": [
       "<Figure size 432x288 with 1 Axes>"
      ]
     },
     "metadata": {
      "needs_background": "light"
     },
     "output_type": "display_data"
    },
    {
     "name": "stdout",
     "output_type": "stream",
     "text": [
      "120/120 [==============================] - 379s 3s/step - loss: 0.0016 - mean_iou: 0.5969 - val_loss: 0.0014 - val_mean_iou: 0.6834\n",
      "Epoch 3/30\n",
      "119/120 [============================>.] - ETA: 3s - loss: 0.0013 - mean_iou: 0.6502i= 3 loss= 0.001346989816132312 val_loss= 0.0015673539601266384 mean_iou= 0.6505226 val_mean_iou= 0.6686592\n"
     ]
    },
    {
     "data": {
      "image/png": "[encoded data removed]",
      "text/plain": [
       "<Figure size 432x288 with 1 Axes>"
      ]
     },
     "metadata": {
      "needs_background": "light"
     },
     "output_type": "display_data"
    },
    {
     "name": "stdout",
     "output_type": "stream",
     "text": [
      "120/120 [==============================] - 388s 3s/step - loss: 0.0013 - mean_iou: 0.6505 - val_loss: 0.0016 - val_mean_iou: 0.6687\n",
      "Epoch 4/30\n",
      "119/120 [============================>.] - ETA: 3s - loss: 0.0012 - mean_iou: 0.6920i= 4 loss= 0.0012060042407635288 val_loss= 0.001070542901288718 mean_iou= 0.69282174 val_mean_iou= 0.7392428\n"
     ]
    },
    {
     "data": {
      "image/png": "[encoded data removed]",
      "text/plain": [
       "<Figure size 432x288 with 1 Axes>"
      ]
     },
     "metadata": {
      "needs_background": "light"
     },
     "output_type": "display_data"
    },
    {
     "name": "stdout",
     "output_type": "stream",
     "text": [
      "120/120 [==============================] - 400s 3s/step - loss: 0.0012 - mean_iou: 0.6928 - val_loss: 0.0011 - val_mean_iou: 0.7392\n",
      "Epoch 5/30\n",
      "119/120 [============================>.] - ETA: 3s - loss: 0.0011 - mean_iou: 0.7135i= 5 loss= 0.0010927156419105208 val_loss= 0.0011993750037314992 mean_iou= 0.71420115 val_mean_iou= 0.6685989\n"
     ]
    },
    {
     "data": {
      "image/png": "[encoded data removed]",
      "text/plain": [
       "<Figure size 432x288 with 1 Axes>"
      ]
     },
     "metadata": {
      "needs_background": "light"
     },
     "output_type": "display_data"
    },
    {
     "name": "stdout",
     "output_type": "stream",
     "text": [
      "120/120 [==============================] - 387s 3s/step - loss: 0.0011 - mean_iou: 0.7142 - val_loss: 0.0012 - val_mean_iou: 0.6686\n",
      "Epoch 6/30\n",
      "119/120 [============================>.] - ETA: 3s - loss: 0.0010 - mean_iou: 0.7152i= 6 loss= 0.0010149233106252116 val_loss= 0.0008686072639344881 mean_iou= 0.7146466 val_mean_iou= 0.7653902\n"
     ]
    },
    {
     "data": {
      "image/png": "[encoded data removed]",
      "text/plain": [
       "<Figure size 432x288 with 1 Axes>"
      ]
     },
     "metadata": {
      "needs_background": "light"
     },
     "output_type": "display_data"
    },
    {
     "name": "stdout",
     "output_type": "stream",
     "text": [
      "120/120 [==============================] - 384s 3s/step - loss: 0.0010 - mean_iou: 0.7146 - val_loss: 8.6861e-04 - val_mean_iou: 0.7654\n",
      "Epoch 7/30\n",
      "119/120 [============================>.] - ETA: 3s - loss: 9.0239e-04 - mean_iou: 0.7431i= 7 loss= 0.0009021280469217648 val_loss= 0.0008697595136861006 mean_iou= 0.7428755 val_mean_iou= 0.74790674\n"
     ]
    },
    {
     "data": {
      "image/png": "[encoded data removed]",
      "text/plain": [
       "<Figure size 432x288 with 1 Axes>"
      ]
     },
     "metadata": {
      "needs_background": "light"
     },
     "output_type": "display_data"
    },
    {
     "name": "stdout",
     "output_type": "stream",
     "text": [
      "120/120 [==============================] - 377s 3s/step - loss: 9.0213e-04 - mean_iou: 0.7429 - val_loss: 8.6976e-04 - val_mean_iou: 0.7479\n",
      "Epoch 8/30\n",
      "119/120 [============================>.] - ETA: 3s - loss: 9.1885e-04 - mean_iou: 0.7445i= 8 loss= 0.0009172623133054004 val_loss= 0.0007818215623653183 mean_iou= 0.7449283 val_mean_iou= 0.779933\n"
     ]
    },
    {
     "data": {
      "image/png": "[encoded data removed]",
      "text/plain": [
       "<Figure size 432x288 with 1 Axes>"
      ]
     },
     "metadata": {
      "needs_background": "light"
     },
     "output_type": "display_data"
    },
    {
     "name": "stdout",
     "output_type": "stream",
     "text": [
      "120/120 [==============================] - 377s 3s/step - loss: 9.1726e-04 - mean_iou: 0.7449 - val_loss: 7.8182e-04 - val_mean_iou: 0.7799\n",
      "Epoch 9/30\n",
      "119/120 [============================>.] - ETA: 3s - loss: 8.4050e-04 - mean_iou: 0.7589i= 9 loss= 0.0008381717804392489 val_loss= 0.0007848434324841946 mean_iou= 0.7594081 val_mean_iou= 0.77776784\n"
     ]
    },
    {
     "data": {
      "image/png": "[encoded data removed]",
      "text/plain": [
       "<Figure size 432x288 with 1 Axes>"
      ]
     },
     "metadata": {
      "needs_background": "light"
     },
     "output_type": "display_data"
    },
    {
     "name": "stdout",
     "output_type": "stream",
     "text": [
      "120/120 [==============================] - 384s 3s/step - loss: 8.3817e-04 - mean_iou: 0.7594 - val_loss: 7.8484e-04 - val_mean_iou: 0.7778\n",
      "Epoch 10/30\n",
      "119/120 [============================>.] - ETA: 3s - loss: 7.9767e-04 - mean_iou: 0.7666i= 10 loss= 0.000797472219953003 val_loss= 0.000814141375788798 mean_iou= 0.7668125 val_mean_iou= 0.7553076\n"
     ]
    },
    {
     "data": {
      "image/png": "[encoded data removed]",
      "text/plain": [
       "<Figure size 432x288 with 1 Axes>"
      ]
     },
     "metadata": {
      "needs_background": "light"
     },
     "output_type": "display_data"
    },
    {
     "name": "stdout",
     "output_type": "stream",
     "text": [
      "120/120 [==============================] - 405s 3s/step - loss: 7.9747e-04 - mean_iou: 0.7668 - val_loss: 8.1414e-04 - val_mean_iou: 0.7553\n",
      "Epoch 11/30\n",
      "119/120 [============================>.] - ETA: 3s - loss: 7.4576e-04 - mean_iou: 0.7817i= 11 loss= 0.0007442136654087032 val_loss= 0.0007587285460128138 mean_iou= 0.78205025 val_mean_iou= 0.78333235\n"
     ]
    },
    {
     "data": {
      "image/png": "[encoded data removed]",
      "text/plain": [
       "<Figure size 432x288 with 1 Axes>"
      ]
     },
     "metadata": {
      "needs_background": "light"
     },
     "output_type": "display_data"
    },
    {
     "name": "stdout",
     "output_type": "stream",
     "text": [
      "120/120 [==============================] - 439s 4s/step - loss: 7.4421e-04 - mean_iou: 0.7821 - val_loss: 7.5873e-04 - val_mean_iou: 0.7833\n",
      "Epoch 12/30\n",
      "119/120 [============================>.] - ETA: 3s - loss: 6.9583e-04 - mean_iou: 0.7904i= 12 loss= 0.0006946431019362838 val_loss= 0.0006293827415599177 mean_iou= 0.79034734 val_mean_iou= 0.81589085\n"
     ]
    },
    {
     "data": {
      "image/png": "[encoded data removed]",
      "text/plain": [
       "<Figure size 432x288 with 1 Axes>"
      ]
     },
     "metadata": {
      "needs_background": "light"
     },
     "output_type": "display_data"
    },
    {
     "name": "stdout",
     "output_type": "stream",
     "text": [
      "120/120 [==============================] - 419s 3s/step - loss: 6.9464e-04 - mean_iou: 0.7903 - val_loss: 6.2938e-04 - val_mean_iou: 0.8159\n",
      "Epoch 13/30\n",
      "119/120 [============================>.] - ETA: 3s - loss: 6.5771e-04 - mean_iou: 0.7988i= 13 loss= 0.0006567428950802423 val_loss= 0.0006887071649543941 mean_iou= 0.7989176 val_mean_iou= 0.8043246\n"
     ]
    },
    {
     "data": {
      "image/png": "[encoded data removed]",
      "text/plain": [
       "<Figure size 432x288 with 1 Axes>"
      ]
     },
     "metadata": {
      "needs_background": "light"
     },
     "output_type": "display_data"
    },
    {
     "name": "stdout",
     "output_type": "stream",
     "text": [
      "120/120 [==============================] - 408s 3s/step - loss: 6.5674e-04 - mean_iou: 0.7989 - val_loss: 6.8871e-04 - val_mean_iou: 0.8043\n",
      "Epoch 14/30\n",
      "119/120 [============================>.] - ETA: 3s - loss: 6.2625e-04 - mean_iou: 0.8088i= 14 loss= 0.0006254727552004625 val_loss= 0.0005594841786660254 mean_iou= 0.8089817 val_mean_iou= 0.8391859\n"
     ]
    },
    {
     "data": {
      "image/png": "[encoded data removed]",
      "text/plain": [
       "<Figure size 432x288 with 1 Axes>"
      ]
     },
     "metadata": {
      "needs_background": "light"
     },
     "output_type": "display_data"
    },
    {
     "name": "stdout",
     "output_type": "stream",
     "text": [
      "120/120 [==============================] - 398s 3s/step - loss: 6.2547e-04 - mean_iou: 0.8090 - val_loss: 5.5948e-04 - val_mean_iou: 0.8392\n",
      "Epoch 15/30\n",
      "119/120 [============================>.] - ETA: 3s - loss: 6.1980e-04 - mean_iou: 0.8162i= 15 loss= 0.0006215734147796563 val_loss= 0.0007336281899673244 mean_iou= 0.81617826 val_mean_iou= 0.81652546\n"
     ]
    },
    {
     "data": {
      "image/png": "[encoded data removed]",
      "text/plain": [
       "<Figure size 432x288 with 1 Axes>"
      ]
     },
     "metadata": {
      "needs_background": "light"
     },
     "output_type": "display_data"
    },
    {
     "name": "stdout",
     "output_type": "stream",
     "text": [
      "120/120 [==============================] - 407s 3s/step - loss: 6.2157e-04 - mean_iou: 0.8162 - val_loss: 7.3363e-04 - val_mean_iou: 0.8165\n",
      "Epoch 16/30\n",
      "119/120 [============================>.] - ETA: 3s - loss: 5.8580e-04 - mean_iou: 0.8218i= 16 loss= 0.0005851696737712094 val_loss= 0.0006664492733155688 mean_iou= 0.8218594 val_mean_iou= 0.8194318\n"
     ]
    },
    {
     "data": {
      "image/png": "[encoded data removed]",
      "text/plain": [
       "<Figure size 432x288 with 1 Axes>"
      ]
     },
     "metadata": {
      "needs_background": "light"
     },
     "output_type": "display_data"
    },
    {
     "name": "stdout",
     "output_type": "stream",
     "text": [
      "120/120 [==============================] - 399s 3s/step - loss: 5.8517e-04 - mean_iou: 0.8219 - val_loss: 6.6645e-04 - val_mean_iou: 0.8194\n",
      "Epoch 17/30\n",
      "119/120 [============================>.] - ETA: 3s - loss: 5.6786e-04 - mean_iou: 0.8187i= 17 loss= 0.0005669069874177997 val_loss= 0.0005513901511828104 mean_iou= 0.81917375 val_mean_iou= 0.8239481\n"
     ]
    },
    {
     "data": {
      "image/png": "[encoded data removed]",
      "text/plain": [
       "<Figure size 432x288 with 1 Axes>"
      ]
     },
     "metadata": {
      "needs_background": "light"
     },
     "output_type": "display_data"
    },
    {
     "name": "stdout",
     "output_type": "stream",
     "text": [
      "120/120 [==============================] - 397s 3s/step - loss: 5.6691e-04 - mean_iou: 0.8192 - val_loss: 5.5139e-04 - val_mean_iou: 0.8239\n",
      "Epoch 18/30\n",
      "119/120 [============================>.] - ETA: 3s - loss: 5.9613e-04 - mean_iou: 0.8244i= 18 loss= 0.0005946726298134309 val_loss= 0.0005931753112236038 mean_iou= 0.82463926 val_mean_iou= 0.83435243\n"
     ]
    },
    {
     "data": {
      "image/png": "[encoded data removed]",
      "text/plain": [
       "<Figure size 432x288 with 1 Axes>"
      ]
     },
     "metadata": {
      "needs_background": "light"
     },
     "output_type": "display_data"
    },
    {
     "name": "stdout",
     "output_type": "stream",
     "text": [
      "120/120 [==============================] - 399s 3s/step - loss: 5.9467e-04 - mean_iou: 0.8246 - val_loss: 5.9318e-04 - val_mean_iou: 0.8344\n",
      "Epoch 19/30\n",
      "119/120 [============================>.] - ETA: 3s - loss: 5.3269e-04 - mean_iou: 0.8331i= 19 loss= 0.0005325785270542838 val_loss= 0.0006059433508198708 mean_iou= 0.8329798 val_mean_iou= 0.8278768\n"
     ]
    },
    {
     "data": {
      "image/png": "[encoded data removed]",
      "text/plain": [
       "<Figure size 432x288 with 1 Axes>"
      ]
     },
     "metadata": {
      "needs_background": "light"
     },
     "output_type": "display_data"
    },
    {
     "name": "stdout",
     "output_type": "stream",
     "text": [
      "120/120 [==============================] - 398s 3s/step - loss: 5.3258e-04 - mean_iou: 0.8330 - val_loss: 6.0594e-04 - val_mean_iou: 0.8279\n",
      "Epoch 20/30\n",
      "119/120 [============================>.] - ETA: 3s - loss: 5.2730e-04 - mean_iou: 0.8363i= 20 loss= 0.0005262729867051045 val_loss= 0.0006021997978677973 mean_iou= 0.836574 val_mean_iou= 0.8448227\n"
     ]
    },
    {
     "data": {
      "image/png": "[encoded data removed]",
      "text/plain": [
       "<Figure size 432x288 with 1 Axes>"
      ]
     },
     "metadata": {
      "needs_background": "light"
     },
     "output_type": "display_data"
    },
    {
     "name": "stdout",
     "output_type": "stream",
     "text": [
      "120/120 [==============================] - 398s 3s/step - loss: 5.2627e-04 - mean_iou: 0.8366 - val_loss: 6.0220e-04 - val_mean_iou: 0.8448\n",
      "Epoch 21/30\n",
      "119/120 [============================>.] - ETA: 3s - loss: 5.0656e-04 - mean_iou: 0.8415i= 21 loss= 0.0005067860385073194 val_loss= 0.0005636120913550258 mean_iou= 0.84156543 val_mean_iou= 0.8402799\n"
     ]
    },
    {
     "data": {
      "image/png": "[encoded data removed]",
      "text/plain": [
       "<Figure size 432x288 with 1 Axes>"
      ]
     },
     "metadata": {
      "needs_background": "light"
     },
     "output_type": "display_data"
    },
    {
     "name": "stdout",
     "output_type": "stream",
     "text": [
      "120/120 [==============================] - 397s 3s/step - loss: 5.0679e-04 - mean_iou: 0.8416 - val_loss: 5.6361e-04 - val_mean_iou: 0.8403\n",
      "Epoch 22/30\n",
      "119/120 [============================>.] - ETA: 3s - loss: 4.9504e-04 - mean_iou: 0.8478i= 22 loss= 0.0004934726292655493 val_loss= 0.0004768960546546926 mean_iou= 0.84802276 val_mean_iou= 0.8629536\n"
     ]
    },
    {
     "data": {
      "image/png": "[encoded data removed]",
      "text/plain": [
       "<Figure size 432x288 with 1 Axes>"
      ]
     },
     "metadata": {
      "needs_background": "light"
     },
     "output_type": "display_data"
    },
    {
     "name": "stdout",
     "output_type": "stream",
     "text": [
      "120/120 [==============================] - 395s 3s/step - loss: 4.9347e-04 - mean_iou: 0.8480 - val_loss: 4.7690e-04 - val_mean_iou: 0.8630\n",
      "Epoch 23/30\n",
      "119/120 [============================>.] - ETA: 3s - loss: 4.6605e-04 - mean_iou: 0.8521i= 23 loss= 0.0004653671281024193 val_loss= 0.0004929466861843442 mean_iou= 0.8522087 val_mean_iou= 0.85005254\n"
     ]
    },
    {
     "data": {
      "image/png": "[encoded data removed]",
      "text/plain": [
       "<Figure size 432x288 with 1 Axes>"
      ]
     },
     "metadata": {
      "needs_background": "light"
     },
     "output_type": "display_data"
    },
    {
     "name": "stdout",
     "output_type": "stream",
     "text": [
      "120/120 [==============================] - 396s 3s/step - loss: 4.6537e-04 - mean_iou: 0.8522 - val_loss: 4.9295e-04 - val_mean_iou: 0.8501\n",
      "Epoch 24/30\n",
      "119/120 [============================>.] - ETA: 3s - loss: 4.8290e-04 - mean_iou: 0.8488i= 24 loss= 0.0004819643004642179 val_loss= 0.0005901694288089251 mean_iou= 0.849044 val_mean_iou= 0.84785146\n"
     ]
    },
    {
     "data": {
      "image/png": "[encoded data removed]",
      "text/plain": [
       "<Figure size 432x288 with 1 Axes>"
      ]
     },
     "metadata": {
      "needs_background": "light"
     },
     "output_type": "display_data"
    },
    {
     "name": "stdout",
     "output_type": "stream",
     "text": [
      "120/120 [==============================] - 395s 3s/step - loss: 4.8196e-04 - mean_iou: 0.8490 - val_loss: 5.9017e-04 - val_mean_iou: 0.8479\n",
      "Epoch 25/30\n",
      "119/120 [============================>.] - ETA: 3s - loss: 4.7393e-04 - mean_iou: 0.8529i= 25 loss= 0.0004724125436041504 val_loss= 0.0006044786423444748 mean_iou= 0.8531651 val_mean_iou= 0.85559803\n"
     ]
    },
    {
     "data": {
      "image/png": "[encoded data removed]",
      "text/plain": [
       "<Figure size 432x288 with 1 Axes>"
      ]
     },
     "metadata": {
      "needs_background": "light"
     },
     "output_type": "display_data"
    },
    {
     "name": "stdout",
     "output_type": "stream",
     "text": [
      "120/120 [==============================] - 397s 3s/step - loss: 4.7241e-04 - mean_iou: 0.8532 - val_loss: 6.0448e-04 - val_mean_iou: 0.8556\n",
      "Epoch 26/30\n",
      "119/120 [============================>.] - ETA: 3s - loss: 4.7416e-04 - mean_iou: 0.8532i= 26 loss= 0.00047363471191298837 val_loss= 0.0004815900222941612 mean_iou= 0.8531782 val_mean_iou= 0.8638602\n"
     ]
    },
    {
     "data": {
      "image/png": "[encoded data removed]",
      "text/plain": [
       "<Figure size 432x288 with 1 Axes>"
      ]
     },
     "metadata": {
      "needs_background": "light"
     },
     "output_type": "display_data"
    },
    {
     "name": "stdout",
     "output_type": "stream",
     "text": [
      "120/120 [==============================] - 417s 3s/step - loss: 4.7363e-04 - mean_iou: 0.8532 - val_loss: 4.8159e-04 - val_mean_iou: 0.8639\n",
      "Epoch 27/30\n",
      "119/120 [============================>.] - ETA: 3s - loss: 4.4351e-04 - mean_iou: 0.8628i= 27 loss= 0.0004441443799199381 val_loss= 0.0004608018595414857 mean_iou= 0.86245245 val_mean_iou= 0.8490855\n"
     ]
    },
    {
     "data": {
      "image/png": "[encoded data removed]",
      "text/plain": [
       "<Figure size 432x288 with 1 Axes>"
      ]
     },
     "metadata": {
      "needs_background": "light"
     },
     "output_type": "display_data"
    },
    {
     "name": "stdout",
     "output_type": "stream",
     "text": [
      "120/120 [==============================] - 398s 3s/step - loss: 4.4414e-04 - mean_iou: 0.8625 - val_loss: 4.6080e-04 - val_mean_iou: 0.8491\n",
      "Epoch 28/30\n",
      "119/120 [============================>.] - ETA: 3s - loss: 4.1970e-04 - mean_iou: 0.8641i= 28 loss= 0.0004194010483236828 val_loss= 0.0005220320890657604 mean_iou= 0.8640353 val_mean_iou= 0.84235376\n"
     ]
    },
    {
     "data": {
      "image/png": "[encoded data removed]",
      "text/plain": [
       "<Figure size 432x288 with 1 Axes>"
      ]
     },
     "metadata": {
      "needs_background": "light"
     },
     "output_type": "display_data"
    },
    {
     "name": "stdout",
     "output_type": "stream",
     "text": [
      "120/120 [==============================] - 393s 3s/step - loss: 4.1940e-04 - mean_iou: 0.8640 - val_loss: 5.2203e-04 - val_mean_iou: 0.8424\n",
      "Epoch 29/30\n",
      "119/120 [============================>.] - ETA: 3s - loss: 4.2271e-04 - mean_iou: 0.8641i= 29 loss= 0.0004228417987178545 val_loss= 0.0004621550178853795 mean_iou= 0.86397 val_mean_iou= 0.8537043\n"
     ]
    },
    {
     "data": {
      "image/png": "[encoded data removed]",
      "text/plain": [
       "<Figure size 432x288 with 1 Axes>"
      ]
     },
     "metadata": {
      "needs_background": "light"
     },
     "output_type": "display_data"
    },
    {
     "name": "stdout",
     "output_type": "stream",
     "text": [
      "120/120 [==============================] - 394s 3s/step - loss: 4.2284e-04 - mean_iou: 0.8640 - val_loss: 4.6216e-04 - val_mean_iou: 0.8537\n",
      "Epoch 30/30\n",
      "119/120 [============================>.] - ETA: 3s - loss: 4.2988e-04 - mean_iou: 0.8637i= 30 loss= 0.0004317449131728305 val_loss= 0.0006031864662266647 mean_iou= 0.86352295 val_mean_iou= 0.8159411\n"
     ]
    },
    {
     "data": {
      "image/png": "[encoded data removed]",
      "text/plain": [
       "<Figure size 432x288 with 1 Axes>"
      ]
     },
     "metadata": {
      "needs_background": "light"
     },
     "output_type": "display_data"
    },
    {
     "name": "stdout",
     "output_type": "stream",
     "text": [
      "120/120 [==============================] - 396s 3s/step - loss: 4.3174e-04 - mean_iou: 0.8635 - val_loss: 6.0319e-04 - val_mean_iou: 0.8159\n"
     ]
    },
    {
     "data": {
      "text/plain": [
       "<tensorflow.python.keras.callbacks.History at 0x29880d42e88>"
      ]
     },
     "execution_count": 15,
     "metadata": {},
     "output_type": "execute_result"
    }
   ],
   "source": [
    "train_steps = len(train_files) //batch_size\n",
    "test_steps = len(test_files) //batch_size\n",
    "model.fit_generator(train_generator, \n",
    "                    epochs = 30, steps_per_epoch = train_steps,validation_data = test_generator, validation_steps = test_steps,\n",
    "                    callbacks = build_callbacks(), verbose = 1)"
   ]
  },
  {
   "cell_type": "markdown",
   "metadata": {},
   "source": [
    "# Loading"
   ]
  },
  {
   "cell_type": "code",
   "execution_count": 13,
   "metadata": {},
   "outputs": [],
   "source": [
    "model.load_weights(\"unet.h5\")"
   ]
  },
  {
   "cell_type": "code",
   "execution_count": 14,
   "metadata": {},
   "outputs": [],
   "source": [
    "from scipy.spatial.distance import directed_hausdorff\n",
    "from tqdm.notebook import tqdm, trange\n",
    "\n",
    "def vecHausdorff(Y, P):\n",
    "    dist = []\n",
    "    for i in range(Y.shape[0]):\n",
    "        o = directed_hausdorff(Y[i], P[i])[0]\n",
    "        v = directed_hausdorff(P[i], Y[i])[0]\n",
    "        dist.append(max(o,v))\n",
    "        \n",
    "    return np.array(dist)\n",
    "        \n",
    "\n",
    "def pairwise_iou(y_true, y_pred):\n",
    "    yt0 = y_true\n",
    "    yp0 = y_pred\n",
    "    inter = tf.math.count_nonzero(tf.logical_and(tf.equal(yt0, 1), tf.equal(yp0, 1)), axis=(1,2))\n",
    "    union = tf.math.count_nonzero(tf.add(yt0, yp0), axis=(1,2))\n",
    "    iou = tf.where(tf.equal(union, 0), 1., tf.cast(inter/union, 'float32'))\n",
    "    return iou.numpy()\n",
    "\n",
    "def calcMetricsForImges(Y, P):\n",
    "    # X is array of images in RGB\n",
    "    # Y is array of masks in GRAY and Binarised\n",
    "    # P is the predicted mask in GRAY and Binarised\n",
    "    iou = pairwise_iou(Y, P) # IOU, aka. Jaccard index\n",
    "    dice = (2*iou) / (iou + np.ones(iou.shape)) # Dice Coeff\n",
    "    hdorf = vecHausdorff(Y, P)\n",
    "    maskintenseity = np.count_nonzero(Y, axis=(1,2))\n",
    "    predintensity = np.count_nonzero(P, axis=(1,2))\n",
    "    return np.array([iou, dice, hdorf, maskintenseity, predintensity])\n",
    "\n",
    "def processImages(r):\n",
    "    \n",
    "    imgPaths = [f\"original/{i}.png\" for i in r]\n",
    "    mskPaths = [f\"roots/{i}.png\" for i in r]\n",
    "    \n",
    "    outs = []\n",
    "    \n",
    "    for i in range(len(r)):\n",
    "        raw = Image.open(imgPaths[i])\n",
    "        raw = np.array(raw.resize((256, 256)))/255.\n",
    "        raw = raw[:,:,0:3]\n",
    "\n",
    "        truemsk = Image.open(mskPaths[i])\n",
    "        truemsk = np.array(truemsk.resize((256, 256)))/255.\n",
    "        if len(truemsk.shape) > 2:\n",
    "            truemsk = truemsk[:,:,0]\n",
    "        \n",
    "        #predict the mask \n",
    "        pred = model.predict(np.expand_dims(raw, 0))\n",
    "\n",
    "        #mask post-processing \n",
    "        msk  = pred.squeeze()\n",
    "        msk[msk >= 0.5] = 1 \n",
    "        msk[msk < 0.5] = 0\n",
    "        \n",
    "        metrics = calcMetricsForImges(np.array([truemsk,]), np.array([msk,]))\n",
    "        print(f\"IOU: {metrics[0,0]}\")\n",
    "        \n",
    "        diff = truemsk != msk\n",
    "        diff = diff.astype(np.float)\n",
    "        \n",
    "        truemsk = np.stack((truemsk,)*3, axis=-1)\n",
    "        msk = np.stack((msk,)*3, axis=-1)\n",
    "        diff = np.stack((diff,)*3, axis=-1)\n",
    "        #show the mask and the segmented image \n",
    "        \n",
    "        combined = np.concatenate([raw, msk, truemsk, diff], axis = 1)\n",
    "        plt.axis('off')\n",
    "        plt.imshow(combined)\n",
    "        plt.show()"
   ]
  },
  {
   "cell_type": "code",
   "execution_count": 14,
   "metadata": {},
   "outputs": [
    {
     "name": "stdout",
     "output_type": "stream",
     "text": [
      "IOU: 0.27397260069847107\n"
     ]
    },
    {
     "data": {
      "image/png": "[encoded data removed]",
      "text/plain": [
       "<Figure size 432x288 with 1 Axes>"
      ]
     },
     "metadata": {
      "needs_background": "light"
     },
     "output_type": "display_data"
    },
    {
     "name": "stdout",
     "output_type": "stream",
     "text": [
      "IOU: 0.40776699781417847\n"
     ]
    },
    {
     "data": {
      "image/png": "[encoded data removed]",
      "text/plain": [
       "<Figure size 432x288 with 1 Axes>"
      ]
     },
     "metadata": {
      "needs_background": "light"
     },
     "output_type": "display_data"
    },
    {
     "name": "stdout",
     "output_type": "stream",
     "text": [
      "IOU: 0.5179855823516846\n"
     ]
    },
    {
     "data": {
      "image/png": "[encoded data removed]",
      "text/plain": [
       "<Figure size 432x288 with 1 Axes>"
      ]
     },
     "metadata": {
      "needs_background": "light"
     },
     "output_type": "display_data"
    },
    {
     "name": "stdout",
     "output_type": "stream",
     "text": [
      "IOU: 0.35374149680137634\n"
     ]
    },
    {
     "data": {
      "image/png": "[encoded data removed]",
      "text/plain": [
       "<Figure size 432x288 with 1 Axes>"
      ]
     },
     "metadata": {
      "needs_background": "light"
     },
     "output_type": "display_data"
    }
   ],
   "source": [
    "res = processImages([500, 1000, 1500, 3000])"
   ]
  },
  {
   "cell_type": "code",
   "execution_count": 15,
   "metadata": {},
   "outputs": [
    {
     "ename": "TypeError",
     "evalue": "'NoneType' object is not subscriptable",
     "output_type": "error",
     "traceback": [
      "\u001b[1;31m---------------------------------------------------------------------------\u001b[0m",
      "\u001b[1;31mTypeError\u001b[0m                                 Traceback (most recent call last)",
      "\u001b[1;32m<ipython-input-15-176bdc8fb30a>\u001b[0m in \u001b[0;36m<module>\u001b[1;34m\u001b[0m\n\u001b[1;32m----> 1\u001b[1;33m \u001b[0mres\u001b[0m\u001b[1;33m[\u001b[0m\u001b[1;36m0\u001b[0m\u001b[1;33m]\u001b[0m\u001b[1;33m.\u001b[0m\u001b[0mshape\u001b[0m\u001b[1;33m\u001b[0m\u001b[1;33m\u001b[0m\u001b[0m\n\u001b[0m",
      "\u001b[1;31mTypeError\u001b[0m: 'NoneType' object is not subscriptable"
     ]
    }
   ],
   "source": [
    "res[0].shape"
   ]
  },
  {
   "cell_type": "markdown",
   "metadata": {
    "colab_type": "text",
    "id": "0O5zCKBr8OZ1"
   },
   "source": [
    "# Testing and Validating"
   ]
  },
  {
   "cell_type": "code",
   "execution_count": 15,
   "metadata": {},
   "outputs": [
    {
     "data": {
      "text/plain": [
       "(0.0, 158, 247)"
      ]
     },
     "execution_count": 15,
     "metadata": {},
     "output_type": "execute_result"
    }
   ],
   "source": [
    "arr = pairwise_iou(np.array([img,msk]), np.array([msk,msk]))\n",
    "directed_hausdorff(msk[:,0], msk[:,0])"
   ]
  },
  {
   "cell_type": "code",
   "execution_count": 16,
   "metadata": {},
   "outputs": [],
   "source": [
    "\n",
    "\n",
    "def validateTrainImages(model, r):\n",
    "    imgPaths = [f\"original/{i}.png\" for i in r]\n",
    "    mskPaths = [f\"roots/{i}.png\" for i in r]\n",
    "    \n",
    "    \n",
    "    masks = []\n",
    "    preds = []\n",
    "    for i in trange(len(imgPaths)):\n",
    "        raw = Image.open(imgPaths[i])\n",
    "        raw = np.array(raw.resize((256, 256)))/255.\n",
    "        raw = raw[:,:,0:3]\n",
    "\n",
    "        truemsk = Image.open(mskPaths[i])\n",
    "        truemsk = np.array(truemsk.resize((256, 256)))/255.\n",
    "        truemsk[truemsk >= 0.5] = 1 \n",
    "        truemsk[truemsk < 0.5] = 0\n",
    "        if len(truemsk.shape) > 2:\n",
    "            truemsk = truemsk[:,:,0]\n",
    "        \n",
    "        #predict the mask \n",
    "        pred = model.predict(np.expand_dims(raw, 0))\n",
    "\n",
    "        #mask post-processing \n",
    "        msk  = pred.squeeze()\n",
    "        msk[msk >= 0.5] = 1 \n",
    "        msk[msk < 0.5] = 0\n",
    "        \n",
    "        masks.append(truemsk)\n",
    "        preds.append(msk)\n",
    "    \n",
    "    metrics = calcMetricsForImges(np.array(masks), np.array(preds))\n",
    "    metricsDF = pd.DataFrame(data=metrics.T, columns=[\"iou\", \"dice\", \"hdorf\", \"mask_intensity\", \"pred_intensity\"])\n",
    "    return metricsDF\n",
    "    \n",
    "    \n",
    "    "
   ]
  },
  {
   "cell_type": "code",
   "execution_count": 17,
   "metadata": {},
   "outputs": [
    {
     "data": {
      "application/vnd.jupyter.widget-view+json": {
       "model_id": "c2c1f0ef09624aebb83805e4ad5e8d3d",
       "version_major": 2,
       "version_minor": 0
      },
      "text/plain": [
       "HBox(children=(FloatProgress(value=0.0, max=4049.0), HTML(value='')))"
      ]
     },
     "metadata": {},
     "output_type": "display_data"
    },
    {
     "name": "stdout",
     "output_type": "stream",
     "text": [
      "\n"
     ]
    }
   ],
   "source": [
    "metrics = validateTrainImages(model, range(4049))"
   ]
  },
  {
   "cell_type": "code",
   "execution_count": 31,
   "metadata": {},
   "outputs": [
    {
     "data": {
      "image/png": "[encoded data removed]",
      "text/plain": [
       "<Figure size 432x288 with 1 Axes>"
      ]
     },
     "metadata": {
      "needs_background": "light"
     },
     "output_type": "display_data"
    }
   ],
   "source": [
    "pieces, ranges, pl = plt.hist(metrics[\"iou\"], bins=100)\n",
    "# Az IOU eloszlása\n",
    "# X tengely: IOU\n",
    "# Y tengely: Abszolút előfordulás"
   ]
  },
  {
   "cell_type": "code",
   "execution_count": 32,
   "metadata": {},
   "outputs": [
    {
     "data": {
      "text/plain": [
       "array([   0.,  105.,  105.,  105.,  105.,  106.,  107.,  109.,  109.,\n",
       "        110.,  110.,  110.,  113.,  114.,  115.,  120.,  120.,  124.,\n",
       "        124.,  127.,  127.,  129.,  130.,  135.,  140.,  142.,  144.,\n",
       "        148.,  152.,  158.,  161.,  163.,  166.,  167.,  186.,  190.,\n",
       "        196.,  199.,  204.,  212.,  214.,  222.,  227.,  236.,  247.,\n",
       "        262.,  272.,  280.,  296.,  305.,  307.,  337.,  346.,  356.,\n",
       "        367.,  380.,  395.,  412.,  429.,  449.,  457.,  478.,  499.,\n",
       "        517.,  537.,  555.,  573.,  608.,  626.,  650.,  689.,  712.,\n",
       "        737.,  777.,  817.,  838.,  903.,  954., 1014., 1072., 1117.,\n",
       "       1197., 1292., 1375., 1481., 1576., 1703., 1846., 1994., 2174.,\n",
       "       2381., 2551., 2732., 2969., 3198., 3418., 3606., 3749., 3861.,\n",
       "       3920., 4049.])"
      ]
     },
     "execution_count": 32,
     "metadata": {},
     "output_type": "execute_result"
    }
   ],
   "source": [
    "np.insert(np.cumsum(pieces), 0, 0.0)"
   ]
  },
  {
   "cell_type": "code",
   "execution_count": 33,
   "metadata": {},
   "outputs": [
    {
     "data": {
      "text/plain": [
       "[<matplotlib.lines.Line2D at 0x1f40c5f7cc8>]"
      ]
     },
     "execution_count": 33,
     "metadata": {},
     "output_type": "execute_result"
    },
    {
     "data": {
      "image/png": "[encoded data removed]",
      "text/plain": [
       "<Figure size 432x288 with 1 Axes>"
      ]
     },
     "metadata": {
      "needs_background": "light"
     },
     "output_type": "display_data"
    }
   ],
   "source": [
    "plt.plot(ranges, np.insert(np.cumsum(pieces), 0, 0.0) / np.cumsum(pieces)[-1])\n",
    "# Az IOU kumulatív eloszlása\n",
    "# X tengely: IOU\n",
    "# Y tengely: kumulatív eloszlás"
   ]
  },
  {
   "cell_type": "code",
   "execution_count": 34,
   "metadata": {},
   "outputs": [
    {
     "data": {
      "text/plain": [
       "0       0.882114\n",
       "1       0.898058\n",
       "2       0.913265\n",
       "3       0.890805\n",
       "4       0.905109\n",
       "          ...   \n",
       "4044    0.457143\n",
       "4045    0.410256\n",
       "4046    0.526316\n",
       "4047    0.388889\n",
       "4048    0.461538\n",
       "Name: iou, Length: 4049, dtype: float64"
      ]
     },
     "execution_count": 34,
     "metadata": {},
     "output_type": "execute_result"
    }
   ],
   "source": [
    "metrics[\"iou\"]"
   ]
  },
  {
   "cell_type": "code",
   "execution_count": 23,
   "metadata": {},
   "outputs": [
    {
     "data": {
      "image/png": "[encoded data removed]",
      "text/plain": [
       "<Figure size 432x288 with 1 Axes>"
      ]
     },
     "metadata": {
      "needs_background": "light"
     },
     "output_type": "display_data"
    }
   ],
   "source": [
    "pieces, ranges, pl = plt.hist(metrics[\"hdorf\"], bins=100)\n",
    "# Huasdorf távolságok eloszlása"
   ]
  },
  {
   "cell_type": "code",
   "execution_count": 35,
   "metadata": {},
   "outputs": [
    {
     "data": {
      "text/plain": [
       "(array([  75,   76,  171,  174,  175,  274,  275,  276,  372,  373,  374,\n",
       "         375,  453,  541,  673,  774,  972,  974,  975,  976, 1071, 1152,\n",
       "        1215, 1216, 1217, 1271, 1273, 1276, 1277, 1278, 1279, 1280, 1281,\n",
       "        1283, 1657, 1658, 1702, 1727, 1799, 1823, 1906, 1907, 1909, 2007,\n",
       "        2111, 2204, 2205, 2206, 2207, 2307, 2308, 2356, 2357, 2359, 2360,\n",
       "        2361, 2437, 2438, 2440, 2441, 2442, 2443, 2565, 2566, 2614, 2615,\n",
       "        2616, 2690, 2691, 2692, 2693, 2755, 2841, 2914, 2917, 3057, 3058,\n",
       "        3130, 3131, 3132, 3213, 3218, 3219, 3220, 3223, 3298, 3454, 3613,\n",
       "        3614, 3615, 3616, 3617, 3622, 3759, 3761, 3762, 3763, 3834, 3879,\n",
       "        3880, 3957, 3960, 3961, 3962, 3966], dtype=int64),)"
      ]
     },
     "execution_count": 35,
     "metadata": {},
     "output_type": "execute_result"
    }
   ],
   "source": [
    "np.where(metrics[\"iou\"] <= 0.01)"
   ]
  },
  {
   "cell_type": "code",
   "execution_count": 36,
   "metadata": {},
   "outputs": [],
   "source": [
    "selected_tests = np.array([\n",
    "    [6,57,185,455,601,619,729,825,986,1658],\n",
    "    [1670,1732,1866,2443,3303],\n",
    "    [75,171,373,1278,3298]\n",
    "])"
   ]
  },
  {
   "cell_type": "code",
   "execution_count": 18,
   "metadata": {},
   "outputs": [],
   "source": [
    "indexDF = pd.read_csv(\"ids.csv\")"
   ]
  },
  {
   "cell_type": "code",
   "execution_count": 19,
   "metadata": {},
   "outputs": [
    {
     "data": {
      "text/html": [
       "<div>\n",
       "<style scoped>\n",
       "    .dataframe tbody tr th:only-of-type {\n",
       "        vertical-align: middle;\n",
       "    }\n",
       "\n",
       "    .dataframe tbody tr th {\n",
       "        vertical-align: top;\n",
       "    }\n",
       "\n",
       "    .dataframe thead tr th {\n",
       "        text-align: left;\n",
       "    }\n",
       "\n",
       "    .dataframe thead tr:last-of-type th {\n",
       "        text-align: right;\n",
       "    }\n",
       "</style>\n",
       "<table border=\"1\" class=\"dataframe\">\n",
       "  <thead>\n",
       "    <tr>\n",
       "      <th></th>\n",
       "      <th colspan=\"2\" halign=\"left\">slice</th>\n",
       "    </tr>\n",
       "    <tr>\n",
       "      <th></th>\n",
       "      <th>amin</th>\n",
       "      <th>amax</th>\n",
       "    </tr>\n",
       "    <tr>\n",
       "      <th>DID</th>\n",
       "      <th></th>\n",
       "      <th></th>\n",
       "    </tr>\n",
       "  </thead>\n",
       "  <tbody>\n",
       "    <tr>\n",
       "      <th>0</th>\n",
       "      <td>253</td>\n",
       "      <td>329</td>\n",
       "    </tr>\n",
       "    <tr>\n",
       "      <th>1</th>\n",
       "      <td>136</td>\n",
       "      <td>234</td>\n",
       "    </tr>\n",
       "    <tr>\n",
       "      <th>2</th>\n",
       "      <td>145</td>\n",
       "      <td>247</td>\n",
       "    </tr>\n",
       "    <tr>\n",
       "      <th>3</th>\n",
       "      <td>152</td>\n",
       "      <td>249</td>\n",
       "    </tr>\n",
       "    <tr>\n",
       "      <th>4</th>\n",
       "      <td>150</td>\n",
       "      <td>226</td>\n",
       "    </tr>\n",
       "    <tr>\n",
       "      <th>5</th>\n",
       "      <td>146</td>\n",
       "      <td>233</td>\n",
       "    </tr>\n",
       "    <tr>\n",
       "      <th>6</th>\n",
       "      <td>178</td>\n",
       "      <td>236</td>\n",
       "    </tr>\n",
       "    <tr>\n",
       "      <th>7</th>\n",
       "      <td>153</td>\n",
       "      <td>246</td>\n",
       "    </tr>\n",
       "    <tr>\n",
       "      <th>8</th>\n",
       "      <td>169</td>\n",
       "      <td>251</td>\n",
       "    </tr>\n",
       "    <tr>\n",
       "      <th>9</th>\n",
       "      <td>177</td>\n",
       "      <td>270</td>\n",
       "    </tr>\n",
       "    <tr>\n",
       "      <th>10</th>\n",
       "      <td>147</td>\n",
       "      <td>253</td>\n",
       "    </tr>\n",
       "    <tr>\n",
       "      <th>11</th>\n",
       "      <td>159</td>\n",
       "      <td>253</td>\n",
       "    </tr>\n",
       "    <tr>\n",
       "      <th>12</th>\n",
       "      <td>137</td>\n",
       "      <td>215</td>\n",
       "    </tr>\n",
       "    <tr>\n",
       "      <th>13</th>\n",
       "      <td>150</td>\n",
       "      <td>214</td>\n",
       "    </tr>\n",
       "    <tr>\n",
       "      <th>14</th>\n",
       "      <td>156</td>\n",
       "      <td>223</td>\n",
       "    </tr>\n",
       "    <tr>\n",
       "      <th>15</th>\n",
       "      <td>168</td>\n",
       "      <td>251</td>\n",
       "    </tr>\n",
       "    <tr>\n",
       "      <th>16</th>\n",
       "      <td>173</td>\n",
       "      <td>274</td>\n",
       "    </tr>\n",
       "    <tr>\n",
       "      <th>17</th>\n",
       "      <td>170</td>\n",
       "      <td>263</td>\n",
       "    </tr>\n",
       "    <tr>\n",
       "      <th>18</th>\n",
       "      <td>159</td>\n",
       "      <td>251</td>\n",
       "    </tr>\n",
       "    <tr>\n",
       "      <th>19</th>\n",
       "      <td>143</td>\n",
       "      <td>241</td>\n",
       "    </tr>\n",
       "    <tr>\n",
       "      <th>20</th>\n",
       "      <td>161</td>\n",
       "      <td>235</td>\n",
       "    </tr>\n",
       "    <tr>\n",
       "      <th>21</th>\n",
       "      <td>249</td>\n",
       "      <td>335</td>\n",
       "    </tr>\n",
       "    <tr>\n",
       "      <th>22</th>\n",
       "      <td>285</td>\n",
       "      <td>374</td>\n",
       "    </tr>\n",
       "    <tr>\n",
       "      <th>23</th>\n",
       "      <td>272</td>\n",
       "      <td>374</td>\n",
       "    </tr>\n",
       "    <tr>\n",
       "      <th>24</th>\n",
       "      <td>259</td>\n",
       "      <td>353</td>\n",
       "    </tr>\n",
       "    <tr>\n",
       "      <th>25</th>\n",
       "      <td>269</td>\n",
       "      <td>371</td>\n",
       "    </tr>\n",
       "    <tr>\n",
       "      <th>26</th>\n",
       "      <td>272</td>\n",
       "      <td>322</td>\n",
       "    </tr>\n",
       "    <tr>\n",
       "      <th>27</th>\n",
       "      <td>281</td>\n",
       "      <td>366</td>\n",
       "    </tr>\n",
       "    <tr>\n",
       "      <th>28</th>\n",
       "      <td>272</td>\n",
       "      <td>361</td>\n",
       "    </tr>\n",
       "    <tr>\n",
       "      <th>29</th>\n",
       "      <td>270</td>\n",
       "      <td>352</td>\n",
       "    </tr>\n",
       "    <tr>\n",
       "      <th>30</th>\n",
       "      <td>276</td>\n",
       "      <td>347</td>\n",
       "    </tr>\n",
       "    <tr>\n",
       "      <th>31</th>\n",
       "      <td>224</td>\n",
       "      <td>286</td>\n",
       "    </tr>\n",
       "    <tr>\n",
       "      <th>32</th>\n",
       "      <td>288</td>\n",
       "      <td>374</td>\n",
       "    </tr>\n",
       "    <tr>\n",
       "      <th>33</th>\n",
       "      <td>279</td>\n",
       "      <td>353</td>\n",
       "    </tr>\n",
       "    <tr>\n",
       "      <th>34</th>\n",
       "      <td>262</td>\n",
       "      <td>336</td>\n",
       "    </tr>\n",
       "    <tr>\n",
       "      <th>35</th>\n",
       "      <td>297</td>\n",
       "      <td>363</td>\n",
       "    </tr>\n",
       "    <tr>\n",
       "      <th>36</th>\n",
       "      <td>272</td>\n",
       "      <td>344</td>\n",
       "    </tr>\n",
       "    <tr>\n",
       "      <th>37</th>\n",
       "      <td>237</td>\n",
       "      <td>326</td>\n",
       "    </tr>\n",
       "    <tr>\n",
       "      <th>38</th>\n",
       "      <td>228</td>\n",
       "      <td>303</td>\n",
       "    </tr>\n",
       "    <tr>\n",
       "      <th>39</th>\n",
       "      <td>271</td>\n",
       "      <td>333</td>\n",
       "    </tr>\n",
       "    <tr>\n",
       "      <th>40</th>\n",
       "      <td>281</td>\n",
       "      <td>372</td>\n",
       "    </tr>\n",
       "    <tr>\n",
       "      <th>41</th>\n",
       "      <td>283</td>\n",
       "      <td>370</td>\n",
       "    </tr>\n",
       "    <tr>\n",
       "      <th>42</th>\n",
       "      <td>237</td>\n",
       "      <td>321</td>\n",
       "    </tr>\n",
       "    <tr>\n",
       "      <th>43</th>\n",
       "      <td>267</td>\n",
       "      <td>343</td>\n",
       "    </tr>\n",
       "    <tr>\n",
       "      <th>44</th>\n",
       "      <td>246</td>\n",
       "      <td>305</td>\n",
       "    </tr>\n",
       "    <tr>\n",
       "      <th>45</th>\n",
       "      <td>269</td>\n",
       "      <td>339</td>\n",
       "    </tr>\n",
       "    <tr>\n",
       "      <th>46</th>\n",
       "      <td>292</td>\n",
       "      <td>344</td>\n",
       "    </tr>\n",
       "    <tr>\n",
       "      <th>47</th>\n",
       "      <td>234</td>\n",
       "      <td>315</td>\n",
       "    </tr>\n",
       "    <tr>\n",
       "      <th>48</th>\n",
       "      <td>235</td>\n",
       "      <td>313</td>\n",
       "    </tr>\n",
       "  </tbody>\n",
       "</table>\n",
       "</div>"
      ],
      "text/plain": [
       "    slice     \n",
       "     amin amax\n",
       "DID           \n",
       "0     253  329\n",
       "1     136  234\n",
       "2     145  247\n",
       "3     152  249\n",
       "4     150  226\n",
       "5     146  233\n",
       "6     178  236\n",
       "7     153  246\n",
       "8     169  251\n",
       "9     177  270\n",
       "10    147  253\n",
       "11    159  253\n",
       "12    137  215\n",
       "13    150  214\n",
       "14    156  223\n",
       "15    168  251\n",
       "16    173  274\n",
       "17    170  263\n",
       "18    159  251\n",
       "19    143  241\n",
       "20    161  235\n",
       "21    249  335\n",
       "22    285  374\n",
       "23    272  374\n",
       "24    259  353\n",
       "25    269  371\n",
       "26    272  322\n",
       "27    281  366\n",
       "28    272  361\n",
       "29    270  352\n",
       "30    276  347\n",
       "31    224  286\n",
       "32    288  374\n",
       "33    279  353\n",
       "34    262  336\n",
       "35    297  363\n",
       "36    272  344\n",
       "37    237  326\n",
       "38    228  303\n",
       "39    271  333\n",
       "40    281  372\n",
       "41    283  370\n",
       "42    237  321\n",
       "43    267  343\n",
       "44    246  305\n",
       "45    269  339\n",
       "46    292  344\n",
       "47    234  315\n",
       "48    235  313"
      ]
     },
     "execution_count": 19,
     "metadata": {},
     "output_type": "execute_result"
    }
   ],
   "source": [
    "mxslices = indexDF.groupby(\"DID\").agg({\"slice\" : [np.min, np.max]})\n",
    "mxslices"
   ]
  },
  {
   "cell_type": "code",
   "execution_count": 20,
   "metadata": {},
   "outputs": [
    {
     "name": "stderr",
     "output_type": "stream",
     "text": [
      "C:\\Users\\szabo\\Anaconda3\\lib\\site-packages\\pandas\\core\\reshape\\merge.py:643: UserWarning: merging between different levels can give an unintended result (1 levels on the left,2 on the right)\n",
      "  warnings.warn(msg, UserWarning)\n"
     ]
    },
    {
     "data": {
      "text/html": [
       "<div>\n",
       "<style scoped>\n",
       "    .dataframe tbody tr th:only-of-type {\n",
       "        vertical-align: middle;\n",
       "    }\n",
       "\n",
       "    .dataframe tbody tr th {\n",
       "        vertical-align: top;\n",
       "    }\n",
       "\n",
       "    .dataframe thead th {\n",
       "        text-align: right;\n",
       "    }\n",
       "</style>\n",
       "<table border=\"1\" class=\"dataframe\">\n",
       "  <thead>\n",
       "    <tr style=\"text-align: right;\">\n",
       "      <th></th>\n",
       "      <th>GID</th>\n",
       "      <th>directory</th>\n",
       "      <th>slice</th>\n",
       "      <th>DID</th>\n",
       "      <th>pos</th>\n",
       "    </tr>\n",
       "  </thead>\n",
       "  <tbody>\n",
       "    <tr>\n",
       "      <th>0</th>\n",
       "      <td>0</td>\n",
       "      <td>C:\\Users\\szabo\\Documents\\fogak\\CBCT 14d_100</td>\n",
       "      <td>253</td>\n",
       "      <td>0</td>\n",
       "      <td>0.000000</td>\n",
       "    </tr>\n",
       "    <tr>\n",
       "      <th>1</th>\n",
       "      <td>1</td>\n",
       "      <td>C:\\Users\\szabo\\Documents\\fogak\\CBCT 14d_100</td>\n",
       "      <td>254</td>\n",
       "      <td>0</td>\n",
       "      <td>0.013158</td>\n",
       "    </tr>\n",
       "    <tr>\n",
       "      <th>2</th>\n",
       "      <td>2</td>\n",
       "      <td>C:\\Users\\szabo\\Documents\\fogak\\CBCT 14d_100</td>\n",
       "      <td>255</td>\n",
       "      <td>0</td>\n",
       "      <td>0.026316</td>\n",
       "    </tr>\n",
       "    <tr>\n",
       "      <th>3</th>\n",
       "      <td>3</td>\n",
       "      <td>C:\\Users\\szabo\\Documents\\fogak\\CBCT 14d_100</td>\n",
       "      <td>256</td>\n",
       "      <td>0</td>\n",
       "      <td>0.039474</td>\n",
       "    </tr>\n",
       "    <tr>\n",
       "      <th>4</th>\n",
       "      <td>4</td>\n",
       "      <td>C:\\Users\\szabo\\Documents\\fogak\\CBCT 14d_100</td>\n",
       "      <td>257</td>\n",
       "      <td>0</td>\n",
       "      <td>0.052632</td>\n",
       "    </tr>\n",
       "    <tr>\n",
       "      <th>...</th>\n",
       "      <td>...</td>\n",
       "      <td>...</td>\n",
       "      <td>...</td>\n",
       "      <td>...</td>\n",
       "      <td>...</td>\n",
       "    </tr>\n",
       "    <tr>\n",
       "      <th>4044</th>\n",
       "      <td>4044</td>\n",
       "      <td>C:\\Users\\szabo\\Documents\\fogak\\CBCT 7d_100</td>\n",
       "      <td>309</td>\n",
       "      <td>48</td>\n",
       "      <td>0.948718</td>\n",
       "    </tr>\n",
       "    <tr>\n",
       "      <th>4045</th>\n",
       "      <td>4045</td>\n",
       "      <td>C:\\Users\\szabo\\Documents\\fogak\\CBCT 7d_100</td>\n",
       "      <td>310</td>\n",
       "      <td>48</td>\n",
       "      <td>0.961538</td>\n",
       "    </tr>\n",
       "    <tr>\n",
       "      <th>4046</th>\n",
       "      <td>4046</td>\n",
       "      <td>C:\\Users\\szabo\\Documents\\fogak\\CBCT 7d_100</td>\n",
       "      <td>311</td>\n",
       "      <td>48</td>\n",
       "      <td>0.974359</td>\n",
       "    </tr>\n",
       "    <tr>\n",
       "      <th>4047</th>\n",
       "      <td>4047</td>\n",
       "      <td>C:\\Users\\szabo\\Documents\\fogak\\CBCT 7d_100</td>\n",
       "      <td>312</td>\n",
       "      <td>48</td>\n",
       "      <td>0.987179</td>\n",
       "    </tr>\n",
       "    <tr>\n",
       "      <th>4048</th>\n",
       "      <td>4048</td>\n",
       "      <td>C:\\Users\\szabo\\Documents\\fogak\\CBCT 7d_100</td>\n",
       "      <td>313</td>\n",
       "      <td>48</td>\n",
       "      <td>1.000000</td>\n",
       "    </tr>\n",
       "  </tbody>\n",
       "</table>\n",
       "<p>4049 rows × 5 columns</p>\n",
       "</div>"
      ],
      "text/plain": [
       "       GID                                    directory  slice  DID       pos\n",
       "0        0  C:\\Users\\szabo\\Documents\\fogak\\CBCT 14d_100    253    0  0.000000\n",
       "1        1  C:\\Users\\szabo\\Documents\\fogak\\CBCT 14d_100    254    0  0.013158\n",
       "2        2  C:\\Users\\szabo\\Documents\\fogak\\CBCT 14d_100    255    0  0.026316\n",
       "3        3  C:\\Users\\szabo\\Documents\\fogak\\CBCT 14d_100    256    0  0.039474\n",
       "4        4  C:\\Users\\szabo\\Documents\\fogak\\CBCT 14d_100    257    0  0.052632\n",
       "...    ...                                          ...    ...  ...       ...\n",
       "4044  4044   C:\\Users\\szabo\\Documents\\fogak\\CBCT 7d_100    309   48  0.948718\n",
       "4045  4045   C:\\Users\\szabo\\Documents\\fogak\\CBCT 7d_100    310   48  0.961538\n",
       "4046  4046   C:\\Users\\szabo\\Documents\\fogak\\CBCT 7d_100    311   48  0.974359\n",
       "4047  4047   C:\\Users\\szabo\\Documents\\fogak\\CBCT 7d_100    312   48  0.987179\n",
       "4048  4048   C:\\Users\\szabo\\Documents\\fogak\\CBCT 7d_100    313   48  1.000000\n",
       "\n",
       "[4049 rows x 5 columns]"
      ]
     },
     "execution_count": 20,
     "metadata": {},
     "output_type": "execute_result"
    }
   ],
   "source": [
    "merged = pd.merge(indexDF, mxslices, on=\"DID\").drop(columns=\"Unnamed: 0\")\n",
    "merged[\"pos\"] = (merged[\"slice\"] - merged[\"slice\", \"amin\"]) / (merged[\"slice\", \"amax\"] - merged[\"slice\", \"amin\"])\n",
    "merged = merged.drop(columns=[[\"slice\", \"amax\"], [\"slice\", \"amin\"]])\n",
    "merged"
   ]
  },
  {
   "cell_type": "code",
   "execution_count": 21,
   "metadata": {},
   "outputs": [
    {
     "data": {
      "text/html": [
       "<div>\n",
       "<style scoped>\n",
       "    .dataframe tbody tr th:only-of-type {\n",
       "        vertical-align: middle;\n",
       "    }\n",
       "\n",
       "    .dataframe tbody tr th {\n",
       "        vertical-align: top;\n",
       "    }\n",
       "\n",
       "    .dataframe thead th {\n",
       "        text-align: right;\n",
       "    }\n",
       "</style>\n",
       "<table border=\"1\" class=\"dataframe\">\n",
       "  <thead>\n",
       "    <tr style=\"text-align: right;\">\n",
       "      <th></th>\n",
       "      <th>GID</th>\n",
       "      <th>directory</th>\n",
       "      <th>slice</th>\n",
       "      <th>DID</th>\n",
       "      <th>pos</th>\n",
       "      <th>iou</th>\n",
       "      <th>dice</th>\n",
       "      <th>hdorf</th>\n",
       "      <th>mask_intensity</th>\n",
       "      <th>pred_intensity</th>\n",
       "    </tr>\n",
       "  </thead>\n",
       "  <tbody>\n",
       "    <tr>\n",
       "      <th>0</th>\n",
       "      <td>0</td>\n",
       "      <td>C:\\Users\\szabo\\Documents\\fogak\\CBCT 14d_100</td>\n",
       "      <td>253</td>\n",
       "      <td>0</td>\n",
       "      <td>0.000000</td>\n",
       "      <td>0.863281</td>\n",
       "      <td>0.926625</td>\n",
       "      <td>2.000000</td>\n",
       "      <td>237.0</td>\n",
       "      <td>240.0</td>\n",
       "    </tr>\n",
       "    <tr>\n",
       "      <th>1</th>\n",
       "      <td>1</td>\n",
       "      <td>C:\\Users\\szabo\\Documents\\fogak\\CBCT 14d_100</td>\n",
       "      <td>254</td>\n",
       "      <td>0</td>\n",
       "      <td>0.013158</td>\n",
       "      <td>0.895735</td>\n",
       "      <td>0.945000</td>\n",
       "      <td>2.000000</td>\n",
       "      <td>192.0</td>\n",
       "      <td>208.0</td>\n",
       "    </tr>\n",
       "    <tr>\n",
       "      <th>2</th>\n",
       "      <td>2</td>\n",
       "      <td>C:\\Users\\szabo\\Documents\\fogak\\CBCT 14d_100</td>\n",
       "      <td>255</td>\n",
       "      <td>0</td>\n",
       "      <td>0.026316</td>\n",
       "      <td>0.883495</td>\n",
       "      <td>0.938144</td>\n",
       "      <td>1.414214</td>\n",
       "      <td>206.0</td>\n",
       "      <td>182.0</td>\n",
       "    </tr>\n",
       "    <tr>\n",
       "      <th>3</th>\n",
       "      <td>3</td>\n",
       "      <td>C:\\Users\\szabo\\Documents\\fogak\\CBCT 14d_100</td>\n",
       "      <td>256</td>\n",
       "      <td>0</td>\n",
       "      <td>0.039474</td>\n",
       "      <td>0.868852</td>\n",
       "      <td>0.929825</td>\n",
       "      <td>1.414214</td>\n",
       "      <td>181.0</td>\n",
       "      <td>161.0</td>\n",
       "    </tr>\n",
       "    <tr>\n",
       "      <th>4</th>\n",
       "      <td>4</td>\n",
       "      <td>C:\\Users\\szabo\\Documents\\fogak\\CBCT 14d_100</td>\n",
       "      <td>257</td>\n",
       "      <td>0</td>\n",
       "      <td>0.052632</td>\n",
       "      <td>0.895833</td>\n",
       "      <td>0.945055</td>\n",
       "      <td>1.414214</td>\n",
       "      <td>143.0</td>\n",
       "      <td>130.0</td>\n",
       "    </tr>\n",
       "    <tr>\n",
       "      <th>...</th>\n",
       "      <td>...</td>\n",
       "      <td>...</td>\n",
       "      <td>...</td>\n",
       "      <td>...</td>\n",
       "      <td>...</td>\n",
       "      <td>...</td>\n",
       "      <td>...</td>\n",
       "      <td>...</td>\n",
       "      <td>...</td>\n",
       "      <td>...</td>\n",
       "    </tr>\n",
       "    <tr>\n",
       "      <th>4044</th>\n",
       "      <td>4044</td>\n",
       "      <td>C:\\Users\\szabo\\Documents\\fogak\\CBCT 7d_100</td>\n",
       "      <td>309</td>\n",
       "      <td>48</td>\n",
       "      <td>0.948718</td>\n",
       "      <td>0.486486</td>\n",
       "      <td>0.654545</td>\n",
       "      <td>2.000000</td>\n",
       "      <td>34.0</td>\n",
       "      <td>21.0</td>\n",
       "    </tr>\n",
       "    <tr>\n",
       "      <th>4045</th>\n",
       "      <td>4045</td>\n",
       "      <td>C:\\Users\\szabo\\Documents\\fogak\\CBCT 7d_100</td>\n",
       "      <td>310</td>\n",
       "      <td>48</td>\n",
       "      <td>0.961538</td>\n",
       "      <td>0.400000</td>\n",
       "      <td>0.571429</td>\n",
       "      <td>2.236068</td>\n",
       "      <td>40.0</td>\n",
       "      <td>16.0</td>\n",
       "    </tr>\n",
       "    <tr>\n",
       "      <th>4046</th>\n",
       "      <td>4046</td>\n",
       "      <td>C:\\Users\\szabo\\Documents\\fogak\\CBCT 7d_100</td>\n",
       "      <td>311</td>\n",
       "      <td>48</td>\n",
       "      <td>0.974359</td>\n",
       "      <td>0.409091</td>\n",
       "      <td>0.580645</td>\n",
       "      <td>2.000000</td>\n",
       "      <td>16.0</td>\n",
       "      <td>15.0</td>\n",
       "    </tr>\n",
       "    <tr>\n",
       "      <th>4047</th>\n",
       "      <td>4047</td>\n",
       "      <td>C:\\Users\\szabo\\Documents\\fogak\\CBCT 7d_100</td>\n",
       "      <td>312</td>\n",
       "      <td>48</td>\n",
       "      <td>0.987179</td>\n",
       "      <td>0.333333</td>\n",
       "      <td>0.500000</td>\n",
       "      <td>1.732051</td>\n",
       "      <td>15.0</td>\n",
       "      <td>9.0</td>\n",
       "    </tr>\n",
       "    <tr>\n",
       "      <th>4048</th>\n",
       "      <td>4048</td>\n",
       "      <td>C:\\Users\\szabo\\Documents\\fogak\\CBCT 7d_100</td>\n",
       "      <td>313</td>\n",
       "      <td>48</td>\n",
       "      <td>1.000000</td>\n",
       "      <td>0.461538</td>\n",
       "      <td>0.631579</td>\n",
       "      <td>1.414214</td>\n",
       "      <td>10.0</td>\n",
       "      <td>9.0</td>\n",
       "    </tr>\n",
       "  </tbody>\n",
       "</table>\n",
       "<p>4049 rows × 10 columns</p>\n",
       "</div>"
      ],
      "text/plain": [
       "       GID                                    directory  slice  DID       pos  \\\n",
       "0        0  C:\\Users\\szabo\\Documents\\fogak\\CBCT 14d_100    253    0  0.000000   \n",
       "1        1  C:\\Users\\szabo\\Documents\\fogak\\CBCT 14d_100    254    0  0.013158   \n",
       "2        2  C:\\Users\\szabo\\Documents\\fogak\\CBCT 14d_100    255    0  0.026316   \n",
       "3        3  C:\\Users\\szabo\\Documents\\fogak\\CBCT 14d_100    256    0  0.039474   \n",
       "4        4  C:\\Users\\szabo\\Documents\\fogak\\CBCT 14d_100    257    0  0.052632   \n",
       "...    ...                                          ...    ...  ...       ...   \n",
       "4044  4044   C:\\Users\\szabo\\Documents\\fogak\\CBCT 7d_100    309   48  0.948718   \n",
       "4045  4045   C:\\Users\\szabo\\Documents\\fogak\\CBCT 7d_100    310   48  0.961538   \n",
       "4046  4046   C:\\Users\\szabo\\Documents\\fogak\\CBCT 7d_100    311   48  0.974359   \n",
       "4047  4047   C:\\Users\\szabo\\Documents\\fogak\\CBCT 7d_100    312   48  0.987179   \n",
       "4048  4048   C:\\Users\\szabo\\Documents\\fogak\\CBCT 7d_100    313   48  1.000000   \n",
       "\n",
       "           iou      dice     hdorf  mask_intensity  pred_intensity  \n",
       "0     0.863281  0.926625  2.000000           237.0           240.0  \n",
       "1     0.895735  0.945000  2.000000           192.0           208.0  \n",
       "2     0.883495  0.938144  1.414214           206.0           182.0  \n",
       "3     0.868852  0.929825  1.414214           181.0           161.0  \n",
       "4     0.895833  0.945055  1.414214           143.0           130.0  \n",
       "...        ...       ...       ...             ...             ...  \n",
       "4044  0.486486  0.654545  2.000000            34.0            21.0  \n",
       "4045  0.400000  0.571429  2.236068            40.0            16.0  \n",
       "4046  0.409091  0.580645  2.000000            16.0            15.0  \n",
       "4047  0.333333  0.500000  1.732051            15.0             9.0  \n",
       "4048  0.461538  0.631579  1.414214            10.0             9.0  \n",
       "\n",
       "[4049 rows x 10 columns]"
      ]
     },
     "execution_count": 21,
     "metadata": {},
     "output_type": "execute_result"
    }
   ],
   "source": [
    "combined = pd.merge(merged, metrics, left_index=True, right_index=True)\n",
    "combined"
   ]
  },
  {
   "cell_type": "code",
   "execution_count": 22,
   "metadata": {},
   "outputs": [],
   "source": [
    "combined.to_csv(\"metrics.csv\")"
   ]
  },
  {
   "cell_type": "code",
   "execution_count": 2,
   "metadata": {},
   "outputs": [],
   "source": [
    "# Load saved metrics\n",
    "combined = pd.read_csv(\"metrics.csv\")"
   ]
  },
  {
   "cell_type": "code",
   "execution_count": 3,
   "metadata": {},
   "outputs": [
    {
     "data": {
      "text/plain": [
       "[<matplotlib.lines.Line2D at 0x16c878a1cc8>]"
      ]
     },
     "execution_count": 3,
     "metadata": {},
     "output_type": "execute_result"
    },
    {
     "data": {
      "image/png": "[encoded data removed]",
      "text/plain": [
       "<Figure size 1332x756 with 1 Axes>"
      ]
     },
     "metadata": {
      "needs_background": "light"
     },
     "output_type": "display_data"
    }
   ],
   "source": [
    "fig = plt.gcf()\n",
    "fig.set_size_inches(18.5, 10.5)\n",
    "plt.plot(combined.mask_intensity, combined.iou, \"ro\")\n",
    "# IOU eloszlása a maszk fehér pixeleniek függvényében\n",
    "# X tengely: A maszk fehér pixeleinek száma\n",
    "# Y tengely: IOU"
   ]
  },
  {
   "cell_type": "code",
   "execution_count": 4,
   "metadata": {},
   "outputs": [
    {
     "data": {
      "text/plain": [
       "[<matplotlib.lines.Line2D at 0x16c8a2f3248>]"
      ]
     },
     "execution_count": 4,
     "metadata": {},
     "output_type": "execute_result"
    },
    {
     "data": {
      "image/png": "[encoded data removed]",
      "text/plain": [
       "<Figure size 1332x756 with 1 Axes>"
      ]
     },
     "metadata": {
      "needs_background": "light"
     },
     "output_type": "display_data"
    }
   ],
   "source": [
    "fig = plt.gcf()\n",
    "fig.set_size_inches(18.5, 10.5)\n",
    "plt.plot(combined.pos, combined.iou, \"ro\")\n",
    "# IOU eloszlása a szelet fogbeli elhelyezkedése alapján\n",
    "# X tengely: A szelet fogbeli helye, ahol 0 az első szelet, amihez tartozik maszk és 1 az utolsó\n",
    "# Y tengely: IOU"
   ]
  },
  {
   "cell_type": "code",
   "execution_count": 5,
   "metadata": {},
   "outputs": [
    {
     "data": {
      "text/plain": [
       "(-31.0, 651.0)"
      ]
     },
     "execution_count": 5,
     "metadata": {},
     "output_type": "execute_result"
    },
    {
     "data": {
      "image/png": "[encoded data removed]",
      "text/plain": [
       "<Figure size 1332x756 with 1 Axes>"
      ]
     },
     "metadata": {
      "needs_background": "light"
     },
     "output_type": "display_data"
    }
   ],
   "source": [
    "fig, ax = plt.subplots()\n",
    "fig.set_size_inches(18.5, 10.5)\n",
    "\n",
    "ax.plot(combined.mask_intensity, combined.pred_intensity, \"ro\")\n",
    "lims = [\n",
    "    np.min([ax.get_xlim(), ax.get_ylim()]),  # min of both axes\n",
    "    np.max([ax.get_xlim(), ax.get_ylim()]),  # max of both axes\n",
    "]\n",
    "\n",
    "# now plot both limits against eachother\n",
    "ax.plot(lims, lims, 'k-', alpha=0.75, zorder=0)\n",
    "ax.set_aspect('equal')\n",
    "ax.set_xlim(lims)\n",
    "ax.set_ylim(lims)\n",
    "\n",
    "# Az elvárt és a kimeneti maszk fehér pixeleinek eloszlása\n",
    "# X tengely: Az elvárt maszk fehér pixeleinek száma\n",
    "# Y tengely: A kimeneti maszk fehér pixeleinek száma"
   ]
  },
  {
   "cell_type": "code",
   "execution_count": 7,
   "metadata": {},
   "outputs": [],
   "source": [
    "histData2D = np.histogram2d(combined.mask_intensity, combined.pred_intensity, bins=(100,100))"
   ]
  },
  {
   "cell_type": "code",
   "execution_count": 13,
   "metadata": {},
   "outputs": [
    {
     "data": {
      "text/plain": [
       "<matplotlib.image.AxesImage at 0x16c8b632788>"
      ]
     },
     "execution_count": 13,
     "metadata": {},
     "output_type": "execute_result"
    },
    {
     "data": {
      "image/png": "[encoded data removed]",
      "text/plain": [
       "<Figure size 1332x1332 with 1 Axes>"
      ]
     },
     "metadata": {
      "needs_background": "light"
     },
     "output_type": "display_data"
    }
   ],
   "source": [
    "fig = plt.gcf()\n",
    "fig.set_size_inches(18.5, 18.5)\n",
    "plt.imshow(histData2D[0][::-1, :])"
   ]
  },
  {
   "cell_type": "code",
   "execution_count": 18,
   "metadata": {},
   "outputs": [],
   "source": [
    "barData = combined[combined.iou < 0.1].groupby(\"DID\").count() / combined.groupby(\"DID\").count()"
   ]
  },
  {
   "cell_type": "code",
   "execution_count": 20,
   "metadata": {},
   "outputs": [
    {
     "data": {
      "text/plain": [
       "<module 'pandas' from 'C:\\\\Users\\\\szabo\\\\Anaconda3\\\\lib\\\\site-packages\\\\pandas\\\\__init__.py'>"
      ]
     },
     "execution_count": 20,
     "metadata": {},
     "output_type": "execute_result"
    }
   ],
   "source": [
    "np."
   ]
  },
  {
   "cell_type": "code",
   "execution_count": 19,
   "metadata": {},
   "outputs": [
    {
     "data": {
      "image/png": "[encoded data removed]",
      "text/plain": [
       "<Figure size 1332x756 with 1 Axes>"
      ]
     },
     "metadata": {
      "needs_background": "light"
     },
     "output_type": "display_data"
    }
   ],
   "source": [
    "fig = plt.gcf()\n",
    "fig.set_size_inches(18.5, 10.5)\n",
    "for limit in reversed([0.1, 0.2, 0.3, 0.5, 0.8]):\n",
    "    barData = combined[combined.iou < limit].groupby(\"DID\").count() / combined.groupby(\"DID\").count()\n",
    "    plt.bar(barData.index.values, barData.iou.values);\n",
    "plt.show()\n",
    "\n",
    "# Histogram a hibák relatív számának alakulásáról feogak szerint\n",
    "# X tengely: a fog azonosítója\n",
    "# Y tengely: A hibák relatív száma, ahol hibának vesszük a:\n",
    "# lila: 0.1, piros : 0.2, zöld : 0.3, sárga : 0.5, kék : 0.8\n",
    "# alatti IOU-val rendelkező képeket."
   ]
  },
  {
   "cell_type": "code",
   "execution_count": 32,
   "metadata": {},
   "outputs": [
    {
     "name": "stdout",
     "output_type": "stream",
     "text": [
      "IOU: 0.0\n"
     ]
    },
    {
     "data": {
      "image/png": "[encoded data removed]",
      "text/plain": [
       "<Figure size 432x288 with 1 Axes>"
      ]
     },
     "metadata": {
      "needs_background": "light"
     },
     "output_type": "display_data"
    },
    {
     "name": "stdout",
     "output_type": "stream",
     "text": [
      "IOU: 0.0\n"
     ]
    },
    {
     "data": {
      "image/png": "[encoded data removed]",
      "text/plain": [
       "<Figure size 432x288 with 1 Axes>"
      ]
     },
     "metadata": {
      "needs_background": "light"
     },
     "output_type": "display_data"
    },
    {
     "name": "stdout",
     "output_type": "stream",
     "text": [
      "IOU: 0.0\n"
     ]
    },
    {
     "data": {
      "image/png": "[encoded data removed]",
      "text/plain": [
       "<Figure size 432x288 with 1 Axes>"
      ]
     },
     "metadata": {
      "needs_background": "light"
     },
     "output_type": "display_data"
    },
    {
     "name": "stdout",
     "output_type": "stream",
     "text": [
      "IOU: 0.0\n"
     ]
    },
    {
     "data": {
      "image/png": "[encoded data removed]",
      "text/plain": [
       "<Figure size 432x288 with 1 Axes>"
      ]
     },
     "metadata": {
      "needs_background": "light"
     },
     "output_type": "display_data"
    },
    {
     "name": "stdout",
     "output_type": "stream",
     "text": [
      "IOU: 0.0\n"
     ]
    },
    {
     "data": {
      "image/png": "[encoded data removed]",
      "text/plain": [
       "<Figure size 432x288 with 1 Axes>"
      ]
     },
     "metadata": {
      "needs_background": "light"
     },
     "output_type": "display_data"
    },
    {
     "name": "stdout",
     "output_type": "stream",
     "text": [
      "IOU: 0.04545454680919647\n"
     ]
    },
    {
     "data": {
      "image/png": "[encoded data removed]",
      "text/plain": [
       "<Figure size 432x288 with 1 Axes>"
      ]
     },
     "metadata": {
      "needs_background": "light"
     },
     "output_type": "display_data"
    },
    {
     "name": "stdout",
     "output_type": "stream",
     "text": [
      "IOU: 0.0555555559694767\n"
     ]
    },
    {
     "data": {
      "image/png": "[encoded data removed]",
      "text/plain": [
       "<Figure size 432x288 with 1 Axes>"
      ]
     },
     "metadata": {
      "needs_background": "light"
     },
     "output_type": "display_data"
    },
    {
     "name": "stdout",
     "output_type": "stream",
     "text": [
      "IOU: 0.0\n"
     ]
    },
    {
     "data": {
      "image/png": "[encoded data removed]",
      "text/plain": [
       "<Figure size 432x288 with 1 Axes>"
      ]
     },
     "metadata": {
      "needs_background": "light"
     },
     "output_type": "display_data"
    },
    {
     "name": "stdout",
     "output_type": "stream",
     "text": [
      "IOU: 0.0\n"
     ]
    },
    {
     "data": {
      "image/png": "[encoded data removed]",
      "text/plain": [
       "<Figure size 432x288 with 1 Axes>"
      ]
     },
     "metadata": {
      "needs_background": "light"
     },
     "output_type": "display_data"
    },
    {
     "name": "stdout",
     "output_type": "stream",
     "text": [
      "IOU: 0.0\n"
     ]
    },
    {
     "data": {
      "image/png": "[encoded data removed]",
      "text/plain": [
       "<Figure size 432x288 with 1 Axes>"
      ]
     },
     "metadata": {
      "needs_background": "light"
     },
     "output_type": "display_data"
    },
    {
     "name": "stdout",
     "output_type": "stream",
     "text": [
      "IOU: 0.0\n"
     ]
    },
    {
     "data": {
      "image/png": "[encoded data removed]",
      "text/plain": [
       "<Figure size 432x288 with 1 Axes>"
      ]
     },
     "metadata": {
      "needs_background": "light"
     },
     "output_type": "display_data"
    },
    {
     "name": "stdout",
     "output_type": "stream",
     "text": [
      "IOU: 0.0\n"
     ]
    },
    {
     "data": {
      "image/png": "[encoded data removed]",
      "text/plain": [
       "<Figure size 432x288 with 1 Axes>"
      ]
     },
     "metadata": {
      "needs_background": "light"
     },
     "output_type": "display_data"
    },
    {
     "name": "stdout",
     "output_type": "stream",
     "text": [
      "IOU: 0.0\n"
     ]
    },
    {
     "data": {
      "image/png": "[encoded data removed]",
      "text/plain": [
       "<Figure size 432x288 with 1 Axes>"
      ]
     },
     "metadata": {
      "needs_background": "light"
     },
     "output_type": "display_data"
    },
    {
     "name": "stdout",
     "output_type": "stream",
     "text": [
      "IOU: 0.0\n"
     ]
    },
    {
     "data": {
      "image/png": "[encoded data removed]",
      "text/plain": [
       "<Figure size 432x288 with 1 Axes>"
      ]
     },
     "metadata": {
      "needs_background": "light"
     },
     "output_type": "display_data"
    },
    {
     "name": "stdout",
     "output_type": "stream",
     "text": [
      "IOU: 0.0\n"
     ]
    },
    {
     "data": {
      "image/png": "[encoded data removed]",
      "text/plain": [
       "<Figure size 432x288 with 1 Axes>"
      ]
     },
     "metadata": {
      "needs_background": "light"
     },
     "output_type": "display_data"
    },
    {
     "name": "stdout",
     "output_type": "stream",
     "text": [
      "IOU: 0.0\n"
     ]
    },
    {
     "data": {
      "image/png": "[encoded data removed]",
      "text/plain": [
       "<Figure size 432x288 with 1 Axes>"
      ]
     },
     "metadata": {
      "needs_background": "light"
     },
     "output_type": "display_data"
    },
    {
     "name": "stdout",
     "output_type": "stream",
     "text": [
      "IOU: 0.0\n"
     ]
    },
    {
     "data": {
      "image/png": "[encoded data removed]",
      "text/plain": [
       "<Figure size 432x288 with 1 Axes>"
      ]
     },
     "metadata": {
      "needs_background": "light"
     },
     "output_type": "display_data"
    },
    {
     "name": "stdout",
     "output_type": "stream",
     "text": [
      "IOU: 0.0\n"
     ]
    },
    {
     "data": {
      "image/png": "[encoded data removed]",
      "text/plain": [
       "<Figure size 432x288 with 1 Axes>"
      ]
     },
     "metadata": {
      "needs_background": "light"
     },
     "output_type": "display_data"
    },
    {
     "name": "stdout",
     "output_type": "stream",
     "text": [
      "IOU: 0.0\n"
     ]
    },
    {
     "data": {
      "image/png": "[encoded data removed]",
      "text/plain": [
       "<Figure size 432x288 with 1 Axes>"
      ]
     },
     "metadata": {
      "needs_background": "light"
     },
     "output_type": "display_data"
    },
    {
     "name": "stdout",
     "output_type": "stream",
     "text": [
      "IOU: 0.0\n"
     ]
    },
    {
     "data": {
      "image/png": "[encoded data removed]",
      "text/plain": [
       "<Figure size 432x288 with 1 Axes>"
      ]
     },
     "metadata": {
      "needs_background": "light"
     },
     "output_type": "display_data"
    },
    {
     "name": "stdout",
     "output_type": "stream",
     "text": [
      "IOU: 0.0\n"
     ]
    },
    {
     "data": {
      "image/png": "[encoded data removed]",
      "text/plain": [
       "<Figure size 432x288 with 1 Axes>"
      ]
     },
     "metadata": {
      "needs_background": "light"
     },
     "output_type": "display_data"
    },
    {
     "name": "stdout",
     "output_type": "stream",
     "text": [
      "IOU: 0.0\n"
     ]
    },
    {
     "data": {
      "image/png": "[encoded data removed]",
      "text/plain": [
       "<Figure size 432x288 with 1 Axes>"
      ]
     },
     "metadata": {
      "needs_background": "light"
     },
     "output_type": "display_data"
    },
    {
     "name": "stdout",
     "output_type": "stream",
     "text": [
      "IOU: 0.0\n"
     ]
    },
    {
     "data": {
      "image/png": "[encoded data removed]",
      "text/plain": [
       "<Figure size 432x288 with 1 Axes>"
      ]
     },
     "metadata": {
      "needs_background": "light"
     },
     "output_type": "display_data"
    },
    {
     "name": "stdout",
     "output_type": "stream",
     "text": [
      "IOU: 0.0833333358168602\n"
     ]
    },
    {
     "data": {
      "image/png": "[encoded data removed]",
      "text/plain": [
       "<Figure size 432x288 with 1 Axes>"
      ]
     },
     "metadata": {
      "needs_background": "light"
     },
     "output_type": "display_data"
    },
    {
     "name": "stdout",
     "output_type": "stream",
     "text": [
      "IOU: 0.06666667014360428\n"
     ]
    },
    {
     "data": {
      "image/png": "[encoded data removed]",
      "text/plain": [
       "<Figure size 432x288 with 1 Axes>"
      ]
     },
     "metadata": {
      "needs_background": "light"
     },
     "output_type": "display_data"
    },
    {
     "name": "stdout",
     "output_type": "stream",
     "text": [
      "IOU: 0.0\n"
     ]
    },
    {
     "data": {
      "image/png": "[encoded data removed]",
      "text/plain": [
       "<Figure size 432x288 with 1 Axes>"
      ]
     },
     "metadata": {
      "needs_background": "light"
     },
     "output_type": "display_data"
    },
    {
     "name": "stdout",
     "output_type": "stream",
     "text": [
      "IOU: 0.0\n"
     ]
    },
    {
     "data": {
      "image/png": "[encoded data removed]",
      "text/plain": [
       "<Figure size 432x288 with 1 Axes>"
      ]
     },
     "metadata": {
      "needs_background": "light"
     },
     "output_type": "display_data"
    },
    {
     "name": "stdout",
     "output_type": "stream",
     "text": [
      "IOU: 0.0\n"
     ]
    },
    {
     "data": {
      "image/png": "[encoded data removed]",
      "text/plain": [
       "<Figure size 432x288 with 1 Axes>"
      ]
     },
     "metadata": {
      "needs_background": "light"
     },
     "output_type": "display_data"
    },
    {
     "name": "stdout",
     "output_type": "stream",
     "text": [
      "IOU: 0.0\n"
     ]
    },
    {
     "data": {
      "image/png": "[encoded data removed]",
      "text/plain": [
       "<Figure size 432x288 with 1 Axes>"
      ]
     },
     "metadata": {
      "needs_background": "light"
     },
     "output_type": "display_data"
    },
    {
     "name": "stdout",
     "output_type": "stream",
     "text": [
      "IOU: 0.0\n"
     ]
    },
    {
     "data": {
      "image/png": "[encoded data removed]",
      "text/plain": [
       "<Figure size 432x288 with 1 Axes>"
      ]
     },
     "metadata": {
      "needs_background": "light"
     },
     "output_type": "display_data"
    },
    {
     "name": "stdout",
     "output_type": "stream",
     "text": [
      "IOU: 0.0\n"
     ]
    },
    {
     "data": {
      "image/png": "[encoded data removed]",
      "text/plain": [
       "<Figure size 432x288 with 1 Axes>"
      ]
     },
     "metadata": {
      "needs_background": "light"
     },
     "output_type": "display_data"
    },
    {
     "name": "stdout",
     "output_type": "stream",
     "text": [
      "IOU: 0.0\n"
     ]
    },
    {
     "data": {
      "image/png": "[encoded data removed]",
      "text/plain": [
       "<Figure size 432x288 with 1 Axes>"
      ]
     },
     "metadata": {
      "needs_background": "light"
     },
     "output_type": "display_data"
    },
    {
     "name": "stdout",
     "output_type": "stream",
     "text": [
      "IOU: 0.0\n"
     ]
    },
    {
     "data": {
      "image/png": "[encoded data removed]",
      "text/plain": [
       "<Figure size 432x288 with 1 Axes>"
      ]
     },
     "metadata": {
      "needs_background": "light"
     },
     "output_type": "display_data"
    },
    {
     "name": "stdout",
     "output_type": "stream",
     "text": [
      "IOU: 0.0\n"
     ]
    },
    {
     "data": {
      "image/png": "[encoded data removed]",
      "text/plain": [
       "<Figure size 432x288 with 1 Axes>"
      ]
     },
     "metadata": {
      "needs_background": "light"
     },
     "output_type": "display_data"
    },
    {
     "name": "stdout",
     "output_type": "stream",
     "text": [
      "IOU: 0.0\n"
     ]
    },
    {
     "data": {
      "image/png": "[encoded data removed]",
      "text/plain": [
       "<Figure size 432x288 with 1 Axes>"
      ]
     },
     "metadata": {
      "needs_background": "light"
     },
     "output_type": "display_data"
    },
    {
     "name": "stdout",
     "output_type": "stream",
     "text": [
      "IOU: 0.0\n"
     ]
    },
    {
     "data": {
      "image/png": "[encoded data removed]",
      "text/plain": [
       "<Figure size 432x288 with 1 Axes>"
      ]
     },
     "metadata": {
      "needs_background": "light"
     },
     "output_type": "display_data"
    },
    {
     "name": "stdout",
     "output_type": "stream",
     "text": [
      "IOU: 0.0\n"
     ]
    },
    {
     "data": {
      "image/png": "[encoded data removed]",
      "text/plain": [
       "<Figure size 432x288 with 1 Axes>"
      ]
     },
     "metadata": {
      "needs_background": "light"
     },
     "output_type": "display_data"
    },
    {
     "name": "stdout",
     "output_type": "stream",
     "text": [
      "IOU: 0.0\n"
     ]
    },
    {
     "data": {
      "image/png": "[encoded data removed]",
      "text/plain": [
       "<Figure size 432x288 with 1 Axes>"
      ]
     },
     "metadata": {
      "needs_background": "light"
     },
     "output_type": "display_data"
    },
    {
     "name": "stdout",
     "output_type": "stream",
     "text": [
      "IOU: 0.0\n"
     ]
    },
    {
     "data": {
      "image/png": "[encoded data removed]",
      "text/plain": [
       "<Figure size 432x288 with 1 Axes>"
      ]
     },
     "metadata": {
      "needs_background": "light"
     },
     "output_type": "display_data"
    },
    {
     "name": "stdout",
     "output_type": "stream",
     "text": [
      "IOU: 0.0\n"
     ]
    },
    {
     "data": {
      "image/png": "[encoded data removed]",
      "text/plain": [
       "<Figure size 432x288 with 1 Axes>"
      ]
     },
     "metadata": {
      "needs_background": "light"
     },
     "output_type": "display_data"
    },
    {
     "name": "stdout",
     "output_type": "stream",
     "text": [
      "IOU: 0.0\n"
     ]
    },
    {
     "data": {
      "image/png": "[encoded data removed]",
      "text/plain": [
       "<Figure size 432x288 with 1 Axes>"
      ]
     },
     "metadata": {
      "needs_background": "light"
     },
     "output_type": "display_data"
    },
    {
     "name": "stdout",
     "output_type": "stream",
     "text": [
      "IOU: 0.0\n"
     ]
    },
    {
     "data": {
      "image/png": "[encoded data removed]",
      "text/plain": [
       "<Figure size 432x288 with 1 Axes>"
      ]
     },
     "metadata": {
      "needs_background": "light"
     },
     "output_type": "display_data"
    },
    {
     "name": "stdout",
     "output_type": "stream",
     "text": [
      "IOU: 0.0\n"
     ]
    },
    {
     "data": {
      "image/png": "[encoded data removed]",
      "text/plain": [
       "<Figure size 432x288 with 1 Axes>"
      ]
     },
     "metadata": {
      "needs_background": "light"
     },
     "output_type": "display_data"
    },
    {
     "name": "stdout",
     "output_type": "stream",
     "text": [
      "IOU: 0.0\n"
     ]
    },
    {
     "data": {
      "image/png": "[encoded data removed]",
      "text/plain": [
       "<Figure size 432x288 with 1 Axes>"
      ]
     },
     "metadata": {
      "needs_background": "light"
     },
     "output_type": "display_data"
    },
    {
     "name": "stdout",
     "output_type": "stream",
     "text": [
      "IOU: 0.0\n"
     ]
    },
    {
     "data": {
      "image/png": "[encoded data removed]",
      "text/plain": [
       "<Figure size 432x288 with 1 Axes>"
      ]
     },
     "metadata": {
      "needs_background": "light"
     },
     "output_type": "display_data"
    },
    {
     "name": "stdout",
     "output_type": "stream",
     "text": [
      "IOU: 0.0\n"
     ]
    },
    {
     "data": {
      "image/png": "[encoded data removed]",
      "text/plain": [
       "<Figure size 432x288 with 1 Axes>"
      ]
     },
     "metadata": {
      "needs_background": "light"
     },
     "output_type": "display_data"
    },
    {
     "name": "stdout",
     "output_type": "stream",
     "text": [
      "IOU: 0.0\n"
     ]
    },
    {
     "data": {
      "image/png": "[encoded data removed]",
      "text/plain": [
       "<Figure size 432x288 with 1 Axes>"
      ]
     },
     "metadata": {
      "needs_background": "light"
     },
     "output_type": "display_data"
    },
    {
     "name": "stdout",
     "output_type": "stream",
     "text": [
      "IOU: 0.0\n"
     ]
    },
    {
     "data": {
      "image/png": "[encoded data removed]",
      "text/plain": [
       "<Figure size 432x288 with 1 Axes>"
      ]
     },
     "metadata": {
      "needs_background": "light"
     },
     "output_type": "display_data"
    },
    {
     "name": "stdout",
     "output_type": "stream",
     "text": [
      "IOU: 0.0\n"
     ]
    },
    {
     "data": {
      "image/png": "[encoded data removed]",
      "text/plain": [
       "<Figure size 432x288 with 1 Axes>"
      ]
     },
     "metadata": {
      "needs_background": "light"
     },
     "output_type": "display_data"
    },
    {
     "name": "stdout",
     "output_type": "stream",
     "text": [
      "IOU: 0.0\n"
     ]
    },
    {
     "data": {
      "image/png": "[encoded data removed]",
      "text/plain": [
       "<Figure size 432x288 with 1 Axes>"
      ]
     },
     "metadata": {
      "needs_background": "light"
     },
     "output_type": "display_data"
    },
    {
     "name": "stdout",
     "output_type": "stream",
     "text": [
      "IOU: 0.0\n"
     ]
    },
    {
     "data": {
      "image/png": "[encoded data removed]",
      "text/plain": [
       "<Figure size 432x288 with 1 Axes>"
      ]
     },
     "metadata": {
      "needs_background": "light"
     },
     "output_type": "display_data"
    },
    {
     "name": "stdout",
     "output_type": "stream",
     "text": [
      "IOU: 0.0\n"
     ]
    },
    {
     "data": {
      "image/png": "[encoded data removed]",
      "text/plain": [
       "<Figure size 432x288 with 1 Axes>"
      ]
     },
     "metadata": {
      "needs_background": "light"
     },
     "output_type": "display_data"
    },
    {
     "name": "stdout",
     "output_type": "stream",
     "text": [
      "IOU: 0.0\n"
     ]
    },
    {
     "data": {
      "image/png": "[encoded data removed]",
      "text/plain": [
       "<Figure size 432x288 with 1 Axes>"
      ]
     },
     "metadata": {
      "needs_background": "light"
     },
     "output_type": "display_data"
    },
    {
     "name": "stdout",
     "output_type": "stream",
     "text": [
      "IOU: 0.0\n"
     ]
    },
    {
     "data": {
      "image/png": "[encoded data removed]",
      "text/plain": [
       "<Figure size 432x288 with 1 Axes>"
      ]
     },
     "metadata": {
      "needs_background": "light"
     },
     "output_type": "display_data"
    },
    {
     "name": "stdout",
     "output_type": "stream",
     "text": [
      "IOU: 0.0\n"
     ]
    },
    {
     "data": {
      "image/png": "[encoded data removed]",
      "text/plain": [
       "<Figure size 432x288 with 1 Axes>"
      ]
     },
     "metadata": {
      "needs_background": "light"
     },
     "output_type": "display_data"
    },
    {
     "name": "stdout",
     "output_type": "stream",
     "text": [
      "IOU: 0.0\n"
     ]
    },
    {
     "data": {
      "image/png": "[encoded data removed]",
      "text/plain": [
       "<Figure size 432x288 with 1 Axes>"
      ]
     },
     "metadata": {
      "needs_background": "light"
     },
     "output_type": "display_data"
    },
    {
     "name": "stdout",
     "output_type": "stream",
     "text": [
      "IOU: 0.0\n"
     ]
    },
    {
     "data": {
      "image/png": "[encoded data removed]",
      "text/plain": [
       "<Figure size 432x288 with 1 Axes>"
      ]
     },
     "metadata": {
      "needs_background": "light"
     },
     "output_type": "display_data"
    },
    {
     "name": "stdout",
     "output_type": "stream",
     "text": [
      "IOU: 0.0\n"
     ]
    },
    {
     "data": {
      "image/png": "[encoded data removed]",
      "text/plain": [
       "<Figure size 432x288 with 1 Axes>"
      ]
     },
     "metadata": {
      "needs_background": "light"
     },
     "output_type": "display_data"
    },
    {
     "name": "stdout",
     "output_type": "stream",
     "text": [
      "IOU: 0.0\n"
     ]
    },
    {
     "data": {
      "image/png": "[encoded data removed]",
      "text/plain": [
       "<Figure size 432x288 with 1 Axes>"
      ]
     },
     "metadata": {
      "needs_background": "light"
     },
     "output_type": "display_data"
    },
    {
     "name": "stdout",
     "output_type": "stream",
     "text": [
      "IOU: 0.0\n"
     ]
    },
    {
     "data": {
      "image/png": "[encoded data removed]",
      "text/plain": [
       "<Figure size 432x288 with 1 Axes>"
      ]
     },
     "metadata": {
      "needs_background": "light"
     },
     "output_type": "display_data"
    },
    {
     "name": "stdout",
     "output_type": "stream",
     "text": [
      "IOU: 0.0\n"
     ]
    },
    {
     "data": {
      "image/png": "[encoded data removed]",
      "text/plain": [
       "<Figure size 432x288 with 1 Axes>"
      ]
     },
     "metadata": {
      "needs_background": "light"
     },
     "output_type": "display_data"
    },
    {
     "name": "stdout",
     "output_type": "stream",
     "text": [
      "IOU: 0.0\n"
     ]
    },
    {
     "data": {
      "image/png": "[encoded data removed]",
      "text/plain": [
       "<Figure size 432x288 with 1 Axes>"
      ]
     },
     "metadata": {
      "needs_background": "light"
     },
     "output_type": "display_data"
    },
    {
     "name": "stdout",
     "output_type": "stream",
     "text": [
      "IOU: 0.0\n"
     ]
    },
    {
     "data": {
      "image/png": "[encoded data removed]",
      "text/plain": [
       "<Figure size 432x288 with 1 Axes>"
      ]
     },
     "metadata": {
      "needs_background": "light"
     },
     "output_type": "display_data"
    },
    {
     "name": "stdout",
     "output_type": "stream",
     "text": [
      "IOU: 0.0\n"
     ]
    },
    {
     "data": {
      "image/png": "[encoded data removed]",
      "text/plain": [
       "<Figure size 432x288 with 1 Axes>"
      ]
     },
     "metadata": {
      "needs_background": "light"
     },
     "output_type": "display_data"
    },
    {
     "name": "stdout",
     "output_type": "stream",
     "text": [
      "IOU: 0.0\n"
     ]
    },
    {
     "data": {
      "image/png": "[encoded data removed]",
      "text/plain": [
       "<Figure size 432x288 with 1 Axes>"
      ]
     },
     "metadata": {
      "needs_background": "light"
     },
     "output_type": "display_data"
    },
    {
     "name": "stdout",
     "output_type": "stream",
     "text": [
      "IOU: 0.0\n"
     ]
    },
    {
     "data": {
      "image/png": "[encoded data removed]",
      "text/plain": [
       "<Figure size 432x288 with 1 Axes>"
      ]
     },
     "metadata": {
      "needs_background": "light"
     },
     "output_type": "display_data"
    },
    {
     "name": "stdout",
     "output_type": "stream",
     "text": [
      "IOU: 0.0\n"
     ]
    },
    {
     "data": {
      "image/png": "[encoded data removed]",
      "text/plain": [
       "<Figure size 432x288 with 1 Axes>"
      ]
     },
     "metadata": {
      "needs_background": "light"
     },
     "output_type": "display_data"
    },
    {
     "name": "stdout",
     "output_type": "stream",
     "text": [
      "IOU: 0.0\n"
     ]
    },
    {
     "data": {
      "image/png": "[encoded data removed]",
      "text/plain": [
       "<Figure size 432x288 with 1 Axes>"
      ]
     },
     "metadata": {
      "needs_background": "light"
     },
     "output_type": "display_data"
    },
    {
     "name": "stdout",
     "output_type": "stream",
     "text": [
      "IOU: 0.06451612710952759\n"
     ]
    },
    {
     "data": {
      "image/png": "[encoded data removed]",
      "text/plain": [
       "<Figure size 432x288 with 1 Axes>"
      ]
     },
     "metadata": {
      "needs_background": "light"
     },
     "output_type": "display_data"
    },
    {
     "name": "stdout",
     "output_type": "stream",
     "text": [
      "IOU: 0.0\n"
     ]
    },
    {
     "data": {
      "image/png": "[encoded data removed]",
      "text/plain": [
       "<Figure size 432x288 with 1 Axes>"
      ]
     },
     "metadata": {
      "needs_background": "light"
     },
     "output_type": "display_data"
    },
    {
     "name": "stdout",
     "output_type": "stream",
     "text": [
      "IOU: 0.0\n"
     ]
    },
    {
     "data": {
      "image/png": "[encoded data removed]",
      "text/plain": [
       "<Figure size 432x288 with 1 Axes>"
      ]
     },
     "metadata": {
      "needs_background": "light"
     },
     "output_type": "display_data"
    },
    {
     "name": "stdout",
     "output_type": "stream",
     "text": [
      "IOU: 0.0\n"
     ]
    },
    {
     "data": {
      "image/png": "[encoded data removed]",
      "text/plain": [
       "<Figure size 432x288 with 1 Axes>"
      ]
     },
     "metadata": {
      "needs_background": "light"
     },
     "output_type": "display_data"
    },
    {
     "name": "stdout",
     "output_type": "stream",
     "text": [
      "IOU: 0.0\n"
     ]
    },
    {
     "data": {
      "image/png": "[encoded data removed]",
      "text/plain": [
       "<Figure size 432x288 with 1 Axes>"
      ]
     },
     "metadata": {
      "needs_background": "light"
     },
     "output_type": "display_data"
    },
    {
     "name": "stdout",
     "output_type": "stream",
     "text": [
      "IOU: 0.0\n"
     ]
    },
    {
     "data": {
      "image/png": "[encoded data removed]",
      "text/plain": [
       "<Figure size 432x288 with 1 Axes>"
      ]
     },
     "metadata": {
      "needs_background": "light"
     },
     "output_type": "display_data"
    },
    {
     "name": "stdout",
     "output_type": "stream",
     "text": [
      "IOU: 0.0\n"
     ]
    },
    {
     "data": {
      "image/png": "[encoded data removed]",
      "text/plain": [
       "<Figure size 432x288 with 1 Axes>"
      ]
     },
     "metadata": {
      "needs_background": "light"
     },
     "output_type": "display_data"
    },
    {
     "name": "stdout",
     "output_type": "stream",
     "text": [
      "IOU: 0.0\n"
     ]
    },
    {
     "data": {
      "image/png": "[encoded data removed]",
      "text/plain": [
       "<Figure size 432x288 with 1 Axes>"
      ]
     },
     "metadata": {
      "needs_background": "light"
     },
     "output_type": "display_data"
    },
    {
     "name": "stdout",
     "output_type": "stream",
     "text": [
      "IOU: 0.0\n"
     ]
    },
    {
     "data": {
      "image/png": "[encoded data removed]",
      "text/plain": [
       "<Figure size 432x288 with 1 Axes>"
      ]
     },
     "metadata": {
      "needs_background": "light"
     },
     "output_type": "display_data"
    },
    {
     "name": "stdout",
     "output_type": "stream",
     "text": [
      "IOU: 0.0\n"
     ]
    },
    {
     "data": {
      "image/png": "[encoded data removed]",
      "text/plain": [
       "<Figure size 432x288 with 1 Axes>"
      ]
     },
     "metadata": {
      "needs_background": "light"
     },
     "output_type": "display_data"
    },
    {
     "name": "stdout",
     "output_type": "stream",
     "text": [
      "IOU: 0.0\n"
     ]
    },
    {
     "data": {
      "image/png": "[encoded data removed]",
      "text/plain": [
       "<Figure size 432x288 with 1 Axes>"
      ]
     },
     "metadata": {
      "needs_background": "light"
     },
     "output_type": "display_data"
    },
    {
     "name": "stdout",
     "output_type": "stream",
     "text": [
      "IOU: 0.0\n"
     ]
    },
    {
     "data": {
      "image/png": "[encoded data removed]",
      "text/plain": [
       "<Figure size 432x288 with 1 Axes>"
      ]
     },
     "metadata": {
      "needs_background": "light"
     },
     "output_type": "display_data"
    },
    {
     "name": "stdout",
     "output_type": "stream",
     "text": [
      "IOU: 0.0\n"
     ]
    },
    {
     "data": {
      "image/png": "[encoded data removed]",
      "text/plain": [
       "<Figure size 432x288 with 1 Axes>"
      ]
     },
     "metadata": {
      "needs_background": "light"
     },
     "output_type": "display_data"
    },
    {
     "name": "stdout",
     "output_type": "stream",
     "text": [
      "IOU: 0.0\n"
     ]
    },
    {
     "data": {
      "image/png": "[encoded data removed]",
      "text/plain": [
       "<Figure size 432x288 with 1 Axes>"
      ]
     },
     "metadata": {
      "needs_background": "light"
     },
     "output_type": "display_data"
    },
    {
     "name": "stdout",
     "output_type": "stream",
     "text": [
      "IOU: 0.0\n"
     ]
    },
    {
     "data": {
      "image/png": "[encoded data removed]",
      "text/plain": [
       "<Figure size 432x288 with 1 Axes>"
      ]
     },
     "metadata": {
      "needs_background": "light"
     },
     "output_type": "display_data"
    },
    {
     "name": "stdout",
     "output_type": "stream",
     "text": [
      "IOU: 0.0\n"
     ]
    },
    {
     "data": {
      "image/png": "[encoded data removed]",
      "text/plain": [
       "<Figure size 432x288 with 1 Axes>"
      ]
     },
     "metadata": {
      "needs_background": "light"
     },
     "output_type": "display_data"
    },
    {
     "name": "stdout",
     "output_type": "stream",
     "text": [
      "IOU: 0.0\n"
     ]
    },
    {
     "data": {
      "image/png": "[encoded data removed]",
      "text/plain": [
       "<Figure size 432x288 with 1 Axes>"
      ]
     },
     "metadata": {
      "needs_background": "light"
     },
     "output_type": "display_data"
    },
    {
     "name": "stdout",
     "output_type": "stream",
     "text": [
      "IOU: 0.0\n"
     ]
    },
    {
     "data": {
      "image/png": "[encoded data removed]",
      "text/plain": [
       "<Figure size 432x288 with 1 Axes>"
      ]
     },
     "metadata": {
      "needs_background": "light"
     },
     "output_type": "display_data"
    },
    {
     "name": "stdout",
     "output_type": "stream",
     "text": [
      "IOU: 0.0\n"
     ]
    },
    {
     "data": {
      "image/png": "[encoded data removed]",
      "text/plain": [
       "<Figure size 432x288 with 1 Axes>"
      ]
     },
     "metadata": {
      "needs_background": "light"
     },
     "output_type": "display_data"
    },
    {
     "name": "stdout",
     "output_type": "stream",
     "text": [
      "IOU: 0.0\n"
     ]
    },
    {
     "data": {
      "image/png": "[encoded data removed]",
      "text/plain": [
       "<Figure size 432x288 with 1 Axes>"
      ]
     },
     "metadata": {
      "needs_background": "light"
     },
     "output_type": "display_data"
    },
    {
     "name": "stdout",
     "output_type": "stream",
     "text": [
      "IOU: 0.0\n"
     ]
    },
    {
     "data": {
      "image/png": "[encoded data removed]",
      "text/plain": [
       "<Figure size 432x288 with 1 Axes>"
      ]
     },
     "metadata": {
      "needs_background": "light"
     },
     "output_type": "display_data"
    },
    {
     "name": "stdout",
     "output_type": "stream",
     "text": [
      "IOU: 0.0\n"
     ]
    },
    {
     "data": {
      "image/png": "[encoded data removed]",
      "text/plain": [
       "<Figure size 432x288 with 1 Axes>"
      ]
     },
     "metadata": {
      "needs_background": "light"
     },
     "output_type": "display_data"
    },
    {
     "name": "stdout",
     "output_type": "stream",
     "text": [
      "IOU: 0.0\n"
     ]
    },
    {
     "data": {
      "image/png": "[encoded data removed]",
      "text/plain": [
       "<Figure size 432x288 with 1 Axes>"
      ]
     },
     "metadata": {
      "needs_background": "light"
     },
     "output_type": "display_data"
    },
    {
     "name": "stdout",
     "output_type": "stream",
     "text": [
      "IOU: 0.0\n"
     ]
    },
    {
     "data": {
      "image/png": "[encoded data removed]",
      "text/plain": [
       "<Figure size 432x288 with 1 Axes>"
      ]
     },
     "metadata": {
      "needs_background": "light"
     },
     "output_type": "display_data"
    },
    {
     "name": "stdout",
     "output_type": "stream",
     "text": [
      "IOU: 0.0\n"
     ]
    },
    {
     "data": {
      "image/png": "[encoded data removed]",
      "text/plain": [
       "<Figure size 432x288 with 1 Axes>"
      ]
     },
     "metadata": {
      "needs_background": "light"
     },
     "output_type": "display_data"
    },
    {
     "name": "stdout",
     "output_type": "stream",
     "text": [
      "IOU: 0.0\n"
     ]
    },
    {
     "data": {
      "image/png": "[encoded data removed]",
      "text/plain": [
       "<Figure size 432x288 with 1 Axes>"
      ]
     },
     "metadata": {
      "needs_background": "light"
     },
     "output_type": "display_data"
    },
    {
     "name": "stdout",
     "output_type": "stream",
     "text": [
      "IOU: 0.0\n"
     ]
    },
    {
     "data": {
      "image/png": "[encoded data removed]",
      "text/plain": [
       "<Figure size 432x288 with 1 Axes>"
      ]
     },
     "metadata": {
      "needs_background": "light"
     },
     "output_type": "display_data"
    },
    {
     "name": "stdout",
     "output_type": "stream",
     "text": [
      "IOU: 0.0\n"
     ]
    },
    {
     "data": {
      "image/png": "[encoded data removed]",
      "text/plain": [
       "<Figure size 432x288 with 1 Axes>"
      ]
     },
     "metadata": {
      "needs_background": "light"
     },
     "output_type": "display_data"
    },
    {
     "name": "stdout",
     "output_type": "stream",
     "text": [
      "IOU: 0.0\n"
     ]
    },
    {
     "data": {
      "image/png": "[encoded data removed]",
      "text/plain": [
       "<Figure size 432x288 with 1 Axes>"
      ]
     },
     "metadata": {
      "needs_background": "light"
     },
     "output_type": "display_data"
    },
    {
     "name": "stdout",
     "output_type": "stream",
     "text": [
      "IOU: 0.0\n"
     ]
    },
    {
     "data": {
      "image/png": "[encoded data removed]",
      "text/plain": [
       "<Figure size 432x288 with 1 Axes>"
      ]
     },
     "metadata": {
      "needs_background": "light"
     },
     "output_type": "display_data"
    },
    {
     "name": "stdout",
     "output_type": "stream",
     "text": [
      "IOU: 0.0\n"
     ]
    },
    {
     "data": {
      "image/png": "[encoded data removed]",
      "text/plain": [
       "<Figure size 432x288 with 1 Axes>"
      ]
     },
     "metadata": {
      "needs_background": "light"
     },
     "output_type": "display_data"
    },
    {
     "name": "stdout",
     "output_type": "stream",
     "text": [
      "IOU: 0.0\n"
     ]
    },
    {
     "data": {
      "image/png": "[encoded data removed]",
      "text/plain": [
       "<Figure size 432x288 with 1 Axes>"
      ]
     },
     "metadata": {
      "needs_background": "light"
     },
     "output_type": "display_data"
    },
    {
     "name": "stdout",
     "output_type": "stream",
     "text": [
      "IOU: 0.0\n"
     ]
    },
    {
     "data": {
      "image/png": "[encoded data removed]",
      "text/plain": [
       "<Figure size 432x288 with 1 Axes>"
      ]
     },
     "metadata": {
      "needs_background": "light"
     },
     "output_type": "display_data"
    },
    {
     "name": "stdout",
     "output_type": "stream",
     "text": [
      "IOU: 0.0\n"
     ]
    },
    {
     "data": {
      "image/png": "[encoded data removed]",
      "text/plain": [
       "<Figure size 432x288 with 1 Axes>"
      ]
     },
     "metadata": {
      "needs_background": "light"
     },
     "output_type": "display_data"
    },
    {
     "name": "stdout",
     "output_type": "stream",
     "text": [
      "IOU: 0.0\n"
     ]
    },
    {
     "data": {
      "image/png": "[encoded data removed]",
      "text/plain": [
       "<Figure size 432x288 with 1 Axes>"
      ]
     },
     "metadata": {
      "needs_background": "light"
     },
     "output_type": "display_data"
    },
    {
     "name": "stdout",
     "output_type": "stream",
     "text": [
      "IOU: 0.0\n"
     ]
    },
    {
     "data": {
      "image/png": "[encoded data removed]",
      "text/plain": [
       "<Figure size 432x288 with 1 Axes>"
      ]
     },
     "metadata": {
      "needs_background": "light"
     },
     "output_type": "display_data"
    },
    {
     "name": "stdout",
     "output_type": "stream",
     "text": [
      "IOU: 0.0\n"
     ]
    },
    {
     "data": {
      "image/png": "[encoded data removed]",
      "text/plain": [
       "<Figure size 432x288 with 1 Axes>"
      ]
     },
     "metadata": {
      "needs_background": "light"
     },
     "output_type": "display_data"
    },
    {
     "name": "stdout",
     "output_type": "stream",
     "text": [
      "IOU: 0.0\n"
     ]
    },
    {
     "data": {
      "image/png": "[encoded data removed]",
      "text/plain": [
       "<Figure size 432x288 with 1 Axes>"
      ]
     },
     "metadata": {
      "needs_background": "light"
     },
     "output_type": "display_data"
    },
    {
     "name": "stdout",
     "output_type": "stream",
     "text": [
      "IOU: 0.0\n"
     ]
    },
    {
     "data": {
      "image/png": "[encoded data removed]",
      "text/plain": [
       "<Figure size 432x288 with 1 Axes>"
      ]
     },
     "metadata": {
      "needs_background": "light"
     },
     "output_type": "display_data"
    },
    {
     "name": "stdout",
     "output_type": "stream",
     "text": [
      "IOU: 0.0\n"
     ]
    },
    {
     "data": {
      "image/png": "[encoded data removed]",
      "text/plain": [
       "<Figure size 432x288 with 1 Axes>"
      ]
     },
     "metadata": {
      "needs_background": "light"
     },
     "output_type": "display_data"
    },
    {
     "name": "stdout",
     "output_type": "stream",
     "text": [
      "IOU: 0.0\n"
     ]
    },
    {
     "data": {
      "image/png": "[encoded data removed]",
      "text/plain": [
       "<Figure size 432x288 with 1 Axes>"
      ]
     },
     "metadata": {
      "needs_background": "light"
     },
     "output_type": "display_data"
    },
    {
     "name": "stdout",
     "output_type": "stream",
     "text": [
      "IOU: 0.0\n"
     ]
    },
    {
     "data": {
      "image/png": "[encoded data removed]",
      "text/plain": [
       "<Figure size 432x288 with 1 Axes>"
      ]
     },
     "metadata": {
      "needs_background": "light"
     },
     "output_type": "display_data"
    }
   ],
   "source": [
    "processImages(combined[combined.iou <= 0.1].index.values)"
   ]
  },
  {
   "cell_type": "code",
   "execution_count": 62,
   "metadata": {},
   "outputs": [
    {
     "name": "stdout",
     "output_type": "stream",
     "text": [
      "IOU: 1.0\n"
     ]
    },
    {
     "data": {
      "image/png": "[encoded data removed]",
      "text/plain": [
       "<Figure size 432x288 with 1 Axes>"
      ]
     },
     "metadata": {
      "needs_background": "light"
     },
     "output_type": "display_data"
    },
    {
     "name": "stdout",
     "output_type": "stream",
     "text": [
      "IOU: 1.0\n"
     ]
    },
    {
     "data": {
      "image/png": "[encoded data removed]",
      "text/plain": [
       "<Figure size 432x288 with 1 Axes>"
      ]
     },
     "metadata": {
      "needs_background": "light"
     },
     "output_type": "display_data"
    },
    {
     "name": "stdout",
     "output_type": "stream",
     "text": [
      "IOU: 1.0\n"
     ]
    },
    {
     "data": {
      "image/png": "[encoded data removed]",
      "text/plain": [
       "<Figure size 432x288 with 1 Axes>"
      ]
     },
     "metadata": {
      "needs_background": "light"
     },
     "output_type": "display_data"
    },
    {
     "name": "stdout",
     "output_type": "stream",
     "text": [
      "IOU: 1.0\n"
     ]
    },
    {
     "data": {
      "image/png": "[encoded data removed]",
      "text/plain": [
       "<Figure size 432x288 with 1 Axes>"
      ]
     },
     "metadata": {
      "needs_background": "light"
     },
     "output_type": "display_data"
    },
    {
     "name": "stdout",
     "output_type": "stream",
     "text": [
      "IOU: 1.0\n"
     ]
    },
    {
     "data": {
      "image/png": "[encoded data removed]",
      "text/plain": [
       "<Figure size 432x288 with 1 Axes>"
      ]
     },
     "metadata": {
      "needs_background": "light"
     },
     "output_type": "display_data"
    },
    {
     "name": "stdout",
     "output_type": "stream",
     "text": [
      "IOU: 1.0\n"
     ]
    },
    {
     "data": {
      "image/png": "[encoded data removed]",
      "text/plain": [
       "<Figure size 432x288 with 1 Axes>"
      ]
     },
     "metadata": {
      "needs_background": "light"
     },
     "output_type": "display_data"
    },
    {
     "name": "stdout",
     "output_type": "stream",
     "text": [
      "IOU: 1.0\n"
     ]
    },
    {
     "data": {
      "image/png": "[encoded data removed]",
      "text/plain": [
       "<Figure size 432x288 with 1 Axes>"
      ]
     },
     "metadata": {
      "needs_background": "light"
     },
     "output_type": "display_data"
    },
    {
     "name": "stdout",
     "output_type": "stream",
     "text": [
      "IOU: 1.0\n"
     ]
    },
    {
     "data": {
      "image/png": "[encoded data removed]",
      "text/plain": [
       "<Figure size 432x288 with 1 Axes>"
      ]
     },
     "metadata": {
      "needs_background": "light"
     },
     "output_type": "display_data"
    },
    {
     "name": "stdout",
     "output_type": "stream",
     "text": [
      "IOU: 1.0\n"
     ]
    },
    {
     "data": {
      "image/png": "[encoded data removed]",
      "text/plain": [
       "<Figure size 432x288 with 1 Axes>"
      ]
     },
     "metadata": {
      "needs_background": "light"
     },
     "output_type": "display_data"
    },
    {
     "name": "stdout",
     "output_type": "stream",
     "text": [
      "IOU: 1.0\n"
     ]
    },
    {
     "data": {
      "image/png": "[encoded data removed]",
      "text/plain": [
       "<Figure size 432x288 with 1 Axes>"
      ]
     },
     "metadata": {
      "needs_background": "light"
     },
     "output_type": "display_data"
    }
   ],
   "source": [
    "processImages(combined[combined.iou > 0.9999].index.values[:10])"
   ]
  },
  {
   "cell_type": "code",
   "execution_count": 36,
   "metadata": {},
   "outputs": [],
   "source": [
    "avgiouPerTooth = combined.groupby(\"DID\").agg({\"iou\":np.average})"
   ]
  },
  {
   "cell_type": "code",
   "execution_count": 39,
   "metadata": {},
   "outputs": [
    {
     "data": {
      "text/plain": [
       "Index(['iou'], dtype='object')"
      ]
     },
     "execution_count": 39,
     "metadata": {},
     "output_type": "execute_result"
    }
   ],
   "source": [
    "avgiouPerTooth.columns"
   ]
  },
  {
   "cell_type": "code",
   "execution_count": 41,
   "metadata": {},
   "outputs": [
    {
     "data": {
      "text/plain": [
       "<BarContainer object of 49 artists>"
      ]
     },
     "execution_count": 41,
     "metadata": {},
     "output_type": "execute_result"
    },
    {
     "data": {
      "image/png": "[encoded data removed]",
      "text/plain": [
       "<Figure size 1332x756 with 1 Axes>"
      ]
     },
     "metadata": {
      "needs_background": "light"
     },
     "output_type": "display_data"
    }
   ],
   "source": [
    "fig = plt.gcf()\n",
    "fig.set_size_inches(18.5, 10.5)\n",
    "plt.bar(avgiouPerTooth.index, avgiouPerTooth[\"iou\"])\n",
    "# Fogankénti átlagos IOU\n",
    "# X tengely: a fog azonosítója\n",
    "# Y tengely: átlagos IOU"
   ]
  },
  {
   "cell_type": "code",
   "execution_count": 56,
   "metadata": {},
   "outputs": [
    {
     "data": {
      "text/plain": [
       "0.0    0.000000\n",
       "0.1    0.565675\n",
       "0.2    0.737705\n",
       "0.3    0.812500\n",
       "0.4    0.853490\n",
       "0.5    0.882114\n",
       "0.6    0.903452\n",
       "0.7    0.923872\n",
       "0.8    0.941860\n",
       "0.9    0.963222\n",
       "1.0    1.000000\n",
       "Name: iou, dtype: float64"
      ]
     },
     "execution_count": 56,
     "metadata": {},
     "output_type": "execute_result"
    }
   ],
   "source": [
    "combined.iou.quantile(np.linspace(0.0, 1.0, 11))\n",
    "# Percentilisek, megmutatja, hogy meddig kell emelnünk az IOU felső korlátját, hogy az eredmények adott százalékát lefedjük"
   ]
  },
  {
   "cell_type": "code",
   "execution_count": 69,
   "metadata": {},
   "outputs": [],
   "source": [
    "def showATeeth(did):\n",
    "    ids = combined[combined.DID == did][\"GID\"].values\n",
    "    imgPaths = [f\"original/{i}.png\" for i in ids]\n",
    "    mskPaths = [f\"roots/{i}.png\" for i in ids]\n",
    "    \n",
    "    imgs = []\n",
    "    \n",
    "    for i in range(len(ids)):\n",
    "        raw = Image.open(imgPaths[i])\n",
    "        raw = np.array(raw.resize((256, 256)))/255.\n",
    "        raw = raw[:,:,0:3]\n",
    "        imgs.append(raw[:,:,0])\n",
    "\n",
    "        truemsk = Image.open(mskPaths[i])\n",
    "        truemsk = np.array(truemsk.resize((256, 256)))/255.\n",
    "        if len(truemsk.shape) > 2:\n",
    "            truemsk = truemsk[:,:,0]\n",
    "        \n",
    "        #predict the mask \n",
    "        pred = model.predict(np.expand_dims(raw, 0))\n",
    "\n",
    "        #mask post-processing \n",
    "        msk  = pred.squeeze()\n",
    "        msk[msk >= 0.5] = 1 \n",
    "        msk[msk < 0.5] = 0\n",
    "        \n",
    "        \n",
    "    data = np.array(imgs)\n",
    "    print(data.shape)\n",
    "    fig = plt.figure()\n",
    "    fig.set_size_inches(18.5, 10.5)\n",
    "    ax = fig.gca(projection='3d')\n",
    "\n",
    "    ax.voxels(data, alpha = 0.2)\n",
    "\n",
    "plt.show()"
   ]
  },
  {
   "cell_type": "markdown",
   "metadata": {
    "colab_type": "text",
    "id": "OfoO80D4uYAj"
   },
   "source": [
    "# References\n",
    "\n",
    "\n",
    "1.   http://deeplearning.net/tutorial/unet.html\n",
    "2.   https://github.com/ldenoue/keras-unet\n",
    "\n"
   ]
  }
 ],
 "metadata": {
  "accelerator": "GPU",
  "colab": {
   "name": "Copy of Unet.ipynb",
   "provenance": [
    {
     "file_id": "https://github.com/zaidalyafeai/Notebooks/blob/master/unet.ipynb",
     "timestamp": 1595263311044
    }
   ]
  },
  "kernelspec": {
   "display_name": "Python 3",
   "language": "python",
   "name": "python3"
  },
  "language_info": {
   "codemirror_mode": {
    "name": "ipython",
    "version": 3
   },
   "file_extension": ".py",
   "mimetype": "text/x-python",
   "name": "python",
   "nbconvert_exporter": "python",
   "pygments_lexer": "ipython3",
   "version": "3.7.4"
  }
 },
 "nbformat": 4,
 "nbformat_minor": 4
}
