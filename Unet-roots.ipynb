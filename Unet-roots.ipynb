{
 "cells": [
  {
   "cell_type": "markdown",
   "metadata": {
    "colab_type": "text",
    "id": "mh-MgyQM2Qw9"
   },
   "source": [
    "# Introduction\n",
    "\n",
    "The U-Net model is a simple fully  convolutional neural network that is used for binary segmentation i.e foreground and background pixel-wise classification. Mainly, it consists of two parts. \n",
    "\n",
    "*   Contracting Path: we apply a series of conv layers and downsampling layers  (max-pooling) layers to reduce the spatial size \n",
    "*   Expanding Path: we apply a series of upsampling layers to reconstruct the spatial size of the input. \n",
    "\n",
    "The two parts are connected using a concatenation layers among different levels. This allows learning different features at different levels. At the end we have a simple conv 1x1 layer to reduce the number of channels to 1. \n",
    "\n",
    "\n",
    "![alt text](https://blog.playment.io/wp-content/uploads/2018/03/Screen-Shot-2018-09-05-at-3.00.03-PM.png)"
   ]
  },
  {
   "cell_type": "markdown",
   "metadata": {
    "colab_type": "text",
    "id": "3LisvDshzevQ"
   },
   "source": [
    "# Imports"
   ]
  },
  {
   "cell_type": "code",
   "execution_count": 36,
   "metadata": {
    "colab": {
     "base_uri": "https://localhost:8080/",
     "height": 34
    },
    "colab_type": "code",
    "executionInfo": {
     "elapsed": 3577,
     "status": "ok",
     "timestamp": 1595263332250,
     "user": {
      "displayName": "Felrugo",
      "photoUrl": "https://lh3.googleusercontent.com/a-/AOh14GiEZYCHDckrxx9NlTyMjHwT3AV1Xr35LocC6wp5=s64",
      "userId": "06350835367473888493"
     },
     "user_tz": -120
    },
    "id": "bdeDl5HO0QsY",
    "outputId": "7f618222-cc1c-4eb3-f01e-f93776d12359"
   },
   "outputs": [],
   "source": [
    "import numpy as np\n",
    "import matplotlib.pyplot as plt\n",
    "import os\n",
    "from PIL import Image\n",
    "import tensorflow as tf\n",
    "import pandas as pd\n",
    "import json\n",
    "#import keras\n",
    "keras = tf.keras\n",
    "Model = keras.models.Model\n",
    "Conv2D, MaxPooling2D, Input, Conv2DTranspose, Concatenate, BatchNormalization, UpSampling2D = keras.layers.Conv2D, keras.layers.MaxPooling2D, keras.layers.Input, keras.layers.Conv2DTranspose, keras.layers.Concatenate, keras.layers.BatchNormalization, keras.layers.UpSampling2D\n",
    "Dropout, Activation = keras.layers.Dropout, keras.layers.Activation\n",
    "Adam, SGD = keras.optimizers.Adam, keras.optimizers.SGD\n",
    "ModelCheckpoint, ReduceLROnPlateau, EarlyStopping = keras.callbacks.ModelCheckpoint, keras.callbacks. ReduceLROnPlateau, keras.callbacks.EarlyStopping\n",
    "K = keras.backend\n",
    "plot_model = keras.utils.plot_model\n",
    "\n",
    "import glob\n",
    "import random\n",
    "import cv2\n",
    "from random import shuffle"
   ]
  },
  {
   "cell_type": "markdown",
   "metadata": {
    "colab_type": "text",
    "id": "aOpRsS-TzhRg"
   },
   "source": [
    "# Dataset\n",
    "\n",
    "We will use the The Oxford-IIIT Pet Dataset. It contains 37 classes of dogs and cats with around 200 images per each class. The dataset contains labels as bounding boxes and segmentation masks. The total number of images in the dataset is a little more than 7K. \n",
    "\n",
    "![alt text](http://www.robots.ox.ac.uk/~vgg/data/pets/pet_annotations.jpg)\n",
    "\n",
    "Download the images/masks and unzip the files "
   ]
  },
  {
   "cell_type": "code",
   "execution_count": 37,
   "metadata": {},
   "outputs": [
    {
     "data": {
      "text/plain": [
       "(501, 501)"
      ]
     },
     "execution_count": 37,
     "metadata": {},
     "output_type": "execute_result"
    }
   ],
   "source": [
    "t = Image.open(\"binary/0.png\")\n",
    "i = np.array(t)\n",
    "i = i[:,:,0]\n",
    "i.shape"
   ]
  },
  {
   "cell_type": "markdown",
   "metadata": {
    "colab_type": "text",
    "id": "gF9UZdcr0Xkq"
   },
   "source": [
    "Note that we have two foulders. The first one is `images` which contains the raw images and annotation which contains the masks as a `binary` foulder image."
   ]
  },
  {
   "cell_type": "markdown",
   "metadata": {
    "colab_type": "text",
    "id": "tavQ2-MJ0x9E"
   },
   "source": [
    "# Generators"
   ]
  },
  {
   "cell_type": "code",
   "execution_count": 38,
   "metadata": {
    "colab": {},
    "colab_type": "code",
    "executionInfo": {
     "elapsed": 613,
     "status": "ok",
     "timestamp": 1595263414609,
     "user": {
      "displayName": "Felrugo",
      "photoUrl": "https://lh3.googleusercontent.com/a-/AOh14GiEZYCHDckrxx9NlTyMjHwT3AV1Xr35LocC6wp5=s64",
      "userId": "06350835367473888493"
     },
     "user_tz": -120
    },
    "id": "P8tq55g677wp"
   },
   "outputs": [],
   "source": [
    "def image_generator(files, batch_size = 32, sz = (256, 256)):\n",
    "  \n",
    "  while True: \n",
    "    \n",
    "    #extract a random batch \n",
    "    batch = np.random.choice(files, size = batch_size)    \n",
    "    \n",
    "    #variables for collecting batches of inputs and outputs \n",
    "    batch_x = []\n",
    "    batch_y = []\n",
    "    \n",
    "    \n",
    "    for f in batch:\n",
    "\n",
    "        #get the masks. Note that masks are png files \n",
    "        mask = Image.open(f'roots/{f}.png')\n",
    "        mask = np.array(mask.resize(sz))\n",
    "\n",
    "\n",
    "        #preprocess the mask \n",
    "        mask[mask == 0] = 0 \n",
    "        mask[mask != 0 ] = 1\n",
    "        \n",
    "        batch_y.append(mask)\n",
    "\n",
    "        #preprocess the raw images \n",
    "        raw = Image.open(f'original/{f}.png')\n",
    "        raw = raw.resize(sz)\n",
    "        raw = np.array(raw)\n",
    "\n",
    "        #check the number of channels because some of the images are RGBA or GRAY\n",
    "        if len(raw.shape) == 2:\n",
    "          raw = np.stack((raw,)*3, axis=-1)\n",
    "\n",
    "        else:\n",
    "          raw = raw[:,:,0:3]\n",
    "\n",
    "        batch_x.append(raw)\n",
    "\n",
    "    #preprocess a batch of images and masks \n",
    "    batch_x = np.array(batch_x)/255.\n",
    "    batch_y = np.array(batch_y)\n",
    "    batch_y = np.stack((batch_y,)*3, axis=-1)\n",
    "    #batch_y = np.expand_dims(batch_y,3)\n",
    "\n",
    "    yield (batch_x, batch_y)      \n",
    "    "
   ]
  },
  {
   "cell_type": "code",
   "execution_count": 39,
   "metadata": {
    "colab": {},
    "colab_type": "code",
    "executionInfo": {
     "elapsed": 493,
     "status": "ok",
     "timestamp": 1595263428997,
     "user": {
      "displayName": "Felrugo",
      "photoUrl": "https://lh3.googleusercontent.com/a-/AOh14GiEZYCHDckrxx9NlTyMjHwT3AV1Xr35LocC6wp5=s64",
      "userId": "06350835367473888493"
     },
     "user_tz": -120
    },
    "id": "PvwbmS-YTHEZ"
   },
   "outputs": [],
   "source": [
    "batch_size = 32\n",
    "\n",
    "all_files = [i for i in range(4049)]\n",
    "shuffle(all_files)\n",
    "\n",
    "split = int(0.95 * len(all_files))\n",
    "\n",
    "#split into training and testing\n",
    "train_files = all_files[0:split]\n",
    "test_files  = all_files[split:]\n",
    "\n",
    "train_generator = image_generator(train_files, batch_size = batch_size)\n",
    "test_generator  = image_generator(test_files, batch_size = batch_size)"
   ]
  },
  {
   "cell_type": "code",
   "execution_count": 40,
   "metadata": {
    "colab": {},
    "colab_type": "code",
    "executionInfo": {
     "elapsed": 696,
     "status": "ok",
     "timestamp": 1595263437844,
     "user": {
      "displayName": "Felrugo",
      "photoUrl": "https://lh3.googleusercontent.com/a-/AOh14GiEZYCHDckrxx9NlTyMjHwT3AV1Xr35LocC6wp5=s64",
      "userId": "06350835367473888493"
     },
     "user_tz": -120
    },
    "id": "yn_bdWgIuRHD"
   },
   "outputs": [],
   "source": [
    "x, y= next(train_generator)"
   ]
  },
  {
   "cell_type": "code",
   "execution_count": 41,
   "metadata": {},
   "outputs": [
    {
     "data": {
      "text/plain": [
       "(32, 256, 256, 3)"
      ]
     },
     "execution_count": 41,
     "metadata": {},
     "output_type": "execute_result"
    }
   ],
   "source": [
    "y.shape"
   ]
  },
  {
   "cell_type": "code",
   "execution_count": 42,
   "metadata": {
    "colab": {
     "base_uri": "https://localhost:8080/",
     "height": 160
    },
    "colab_type": "code",
    "executionInfo": {
     "elapsed": 566,
     "status": "ok",
     "timestamp": 1595263449991,
     "user": {
      "displayName": "Felrugo",
      "photoUrl": "https://lh3.googleusercontent.com/a-/AOh14GiEZYCHDckrxx9NlTyMjHwT3AV1Xr35LocC6wp5=s64",
      "userId": "06350835367473888493"
     },
     "user_tz": -120
    },
    "id": "jnuNW20FeupL",
    "outputId": "6fb4e0c2-f495-4156-dbde-f18fcc64ae2b"
   },
   "outputs": [
    {
     "data": {
      "text/plain": [
       "<matplotlib.image.AxesImage at 0x192b1e4e608>"
      ]
     },
     "execution_count": 42,
     "metadata": {},
     "output_type": "execute_result"
    },
    {
     "data": {
      "image/png": "[encoded data removed]",
      "text/plain": [
       "<Figure size 432x288 with 1 Axes>"
      ]
     },
     "metadata": {
      "needs_background": "light"
     },
     "output_type": "display_data"
    }
   ],
   "source": [
    "plt.axis('off')\n",
    "img = x[0]\n",
    "msk = y[0].squeeze()\n",
    "#msk = np.stack((msk,)*3, axis=-1)\n",
    "\n",
    "plt.imshow( np.concatenate([img, msk, img*msk], axis = 1))"
   ]
  },
  {
   "cell_type": "markdown",
   "metadata": {
    "colab_type": "text",
    "id": "raXLOfBk1pLV"
   },
   "source": [
    "# IoU metric\n",
    "\n",
    "The intersection over union (IoU) metric is a simple metric used to evaluate the performance of a segmentation algorithm. Given two masks $y_{true}, y_{pred}$ we evaluate \n",
    "\n",
    "$$IoU = \\frac{y_{true} \\cap y_{pred}}{y_{true} \\cup y_{pred}}$$"
   ]
  },
  {
   "cell_type": "code",
   "execution_count": 43,
   "metadata": {
    "colab": {},
    "colab_type": "code",
    "executionInfo": {
     "elapsed": 759,
     "status": "ok",
     "timestamp": 1595263562205,
     "user": {
      "displayName": "Felrugo",
      "photoUrl": "https://lh3.googleusercontent.com/a-/AOh14GiEZYCHDckrxx9NlTyMjHwT3AV1Xr35LocC6wp5=s64",
      "userId": "06350835367473888493"
     },
     "user_tz": -120
    },
    "id": "xJLriYXX1oZU"
   },
   "outputs": [],
   "source": [
    "def mean_iou(y_true, y_pred):\n",
    "    yt0 = y_true[:,:,:,0]\n",
    "    yp0 = K.cast(y_pred[:,:,:,0] > 0.5, 'float32')\n",
    "    inter = tf.math.count_nonzero(tf.logical_and(tf.equal(yt0, 1), tf.equal(yp0, 1)))\n",
    "    union = tf.math.count_nonzero(tf.add(yt0, yp0))\n",
    "    iou = tf.where(tf.equal(union, 0), 1., tf.cast(inter/union, 'float32'))\n",
    "    return iou"
   ]
  },
  {
   "cell_type": "markdown",
   "metadata": {
    "colab_type": "text",
    "id": "160g6Ex41r-2"
   },
   "source": [
    "# Model"
   ]
  },
  {
   "cell_type": "code",
   "execution_count": 44,
   "metadata": {
    "colab": {},
    "colab_type": "code",
    "executionInfo": {
     "elapsed": 598,
     "status": "ok",
     "timestamp": 1595263562777,
     "user": {
      "displayName": "Felrugo",
      "photoUrl": "https://lh3.googleusercontent.com/a-/AOh14GiEZYCHDckrxx9NlTyMjHwT3AV1Xr35LocC6wp5=s64",
      "userId": "06350835367473888493"
     },
     "user_tz": -120
    },
    "id": "hONrrUbW9CM_"
   },
   "outputs": [],
   "source": [
    "def unet(sz = (256, 256, 3)):\n",
    "  x = Input(sz)\n",
    "  inputs = x\n",
    "  \n",
    "  #down sampling \n",
    "  f = 8\n",
    "  layers = []\n",
    "  \n",
    "  for i in range(0, 6):\n",
    "    x = Conv2D(f, 3, activation='relu', padding='same') (x)\n",
    "    x = Conv2D(f, 3, activation='relu', padding='same') (x)\n",
    "    layers.append(x)\n",
    "    x = MaxPooling2D() (x)\n",
    "    f = f*2\n",
    "  ff2 = 64 \n",
    "  \n",
    "  #bottleneck \n",
    "  j = len(layers) - 1\n",
    "  x = Conv2D(f, 3, activation='relu', padding='same') (x)\n",
    "  x = Conv2D(f, 3, activation='relu', padding='same') (x)\n",
    "  x = Conv2DTranspose(ff2, 2, strides=(2, 2), padding='same') (x)\n",
    "  x = Concatenate(axis=3)([x, layers[j]])\n",
    "  j = j -1 \n",
    "  \n",
    "  #upsampling \n",
    "  for i in range(0, 5):\n",
    "    ff2 = ff2//2\n",
    "    f = f // 2 \n",
    "    x = Conv2D(f, 3, activation='relu', padding='same') (x)\n",
    "    x = Conv2D(f, 3, activation='relu', padding='same') (x)\n",
    "    x = Conv2DTranspose(ff2, 2, strides=(2, 2), padding='same') (x)\n",
    "    x = Concatenate(axis=3)([x, layers[j]])\n",
    "    j = j -1 \n",
    "    \n",
    "  \n",
    "  #classification \n",
    "  x = Conv2D(f, 3, activation='relu', padding='same') (x)\n",
    "  x = Conv2D(f, 3, activation='relu', padding='same') (x)\n",
    "  outputs = Conv2D(1, 1, activation='sigmoid') (x)\n",
    "  \n",
    "  #model creation \n",
    "  model = Model(inputs=[inputs], outputs=[outputs])\n",
    "  model.compile(optimizer = 'rmsprop', loss = 'binary_crossentropy', metrics = [mean_iou])\n",
    "  \n",
    "  return model"
   ]
  },
  {
   "cell_type": "code",
   "execution_count": 45,
   "metadata": {
    "colab": {},
    "colab_type": "code",
    "executionInfo": {
     "elapsed": 953,
     "status": "ok",
     "timestamp": 1595263563931,
     "user": {
      "displayName": "Felrugo",
      "photoUrl": "https://lh3.googleusercontent.com/a-/AOh14GiEZYCHDckrxx9NlTyMjHwT3AV1Xr35LocC6wp5=s64",
      "userId": "06350835367473888493"
     },
     "user_tz": -120
    },
    "id": "67Fyeczk_zzh"
   },
   "outputs": [],
   "source": [
    "model = unet()"
   ]
  },
  {
   "cell_type": "markdown",
   "metadata": {
    "colab_type": "text",
    "id": "t7QY8rgO1zUU"
   },
   "source": [
    "# Callbacks\n",
    "\n",
    "Simple functions to save the model at each epoch and show some predictions "
   ]
  },
  {
   "cell_type": "code",
   "execution_count": 46,
   "metadata": {
    "colab": {},
    "colab_type": "code",
    "executionInfo": {
     "elapsed": 601,
     "status": "ok",
     "timestamp": 1595263569621,
     "user": {
      "displayName": "Felrugo",
      "photoUrl": "https://lh3.googleusercontent.com/a-/AOh14GiEZYCHDckrxx9NlTyMjHwT3AV1Xr35LocC6wp5=s64",
      "userId": "06350835367473888493"
     },
     "user_tz": -120
    },
    "id": "xfqXmNuc9lWZ"
   },
   "outputs": [],
   "source": [
    "def build_callbacks():\n",
    "        checkpointer = ModelCheckpoint(filepath='unet.h5', verbose=0, save_best_only=True, save_weights_only=True)\n",
    "        callbacks = [checkpointer, PlotLearning()]\n",
    "        return callbacks\n",
    "\n",
    "# inheritance for training process plot \n",
    "class PlotLearning(keras.callbacks.Callback):\n",
    "\n",
    "    def on_train_begin(self, logs={}):\n",
    "        self.i = 0\n",
    "        self.x = []\n",
    "        self.losses = []\n",
    "        self.val_losses = []\n",
    "        self.acc = []\n",
    "        self.val_acc = []\n",
    "        #self.fig = plt.figure()\n",
    "        self.logs = []\n",
    "    def on_epoch_end(self, epoch, logs={}):\n",
    "        self.logs.append(logs)\n",
    "        self.x.append(self.i)\n",
    "        self.losses.append(logs.get('loss'))\n",
    "        self.val_losses.append(logs.get('val_loss'))\n",
    "        self.acc.append(logs.get('mean_iou'))\n",
    "        self.val_acc.append(logs.get('val_mean_iou'))\n",
    "        self.i += 1\n",
    "        print('i=',self.i,'loss=',logs.get('loss'),'val_loss=',logs.get('val_loss'),'mean_iou=',logs.get('mean_iou'),'val_mean_iou=',logs.get('val_mean_iou'))\n",
    "        \n",
    "        #choose a random test image and preprocess\n",
    "        path = np.random.choice(test_files)\n",
    "        raw = Image.open(f'original/{path}.png')\n",
    "        raw = np.array(raw.resize((256, 256)))/255.\n",
    "        raw = raw[:,:,0:3]\n",
    "        \n",
    "        truemsk = Image.open(f'roots/{path}.png')\n",
    "        truemsk = np.array(truemsk.resize((256, 256)))/255.\n",
    "        truemsk = np.stack((truemsk,)*3, axis=-1)\n",
    "        \n",
    "        #predict the mask \n",
    "        pred = model.predict(np.expand_dims(raw, 0))\n",
    "        \n",
    "        #mask post-processing \n",
    "        msk  = pred.squeeze()\n",
    "        msk = np.stack((msk,)*3, axis=-1)\n",
    "        msk[msk >= 0.5] = 1 \n",
    "        msk[msk < 0.5] = 0 \n",
    "        \n",
    "        #show the mask and the segmented image \n",
    "        combined = np.concatenate([raw, msk, truemsk, raw* msk], axis = 1)\n",
    "        plt.axis('off')\n",
    "        plt.imshow(combined)\n",
    "        plt.show()"
   ]
  },
  {
   "cell_type": "markdown",
   "metadata": {
    "colab_type": "text",
    "id": "sU6SPuVY8Mdc"
   },
   "source": [
    "# Training"
   ]
  },
  {
   "cell_type": "code",
   "execution_count": 47,
   "metadata": {
    "colab": {
     "base_uri": "https://localhost:8080/",
     "height": 1000
    },
    "colab_type": "code",
    "executionInfo": {
     "elapsed": 3220431,
     "status": "ok",
     "timestamp": 1595266792874,
     "user": {
      "displayName": "Felrugo",
      "photoUrl": "https://lh3.googleusercontent.com/a-/AOh14GiEZYCHDckrxx9NlTyMjHwT3AV1Xr35LocC6wp5=s64",
      "userId": "06350835367473888493"
     },
     "user_tz": -120
    },
    "id": "_MXGinNg9Wjj",
    "outputId": "dcc87ed7-1cca-4ad2-d34c-b44abaaa33b2"
   },
   "outputs": [
    {
     "name": "stdout",
     "output_type": "stream",
     "text": [
      "Epoch 1/30\n",
      "120/120 [==============================] - ETA: 0s - loss: 0.0970 - mean_iou: 1.5153e-04i= 1 loss= 0.0969947800040245 val_loss= 0.007424959912896156 mean_iou= 0.00015153262938838452 val_mean_iou= 0.0\n"
     ]
    },
    {
     "data": {
      "image/png": "[encoded data removed]",
      "text/plain": [
       "<Figure size 432x288 with 1 Axes>"
      ]
     },
     "metadata": {
      "needs_background": "light"
     },
     "output_type": "display_data"
    },
    {
     "name": "stdout",
     "output_type": "stream",
     "text": [
      "120/120 [==============================] - 38s 321ms/step - loss: 0.0970 - mean_iou: 1.5153e-04 - val_loss: 0.0074 - val_mean_iou: 0.0000e+00\n",
      "Epoch 2/30\n",
      "120/120 [==============================] - ETA: 0s - loss: 0.0061 - mean_iou: 2.8360e-05i= 2 loss= 0.006097130477428436 val_loss= 0.004328148439526558 mean_iou= 2.8360002033878118e-05 val_mean_iou= 7.44213757570833e-05\n"
     ]
    },
    {
     "data": {
      "image/png": "[encoded data removed]",
      "text/plain": [
       "<Figure size 432x288 with 1 Axes>"
      ]
     },
     "metadata": {
      "needs_background": "light"
     },
     "output_type": "display_data"
    },
    {
     "name": "stdout",
     "output_type": "stream",
     "text": [
      "120/120 [==============================] - 37s 307ms/step - loss: 0.0061 - mean_iou: 2.8360e-05 - val_loss: 0.0043 - val_mean_iou: 7.4421e-05\n",
      "Epoch 3/30\n",
      "120/120 [==============================] - ETA: 0s - loss: 0.0031 - mean_iou: 0.3342i= 3 loss= 0.0031120246276259422 val_loss= 0.0032545358408242464 mean_iou= 0.334177702665329 val_mean_iou= 0.37177643179893494\n"
     ]
    },
    {
     "data": {
      "image/png": "[encoded data removed]",
      "text/plain": [
       "<Figure size 432x288 with 1 Axes>"
      ]
     },
     "metadata": {
      "needs_background": "light"
     },
     "output_type": "display_data"
    },
    {
     "name": "stdout",
     "output_type": "stream",
     "text": [
      "120/120 [==============================] - 37s 306ms/step - loss: 0.0031 - mean_iou: 0.3342 - val_loss: 0.0033 - val_mean_iou: 0.3718\n",
      "Epoch 4/30\n",
      "120/120 [==============================] - ETA: 0s - loss: 0.0021 - mean_iou: 0.6134i= 4 loss= 0.002124560298398137 val_loss= 0.0019861843902617693 mean_iou= 0.6133984923362732 val_mean_iou= 0.6076516509056091\n"
     ]
    },
    {
     "data": {
      "image/png": "[encoded data removed]",
      "text/plain": [
       "<Figure size 432x288 with 1 Axes>"
      ]
     },
     "metadata": {
      "needs_background": "light"
     },
     "output_type": "display_data"
    },
    {
     "name": "stdout",
     "output_type": "stream",
     "text": [
      "120/120 [==============================] - 37s 304ms/step - loss: 0.0021 - mean_iou: 0.6134 - val_loss: 0.0020 - val_mean_iou: 0.6077\n",
      "Epoch 5/30\n",
      "120/120 [==============================] - ETA: 0s - loss: 0.0016 - mean_iou: 0.6846i= 5 loss= 0.0016489006811752915 val_loss= 0.0015656809555366635 mean_iou= 0.6845678687095642 val_mean_iou= 0.7165719866752625\n"
     ]
    },
    {
     "data": {
      "image/png": "[encoded data removed]",
      "text/plain": [
       "<Figure size 432x288 with 1 Axes>"
      ]
     },
     "metadata": {
      "needs_background": "light"
     },
     "output_type": "display_data"
    },
    {
     "name": "stdout",
     "output_type": "stream",
     "text": [
      "120/120 [==============================] - 36s 304ms/step - loss: 0.0016 - mean_iou: 0.6846 - val_loss: 0.0016 - val_mean_iou: 0.7166\n",
      "Epoch 6/30\n",
      "120/120 [==============================] - ETA: 0s - loss: 0.0015 - mean_iou: 0.7161i= 6 loss= 0.001511419308371842 val_loss= 0.0017234351253136992 mean_iou= 0.716133713722229 val_mean_iou= 0.6974360346794128\n"
     ]
    },
    {
     "data": {
      "image/png": "[encoded data removed]",
      "text/plain": [
       "<Figure size 432x288 with 1 Axes>"
      ]
     },
     "metadata": {
      "needs_background": "light"
     },
     "output_type": "display_data"
    },
    {
     "name": "stdout",
     "output_type": "stream",
     "text": [
      "120/120 [==============================] - 36s 303ms/step - loss: 0.0015 - mean_iou: 0.7161 - val_loss: 0.0017 - val_mean_iou: 0.6974\n",
      "Epoch 7/30\n",
      "120/120 [==============================] - ETA: 0s - loss: 0.0013 - mean_iou: 0.7490i= 7 loss= 0.0012915481347590685 val_loss= 0.0011315670562908053 mean_iou= 0.7489652633666992 val_mean_iou= 0.781411349773407\n"
     ]
    },
    {
     "data": {
      "image/png": "[encoded data removed]",
      "text/plain": [
       "<Figure size 432x288 with 1 Axes>"
      ]
     },
     "metadata": {
      "needs_background": "light"
     },
     "output_type": "display_data"
    },
    {
     "name": "stdout",
     "output_type": "stream",
     "text": [
      "120/120 [==============================] - 39s 323ms/step - loss: 0.0013 - mean_iou: 0.7490 - val_loss: 0.0011 - val_mean_iou: 0.7814\n",
      "Epoch 8/30\n",
      "120/120 [==============================] - ETA: 0s - loss: 0.0012 - mean_iou: 0.7587i= 8 loss= 0.0012287121498957276 val_loss= 0.0013472175924107432 mean_iou= 0.7587470412254333 val_mean_iou= 0.7672183513641357\n"
     ]
    },
    {
     "data": {
      "image/png": "[encoded data removed]",
      "text/plain": [
       "<Figure size 432x288 with 1 Axes>"
      ]
     },
     "metadata": {
      "needs_background": "light"
     },
     "output_type": "display_data"
    },
    {
     "name": "stdout",
     "output_type": "stream",
     "text": [
      "120/120 [==============================] - 38s 319ms/step - loss: 0.0012 - mean_iou: 0.7587 - val_loss: 0.0013 - val_mean_iou: 0.7672\n",
      "Epoch 9/30\n",
      "120/120 [==============================] - ETA: 0s - loss: 0.0011 - mean_iou: 0.7774i= 9 loss= 0.0010876769665628672 val_loss= 0.0011665105121210217 mean_iou= 0.7773990035057068 val_mean_iou= 0.7671945095062256\n"
     ]
    },
    {
     "data": {
      "image/png": "[encoded data removed]",
      "text/plain": [
       "<Figure size 432x288 with 1 Axes>"
      ]
     },
     "metadata": {
      "needs_background": "light"
     },
     "output_type": "display_data"
    },
    {
     "name": "stdout",
     "output_type": "stream",
     "text": [
      "120/120 [==============================] - 38s 319ms/step - loss: 0.0011 - mean_iou: 0.7774 - val_loss: 0.0012 - val_mean_iou: 0.7672\n",
      "Epoch 10/30\n",
      "120/120 [==============================] - ETA: 0s - loss: 0.0010 - mean_iou: 0.7928i= 10 loss= 0.0010072820587083697 val_loss= 0.0009366183658130467 mean_iou= 0.7928206920623779 val_mean_iou= 0.8185403943061829\n"
     ]
    },
    {
     "data": {
      "image/png": "[encoded data removed]",
      "text/plain": [
       "<Figure size 432x288 with 1 Axes>"
      ]
     },
     "metadata": {
      "needs_background": "light"
     },
     "output_type": "display_data"
    },
    {
     "name": "stdout",
     "output_type": "stream",
     "text": [
      "120/120 [==============================] - 38s 320ms/step - loss: 0.0010 - mean_iou: 0.7928 - val_loss: 9.3662e-04 - val_mean_iou: 0.8185\n",
      "Epoch 11/30\n",
      "120/120 [==============================] - ETA: 0s - loss: 9.4330e-04 - mean_iou: 0.8001i= 11 loss= 0.0009432957740500569 val_loss= 0.000926008156966418 mean_iou= 0.8000929951667786 val_mean_iou= 0.8234265446662903\n"
     ]
    },
    {
     "data": {
      "image/png": "[encoded data removed]",
      "text/plain": [
       "<Figure size 432x288 with 1 Axes>"
      ]
     },
     "metadata": {
      "needs_background": "light"
     },
     "output_type": "display_data"
    },
    {
     "name": "stdout",
     "output_type": "stream",
     "text": [
      "120/120 [==============================] - 37s 307ms/step - loss: 9.4330e-04 - mean_iou: 0.8001 - val_loss: 9.2601e-04 - val_mean_iou: 0.8234\n",
      "Epoch 12/30\n",
      "120/120 [==============================] - ETA: 0s - loss: 8.7599e-04 - mean_iou: 0.8142i= 12 loss= 0.000875986588653177 val_loss= 0.0007913373410701752 mean_iou= 0.814156174659729 val_mean_iou= 0.82711261510849\n"
     ]
    },
    {
     "data": {
      "image/png": "[encoded data removed]",
      "text/plain": [
       "<Figure size 432x288 with 1 Axes>"
      ]
     },
     "metadata": {
      "needs_background": "light"
     },
     "output_type": "display_data"
    },
    {
     "name": "stdout",
     "output_type": "stream",
     "text": [
      "120/120 [==============================] - 37s 310ms/step - loss: 8.7599e-04 - mean_iou: 0.8142 - val_loss: 7.9134e-04 - val_mean_iou: 0.8271\n",
      "Epoch 13/30\n",
      "120/120 [==============================] - ETA: 0s - loss: 8.3590e-04 - mean_iou: 0.8219i= 13 loss= 0.0008359007770195603 val_loss= 0.0009878617711365223 mean_iou= 0.821881890296936 val_mean_iou= 0.828892707824707\n"
     ]
    },
    {
     "data": {
      "image/png": "[encoded data removed]",
      "text/plain": [
       "<Figure size 432x288 with 1 Axes>"
      ]
     },
     "metadata": {
      "needs_background": "light"
     },
     "output_type": "display_data"
    },
    {
     "name": "stdout",
     "output_type": "stream",
     "text": [
      "120/120 [==============================] - 36s 304ms/step - loss: 8.3590e-04 - mean_iou: 0.8219 - val_loss: 9.8786e-04 - val_mean_iou: 0.8289\n",
      "Epoch 14/30\n",
      "120/120 [==============================] - ETA: 0s - loss: 7.9474e-04 - mean_iou: 0.8284i= 14 loss= 0.0007947405683808029 val_loss= 0.0008524591685272753 mean_iou= 0.8283600211143494 val_mean_iou= 0.8407250046730042\n"
     ]
    },
    {
     "data": {
      "image/png": "[encoded data removed]",
      "text/plain": [
       "<Figure size 432x288 with 1 Axes>"
      ]
     },
     "metadata": {
      "needs_background": "light"
     },
     "output_type": "display_data"
    },
    {
     "name": "stdout",
     "output_type": "stream",
     "text": [
      "120/120 [==============================] - 37s 305ms/step - loss: 7.9474e-04 - mean_iou: 0.8284 - val_loss: 8.5246e-04 - val_mean_iou: 0.8407\n",
      "Epoch 15/30\n",
      "120/120 [==============================] - ETA: 0s - loss: 7.8068e-04 - mean_iou: 0.8326i= 15 loss= 0.0007806830108165741 val_loss= 0.0008668522932566702 mean_iou= 0.8326089382171631 val_mean_iou= 0.833744466304779\n"
     ]
    },
    {
     "data": {
      "image/png": "[encoded data removed]",
      "text/plain": [
       "<Figure size 432x288 with 1 Axes>"
      ]
     },
     "metadata": {
      "needs_background": "light"
     },
     "output_type": "display_data"
    },
    {
     "name": "stdout",
     "output_type": "stream",
     "text": [
      "120/120 [==============================] - 36s 304ms/step - loss: 7.8068e-04 - mean_iou: 0.8326 - val_loss: 8.6685e-04 - val_mean_iou: 0.8337\n",
      "Epoch 16/30\n",
      "120/120 [==============================] - ETA: 0s - loss: 7.4872e-04 - mean_iou: 0.8370i= 16 loss= 0.0007487175753340125 val_loss= 0.0008839413640089333 mean_iou= 0.8369522094726562 val_mean_iou= 0.8314282894134521\n"
     ]
    },
    {
     "data": {
      "image/png": "[encoded data removed]",
      "text/plain": [
       "<Figure size 432x288 with 1 Axes>"
      ]
     },
     "metadata": {
      "needs_background": "light"
     },
     "output_type": "display_data"
    },
    {
     "name": "stdout",
     "output_type": "stream",
     "text": [
      "120/120 [==============================] - 37s 308ms/step - loss: 7.4872e-04 - mean_iou: 0.8370 - val_loss: 8.8394e-04 - val_mean_iou: 0.8314\n",
      "Epoch 17/30\n",
      "120/120 [==============================] - ETA: 0s - loss: 7.3992e-04 - mean_iou: 0.8420i= 17 loss= 0.0007399226306006312 val_loss= 0.0008320768247358501 mean_iou= 0.8420466184616089 val_mean_iou= 0.8173545002937317\n"
     ]
    },
    {
     "data": {
      "image/png": "[encoded data removed]",
      "text/plain": [
       "<Figure size 432x288 with 1 Axes>"
      ]
     },
     "metadata": {
      "needs_background": "light"
     },
     "output_type": "display_data"
    },
    {
     "name": "stdout",
     "output_type": "stream",
     "text": [
      "120/120 [==============================] - 36s 296ms/step - loss: 7.3992e-04 - mean_iou: 0.8420 - val_loss: 8.3208e-04 - val_mean_iou: 0.8174\n",
      "Epoch 18/30\n",
      "120/120 [==============================] - ETA: 0s - loss: 7.0852e-04 - mean_iou: 0.8455i= 18 loss= 0.0007085165125317872 val_loss= 0.0006815287633799016 mean_iou= 0.845499575138092 val_mean_iou= 0.8715528845787048\n"
     ]
    },
    {
     "data": {
      "image/png": "[encoded data removed]",
      "text/plain": [
       "<Figure size 432x288 with 1 Axes>"
      ]
     },
     "metadata": {
      "needs_background": "light"
     },
     "output_type": "display_data"
    },
    {
     "name": "stdout",
     "output_type": "stream",
     "text": [
      "120/120 [==============================] - 37s 309ms/step - loss: 7.0852e-04 - mean_iou: 0.8455 - val_loss: 6.8153e-04 - val_mean_iou: 0.8716\n",
      "Epoch 19/30\n",
      "120/120 [==============================] - ETA: 0s - loss: 6.7036e-04 - mean_iou: 0.8524i= 19 loss= 0.0006703571998514235 val_loss= 0.0007163502741605043 mean_iou= 0.8524020910263062 val_mean_iou= 0.8617985248565674\n"
     ]
    },
    {
     "data": {
      "image/png": "[encoded data removed]",
      "text/plain": [
       "<Figure size 432x288 with 1 Axes>"
      ]
     },
     "metadata": {
      "needs_background": "light"
     },
     "output_type": "display_data"
    },
    {
     "name": "stdout",
     "output_type": "stream",
     "text": [
      "120/120 [==============================] - 35s 291ms/step - loss: 6.7036e-04 - mean_iou: 0.8524 - val_loss: 7.1635e-04 - val_mean_iou: 0.8618\n",
      "Epoch 20/30\n",
      "120/120 [==============================] - ETA: 0s - loss: 6.6632e-04 - mean_iou: 0.8521i= 20 loss= 0.0006663186941295862 val_loss= 0.0013128203572705388 mean_iou= 0.8520908951759338 val_mean_iou= 0.8169329166412354\n"
     ]
    },
    {
     "data": {
      "image/png": "[encoded data removed]",
      "text/plain": [
       "<Figure size 432x288 with 1 Axes>"
      ]
     },
     "metadata": {
      "needs_background": "light"
     },
     "output_type": "display_data"
    },
    {
     "name": "stdout",
     "output_type": "stream",
     "text": [
      "120/120 [==============================] - 35s 293ms/step - loss: 6.6632e-04 - mean_iou: 0.8521 - val_loss: 0.0013 - val_mean_iou: 0.8169\n",
      "Epoch 21/30\n",
      "120/120 [==============================] - ETA: 0s - loss: 6.3840e-04 - mean_iou: 0.8571i= 21 loss= 0.0006384022999554873 val_loss= 0.0007669864571653306 mean_iou= 0.8570922613143921 val_mean_iou= 0.8225764632225037\n"
     ]
    },
    {
     "data": {
      "image/png": "[encoded data removed]",
      "text/plain": [
       "<Figure size 432x288 with 1 Axes>"
      ]
     },
     "metadata": {
      "needs_background": "light"
     },
     "output_type": "display_data"
    },
    {
     "name": "stdout",
     "output_type": "stream",
     "text": [
      "120/120 [==============================] - 37s 308ms/step - loss: 6.3840e-04 - mean_iou: 0.8571 - val_loss: 7.6699e-04 - val_mean_iou: 0.8226\n",
      "Epoch 22/30\n",
      "120/120 [==============================] - ETA: 0s - loss: 6.6274e-04 - mean_iou: 0.8555i= 22 loss= 0.0006627447437494993 val_loss= 0.0007102173403836787 mean_iou= 0.8554832935333252 val_mean_iou= 0.8613815307617188\n"
     ]
    },
    {
     "data": {
      "image/png": "[encoded data removed]",
      "text/plain": [
       "<Figure size 432x288 with 1 Axes>"
      ]
     },
     "metadata": {
      "needs_background": "light"
     },
     "output_type": "display_data"
    },
    {
     "name": "stdout",
     "output_type": "stream",
     "text": [
      "120/120 [==============================] - 37s 308ms/step - loss: 6.6274e-04 - mean_iou: 0.8555 - val_loss: 7.1022e-04 - val_mean_iou: 0.8614\n",
      "Epoch 23/30\n",
      "120/120 [==============================] - ETA: 0s - loss: 6.2599e-04 - mean_iou: 0.8616i= 23 loss= 0.00062598567456007 val_loss= 0.00080067542148754 mean_iou= 0.8616263270378113 val_mean_iou= 0.8547813892364502\n"
     ]
    },
    {
     "data": {
      "image/png": "[encoded data removed]",
      "text/plain": [
       "<Figure size 432x288 with 1 Axes>"
      ]
     },
     "metadata": {
      "needs_background": "light"
     },
     "output_type": "display_data"
    },
    {
     "name": "stdout",
     "output_type": "stream",
     "text": [
      "120/120 [==============================] - 37s 308ms/step - loss: 6.2599e-04 - mean_iou: 0.8616 - val_loss: 8.0068e-04 - val_mean_iou: 0.8548\n",
      "Epoch 24/30\n",
      "120/120 [==============================] - ETA: 0s - loss: 6.2687e-04 - mean_iou: 0.8588i= 24 loss= 0.0006268669385462999 val_loss= 0.0009428840130567551 mean_iou= 0.8587941527366638 val_mean_iou= 0.8448752760887146\n"
     ]
    },
    {
     "data": {
      "image/png": "[encoded data removed]",
      "text/plain": [
       "<Figure size 432x288 with 1 Axes>"
      ]
     },
     "metadata": {
      "needs_background": "light"
     },
     "output_type": "display_data"
    },
    {
     "name": "stdout",
     "output_type": "stream",
     "text": [
      "120/120 [==============================] - 38s 315ms/step - loss: 6.2687e-04 - mean_iou: 0.8588 - val_loss: 9.4288e-04 - val_mean_iou: 0.8449\n",
      "Epoch 25/30\n",
      "120/120 [==============================] - ETA: 0s - loss: 6.1336e-04 - mean_iou: 0.8663i= 25 loss= 0.0006133593851700425 val_loss= 0.0009324524435214698 mean_iou= 0.866318941116333 val_mean_iou= 0.8490632176399231\n"
     ]
    },
    {
     "data": {
      "image/png": "[encoded data removed]",
      "text/plain": [
       "<Figure size 432x288 with 1 Axes>"
      ]
     },
     "metadata": {
      "needs_background": "light"
     },
     "output_type": "display_data"
    },
    {
     "name": "stdout",
     "output_type": "stream",
     "text": [
      "120/120 [==============================] - 38s 314ms/step - loss: 6.1336e-04 - mean_iou: 0.8663 - val_loss: 9.3245e-04 - val_mean_iou: 0.8491\n",
      "Epoch 26/30\n",
      "120/120 [==============================] - ETA: 0s - loss: 5.7459e-04 - mean_iou: 0.8717i= 26 loss= 0.0005745887756347656 val_loss= 0.0007437243475578725 mean_iou= 0.8716752529144287 val_mean_iou= 0.8587779998779297\n"
     ]
    },
    {
     "data": {
      "image/png": "[encoded data removed]",
      "text/plain": [
       "<Figure size 432x288 with 1 Axes>"
      ]
     },
     "metadata": {
      "needs_background": "light"
     },
     "output_type": "display_data"
    },
    {
     "name": "stdout",
     "output_type": "stream",
     "text": [
      "120/120 [==============================] - 38s 314ms/step - loss: 5.7459e-04 - mean_iou: 0.8717 - val_loss: 7.4372e-04 - val_mean_iou: 0.8588\n",
      "Epoch 27/30\n",
      "120/120 [==============================] - ETA: 0s - loss: 5.9217e-04 - mean_iou: 0.8701i= 27 loss= 0.0005921664997003973 val_loss= 0.0008828307036310434 mean_iou= 0.8700546026229858 val_mean_iou= 0.8126145005226135\n"
     ]
    },
    {
     "data": {
      "image/png": "[encoded data removed]",
      "text/plain": [
       "<Figure size 432x288 with 1 Axes>"
      ]
     },
     "metadata": {
      "needs_background": "light"
     },
     "output_type": "display_data"
    },
    {
     "name": "stdout",
     "output_type": "stream",
     "text": [
      "120/120 [==============================] - 38s 316ms/step - loss: 5.9217e-04 - mean_iou: 0.8701 - val_loss: 8.8283e-04 - val_mean_iou: 0.8126\n",
      "Epoch 28/30\n",
      "120/120 [==============================] - ETA: 0s - loss: 5.8411e-04 - mean_iou: 0.8672i= 28 loss= 0.0005841149832122028 val_loss= 0.0008512312197126448 mean_iou= 0.8671695590019226 val_mean_iou= 0.8277273178100586\n"
     ]
    },
    {
     "data": {
      "image/png": "[encoded data removed]",
      "text/plain": [
       "<Figure size 432x288 with 1 Axes>"
      ]
     },
     "metadata": {
      "needs_background": "light"
     },
     "output_type": "display_data"
    },
    {
     "name": "stdout",
     "output_type": "stream",
     "text": [
      "120/120 [==============================] - 38s 319ms/step - loss: 5.8411e-04 - mean_iou: 0.8672 - val_loss: 8.5123e-04 - val_mean_iou: 0.8277\n",
      "Epoch 29/30\n",
      "120/120 [==============================] - ETA: 0s - loss: 5.7450e-04 - mean_iou: 0.8720i= 29 loss= 0.0005744957597926259 val_loss= 0.0006266303244046867 mean_iou= 0.8719860911369324 val_mean_iou= 0.8593084812164307\n"
     ]
    },
    {
     "data": {
      "image/png": "[encoded data removed]",
      "text/plain": [
       "<Figure size 432x288 with 1 Axes>"
      ]
     },
     "metadata": {
      "needs_background": "light"
     },
     "output_type": "display_data"
    },
    {
     "name": "stdout",
     "output_type": "stream",
     "text": [
      "120/120 [==============================] - 38s 318ms/step - loss: 5.7450e-04 - mean_iou: 0.8720 - val_loss: 6.2663e-04 - val_mean_iou: 0.8593\n",
      "Epoch 30/30\n",
      "120/120 [==============================] - ETA: 0s - loss: 5.7777e-04 - mean_iou: 0.8710i= 30 loss= 0.0005777669721283019 val_loss= 0.0006303802947513759 mean_iou= 0.8709851503372192 val_mean_iou= 0.8738883137702942\n"
     ]
    },
    {
     "data": {
      "image/png": "[encoded data removed]",
      "text/plain": [
       "<Figure size 432x288 with 1 Axes>"
      ]
     },
     "metadata": {
      "needs_background": "light"
     },
     "output_type": "display_data"
    },
    {
     "name": "stdout",
     "output_type": "stream",
     "text": [
      "120/120 [==============================] - 38s 319ms/step - loss: 5.7777e-04 - mean_iou: 0.8710 - val_loss: 6.3038e-04 - val_mean_iou: 0.8739\n"
     ]
    },
    {
     "data": {
      "text/plain": [
       "<tensorflow.python.keras.callbacks.History at 0x19106c388c8>"
      ]
     },
     "execution_count": 47,
     "metadata": {},
     "output_type": "execute_result"
    }
   ],
   "source": [
    "train_steps = len(train_files) //batch_size\n",
    "test_steps = len(test_files) //batch_size\n",
    "model.fit_generator(train_generator, \n",
    "                    epochs = 30, steps_per_epoch = train_steps,validation_data = test_generator, validation_steps = test_steps,\n",
    "                    callbacks = build_callbacks(), verbose = 1)"
   ]
  },
  {
   "cell_type": "code",
   "execution_count": 48,
   "metadata": {},
   "outputs": [],
   "source": [
    "history = _"
   ]
  },
  {
   "cell_type": "code",
   "execution_count": 49,
   "metadata": {},
   "outputs": [
    {
     "data": {
      "text/plain": [
       "[0.0,\n",
       " 7.44213757570833e-05,\n",
       " 0.37177643179893494,\n",
       " 0.6076516509056091,\n",
       " 0.7165719866752625,\n",
       " 0.6974360346794128,\n",
       " 0.781411349773407,\n",
       " 0.7672183513641357,\n",
       " 0.7671945095062256,\n",
       " 0.8185403943061829,\n",
       " 0.8234265446662903,\n",
       " 0.82711261510849,\n",
       " 0.828892707824707,\n",
       " 0.8407250046730042,\n",
       " 0.833744466304779,\n",
       " 0.8314282894134521,\n",
       " 0.8173545002937317,\n",
       " 0.8715528845787048,\n",
       " 0.8617985248565674,\n",
       " 0.8169329166412354,\n",
       " 0.8225764632225037,\n",
       " 0.8613815307617188,\n",
       " 0.8547813892364502,\n",
       " 0.8448752760887146,\n",
       " 0.8490632176399231,\n",
       " 0.8587779998779297,\n",
       " 0.8126145005226135,\n",
       " 0.8277273178100586,\n",
       " 0.8593084812164307,\n",
       " 0.8738883137702942]"
      ]
     },
     "execution_count": 49,
     "metadata": {},
     "output_type": "execute_result"
    }
   ],
   "source": [
    "history.history[\"val_mean_iou\"]"
   ]
  },
  {
   "cell_type": "code",
   "execution_count": 50,
   "metadata": {},
   "outputs": [],
   "source": [
    "with open(\"history.json\", \"w\") as fp:\n",
    "    json.dump(history.history, fp)"
   ]
  },
  {
   "cell_type": "code",
   "execution_count": 51,
   "metadata": {},
   "outputs": [
    {
     "data": {
      "text/plain": [
       "[<matplotlib.lines.Line2D at 0x19107f58548>]"
      ]
     },
     "execution_count": 51,
     "metadata": {},
     "output_type": "execute_result"
    },
    {
     "data": {
      "image/png": "[encoded data removed]",
      "text/plain": [
       "<Figure size 1332x756 with 1 Axes>"
      ]
     },
     "metadata": {
      "needs_background": "light"
     },
     "output_type": "display_data"
    }
   ],
   "source": [
    "fig = plt.gcf()\n",
    "fig.set_size_inches(18.5, 10.5)\n",
    "ax = plt.gca()\n",
    "ax.set_ylabel('Mean IOU')\n",
    "ax.set_xlabel(\"Epoch\")\n",
    "ax.set_title('Az átlag IOU alakulása az epoch-ok végén')\n",
    "plt.plot(range(len(history.history[\"mean_iou\"])), history.history[\"mean_iou\"], \"b-\")"
   ]
  },
  {
   "cell_type": "markdown",
   "metadata": {},
   "source": [
    "# Loading"
   ]
  },
  {
   "cell_type": "code",
   "execution_count": 13,
   "metadata": {},
   "outputs": [],
   "source": [
    "model.load_weights(\"unet.h5\")"
   ]
  },
  {
   "cell_type": "code",
   "execution_count": 52,
   "metadata": {},
   "outputs": [],
   "source": [
    "from scipy.spatial.distance import directed_hausdorff\n",
    "from tqdm.notebook import tqdm, trange\n",
    "\n",
    "def vecHausdorff(Y, P):\n",
    "    dist = []\n",
    "    for i in range(Y.shape[0]):\n",
    "        o = directed_hausdorff(Y[i], P[i])[0]\n",
    "        v = directed_hausdorff(P[i], Y[i])[0]\n",
    "        dist.append(max(o,v))\n",
    "        \n",
    "    return np.array(dist)\n",
    "        \n",
    "\n",
    "def pairwise_iou(y_true, y_pred):\n",
    "    yt0 = y_true\n",
    "    yp0 = y_pred\n",
    "    inter = tf.math.count_nonzero(tf.logical_and(tf.equal(yt0, 1), tf.equal(yp0, 1)), axis=(1,2))\n",
    "    union = tf.math.count_nonzero(tf.add(yt0, yp0), axis=(1,2))\n",
    "    iou = tf.where(tf.equal(union, 0), 1., tf.cast(inter/union, 'float32'))\n",
    "    return iou.numpy()\n",
    "\n",
    "def calcMetricsForImges(Y, P):\n",
    "    # X is array of images in RGB\n",
    "    # Y is array of masks in GRAY and Binarised\n",
    "    # P is the predicted mask in GRAY and Binarised\n",
    "    iou = pairwise_iou(Y, P) # IOU, aka. Jaccard index\n",
    "    dice = (2*iou) / (iou + np.ones(iou.shape)) # Dice Coeff\n",
    "    hdorf = vecHausdorff(Y, P)\n",
    "    maskintenseity = np.count_nonzero(Y, axis=(1,2))\n",
    "    predintensity = np.count_nonzero(P, axis=(1,2))\n",
    "    return np.array([iou, dice, hdorf, maskintenseity, predintensity])\n",
    "\n",
    "def processImages(r):\n",
    "    \n",
    "    imgPaths = [f\"original/{i}.png\" for i in r]\n",
    "    mskPaths = [f\"roots/{i}.png\" for i in r]\n",
    "    \n",
    "    outs = []\n",
    "    \n",
    "    for i in range(len(r)):\n",
    "        raw = Image.open(imgPaths[i])\n",
    "        raw = np.array(raw.resize((256, 256)))/255.\n",
    "        raw = raw[:,:,0:3]\n",
    "\n",
    "        truemsk = Image.open(mskPaths[i])\n",
    "        truemsk = np.array(truemsk.resize((256, 256)))/255.\n",
    "        if len(truemsk.shape) > 2:\n",
    "            truemsk = truemsk[:,:,0]\n",
    "        \n",
    "        #predict the mask \n",
    "        pred = model.predict(np.expand_dims(raw, 0))\n",
    "\n",
    "        #mask post-processing \n",
    "        msk  = pred.squeeze()\n",
    "        msk[msk >= 0.5] = 1 \n",
    "        msk[msk < 0.5] = 0\n",
    "        \n",
    "        metrics = calcMetricsForImges(np.array([truemsk,]), np.array([msk,]))\n",
    "        print(f\"IOU: {metrics[0,0]}\")\n",
    "        \n",
    "        diff = truemsk != msk\n",
    "        diff = diff.astype(np.float)\n",
    "        \n",
    "        truemsk = np.stack((truemsk,)*3, axis=-1)\n",
    "        msk = np.stack((msk,)*3, axis=-1)\n",
    "        diff = np.stack((diff,)*3, axis=-1)\n",
    "        #show the mask and the segmented image \n",
    "        \n",
    "        combined = np.concatenate([raw, msk, truemsk, diff], axis = 1)\n",
    "        plt.axis('off')\n",
    "        plt.imshow(combined)\n",
    "        plt.show()"
   ]
  },
  {
   "cell_type": "code",
   "execution_count": 53,
   "metadata": {},
   "outputs": [
    {
     "name": "stdout",
     "output_type": "stream",
     "text": [
      "IOU: 0.2631579041481018\n"
     ]
    },
    {
     "data": {
      "image/png": "[encoded data removed]",
      "text/plain": [
       "<Figure size 432x288 with 1 Axes>"
      ]
     },
     "metadata": {
      "needs_background": "light"
     },
     "output_type": "display_data"
    },
    {
     "name": "stdout",
     "output_type": "stream",
     "text": [
      "IOU: 0.4038461446762085\n"
     ]
    },
    {
     "data": {
      "image/png": "[encoded data removed]",
      "text/plain": [
       "<Figure size 432x288 with 1 Axes>"
      ]
     },
     "metadata": {
      "needs_background": "light"
     },
     "output_type": "display_data"
    },
    {
     "name": "stdout",
     "output_type": "stream",
     "text": [
      "IOU: 0.5179855823516846\n"
     ]
    },
    {
     "data": {
      "image/png": "[encoded data removed]",
      "text/plain": [
       "<Figure size 432x288 with 1 Axes>"
      ]
     },
     "metadata": {
      "needs_background": "light"
     },
     "output_type": "display_data"
    },
    {
     "name": "stdout",
     "output_type": "stream",
     "text": [
      "IOU: 0.3354838788509369\n"
     ]
    },
    {
     "data": {
      "image/png": "[encoded data removed]",
      "text/plain": [
       "<Figure size 432x288 with 1 Axes>"
      ]
     },
     "metadata": {
      "needs_background": "light"
     },
     "output_type": "display_data"
    }
   ],
   "source": [
    "res = processImages([500, 1000, 1500, 3000])"
   ]
  },
  {
   "cell_type": "code",
   "execution_count": 54,
   "metadata": {},
   "outputs": [
    {
     "ename": "TypeError",
     "evalue": "'NoneType' object is not subscriptable",
     "output_type": "error",
     "traceback": [
      "\u001b[1;31m---------------------------------------------------------------------------\u001b[0m",
      "\u001b[1;31mTypeError\u001b[0m                                 Traceback (most recent call last)",
      "\u001b[1;32m<ipython-input-54-176bdc8fb30a>\u001b[0m in \u001b[0;36m<module>\u001b[1;34m\u001b[0m\n\u001b[1;32m----> 1\u001b[1;33m \u001b[0mres\u001b[0m\u001b[1;33m[\u001b[0m\u001b[1;36m0\u001b[0m\u001b[1;33m]\u001b[0m\u001b[1;33m.\u001b[0m\u001b[0mshape\u001b[0m\u001b[1;33m\u001b[0m\u001b[1;33m\u001b[0m\u001b[0m\n\u001b[0m",
      "\u001b[1;31mTypeError\u001b[0m: 'NoneType' object is not subscriptable"
     ]
    }
   ],
   "source": [
    "res[0].shape"
   ]
  },
  {
   "cell_type": "markdown",
   "metadata": {
    "colab_type": "text",
    "id": "0O5zCKBr8OZ1"
   },
   "source": [
    "# Testing and Validating"
   ]
  },
  {
   "cell_type": "code",
   "execution_count": 55,
   "metadata": {},
   "outputs": [
    {
     "data": {
      "text/plain": [
       "(0.0, 158, 247)"
      ]
     },
     "execution_count": 55,
     "metadata": {},
     "output_type": "execute_result"
    }
   ],
   "source": [
    "arr = pairwise_iou(np.array([img,msk]), np.array([msk,msk]))\n",
    "directed_hausdorff(msk[:,0], msk[:,0])"
   ]
  },
  {
   "cell_type": "code",
   "execution_count": 78,
   "metadata": {},
   "outputs": [],
   "source": [
    "\n",
    "\n",
    "def validateTrainImages(model, r):\n",
    "    imgPaths = [f\"original/{i}.png\" for i in r]\n",
    "    mskPaths = [f\"roots/{i}.png\" for i in r]\n",
    "    \n",
    "    \n",
    "    masks = []\n",
    "    preds = []\n",
    "    for i in trange(len(imgPaths)):\n",
    "        raw = Image.open(imgPaths[i])\n",
    "        raw = np.array(raw.resize((256, 256)))/255.\n",
    "        raw = raw[:,:,0:3]\n",
    "\n",
    "        truemsk = Image.open(mskPaths[i])\n",
    "        truemsk = np.array(truemsk.resize((256, 256)))/255.\n",
    "        truemsk[truemsk >= 0.5] = 1 \n",
    "        truemsk[truemsk < 0.5] = 0\n",
    "        if len(truemsk.shape) > 2:\n",
    "            truemsk = truemsk[:,:,0]\n",
    "        \n",
    "        #predict the mask \n",
    "        pred = model.predict(np.expand_dims(raw, 0))\n",
    "\n",
    "        #mask post-processing \n",
    "        msk  = pred.squeeze()\n",
    "        msk[msk >= 0.5] = 1 \n",
    "        msk[msk < 0.5] = 0\n",
    "        \n",
    "        masks.append(truemsk)\n",
    "        preds.append(msk)\n",
    "    \n",
    "    metrics = calcMetricsForImges(np.array(masks), np.array(preds))\n",
    "    metricsDF = pd.DataFrame(data=metrics.T, index=r, columns=[\"iou\", \"dice\", \"hdorf\", \"mask_intensity\", \"pred_intensity\"])\n",
    "    return metricsDF\n",
    "    \n",
    "    \n",
    "    "
   ]
  },
  {
   "cell_type": "code",
   "execution_count": 79,
   "metadata": {},
   "outputs": [
    {
     "data": {
      "application/vnd.jupyter.widget-view+json": {
       "model_id": "59f59defeebb4d2b8e96e12434bef10a",
       "version_major": 2,
       "version_minor": 0
      },
      "text/plain": [
       "HBox(children=(FloatProgress(value=0.0, max=203.0), HTML(value='')))"
      ]
     },
     "metadata": {},
     "output_type": "display_data"
    },
    {
     "name": "stdout",
     "output_type": "stream",
     "text": [
      "\n"
     ]
    }
   ],
   "source": [
    "metrics = validateTrainImages(model, test_files)"
   ]
  },
  {
   "cell_type": "code",
   "execution_count": 80,
   "metadata": {},
   "outputs": [
    {
     "data": {
      "image/png": "[encoded data removed]",
      "text/plain": [
       "<Figure size 432x288 with 1 Axes>"
      ]
     },
     "metadata": {
      "needs_background": "light"
     },
     "output_type": "display_data"
    }
   ],
   "source": [
    "pieces, ranges, pl = plt.hist(metrics[\"iou\"], bins=100)\n",
    "# Az IOU eloszlása\n",
    "# X tengely: IOU\n",
    "# Y tengely: Abszolút előfordulás"
   ]
  },
  {
   "cell_type": "code",
   "execution_count": 81,
   "metadata": {},
   "outputs": [
    {
     "data": {
      "text/plain": [
       "array([  0.,   3.,   3.,   3.,   3.,   3.,   3.,   3.,   3.,   3.,   3.,\n",
       "         3.,   3.,   3.,   3.,   3.,   4.,   6.,   6.,   6.,   6.,   6.,\n",
       "         7.,   7.,   9.,  10.,  11.,  11.,  11.,  11.,  11.,  11.,  12.,\n",
       "        12.,  12.,  14.,  14.,  15.,  15.,  16.,  16.,  18.,  18.,  18.,\n",
       "        21.,  23.,  27.,  33.,  33.,  34.,  34.,  40.,  42.,  43.,  47.,\n",
       "        57.,  62.,  63.,  64.,  69.,  75.,  79.,  90.,  97., 104., 110.,\n",
       "       121., 130., 135., 138., 147., 151., 158., 165., 168., 171., 176.,\n",
       "       181., 183., 185., 186., 188., 188., 192., 193., 195., 196., 197.,\n",
       "       197., 198., 198., 198., 198., 198., 198., 198., 198., 198., 198.,\n",
       "       198., 203.])"
      ]
     },
     "execution_count": 81,
     "metadata": {},
     "output_type": "execute_result"
    }
   ],
   "source": [
    "np.insert(np.cumsum(pieces), 0, 0.0)"
   ]
  },
  {
   "cell_type": "code",
   "execution_count": 82,
   "metadata": {},
   "outputs": [
    {
     "data": {
      "text/plain": [
       "[<matplotlib.lines.Line2D at 0x192ac0b2b48>]"
      ]
     },
     "execution_count": 82,
     "metadata": {},
     "output_type": "execute_result"
    },
    {
     "data": {
      "image/png": "[encoded data removed]",
      "text/plain": [
       "<Figure size 432x288 with 1 Axes>"
      ]
     },
     "metadata": {
      "needs_background": "light"
     },
     "output_type": "display_data"
    }
   ],
   "source": [
    "plt.plot(ranges, np.insert(np.cumsum(pieces), 0, 0.0) / np.cumsum(pieces)[-1])\n",
    "# Az IOU kumulatív eloszlása\n",
    "# X tengely: IOU\n",
    "# Y tengely: kumulatív eloszlás"
   ]
  },
  {
   "cell_type": "code",
   "execution_count": 83,
   "metadata": {},
   "outputs": [
    {
     "data": {
      "text/plain": [
       "580     0.639535\n",
       "152     0.445783\n",
       "2486    0.612717\n",
       "1679    0.583333\n",
       "2507    0.626667\n",
       "          ...   \n",
       "305     0.696335\n",
       "26      0.640000\n",
       "2254    0.651007\n",
       "3008    0.834532\n",
       "1619    0.597403\n",
       "Name: iou, Length: 203, dtype: float64"
      ]
     },
     "execution_count": 83,
     "metadata": {},
     "output_type": "execute_result"
    }
   ],
   "source": [
    "metrics[\"iou\"]"
   ]
  },
  {
   "cell_type": "code",
   "execution_count": 84,
   "metadata": {},
   "outputs": [
    {
     "data": {
      "image/png": "[encoded data removed]",
      "text/plain": [
       "<Figure size 432x288 with 1 Axes>"
      ]
     },
     "metadata": {
      "needs_background": "light"
     },
     "output_type": "display_data"
    }
   ],
   "source": [
    "pieces, ranges, pl = plt.hist(metrics[\"hdorf\"], bins=100)\n",
    "# Huasdorf távolságok eloszlása"
   ]
  },
  {
   "cell_type": "code",
   "execution_count": 85,
   "metadata": {},
   "outputs": [
    {
     "data": {
      "text/plain": [
       "(array([18, 21, 94], dtype=int64),)"
      ]
     },
     "execution_count": 85,
     "metadata": {},
     "output_type": "execute_result"
    }
   ],
   "source": [
    "np.where(metrics[\"iou\"] <= 0.01)"
   ]
  },
  {
   "cell_type": "code",
   "execution_count": 86,
   "metadata": {},
   "outputs": [],
   "source": [
    "selected_tests = np.array([\n",
    "    [6,57,185,455,601,619,729,825,986,1658],\n",
    "    [1670,1732,1866,2443,3303],\n",
    "    [75,171,373,1278,3298]\n",
    "])"
   ]
  },
  {
   "cell_type": "code",
   "execution_count": 87,
   "metadata": {},
   "outputs": [],
   "source": [
    "indexDF = pd.read_csv(\"ids.csv\")"
   ]
  },
  {
   "cell_type": "code",
   "execution_count": 88,
   "metadata": {},
   "outputs": [
    {
     "data": {
      "text/html": [
       "<div>\n",
       "<style scoped>\n",
       "    .dataframe tbody tr th:only-of-type {\n",
       "        vertical-align: middle;\n",
       "    }\n",
       "\n",
       "    .dataframe tbody tr th {\n",
       "        vertical-align: top;\n",
       "    }\n",
       "\n",
       "    .dataframe thead tr th {\n",
       "        text-align: left;\n",
       "    }\n",
       "\n",
       "    .dataframe thead tr:last-of-type th {\n",
       "        text-align: right;\n",
       "    }\n",
       "</style>\n",
       "<table border=\"1\" class=\"dataframe\">\n",
       "  <thead>\n",
       "    <tr>\n",
       "      <th></th>\n",
       "      <th colspan=\"2\" halign=\"left\">slice</th>\n",
       "    </tr>\n",
       "    <tr>\n",
       "      <th></th>\n",
       "      <th>amin</th>\n",
       "      <th>amax</th>\n",
       "    </tr>\n",
       "    <tr>\n",
       "      <th>DID</th>\n",
       "      <th></th>\n",
       "      <th></th>\n",
       "    </tr>\n",
       "  </thead>\n",
       "  <tbody>\n",
       "    <tr>\n",
       "      <th>0</th>\n",
       "      <td>253</td>\n",
       "      <td>329</td>\n",
       "    </tr>\n",
       "    <tr>\n",
       "      <th>1</th>\n",
       "      <td>136</td>\n",
       "      <td>234</td>\n",
       "    </tr>\n",
       "    <tr>\n",
       "      <th>2</th>\n",
       "      <td>145</td>\n",
       "      <td>247</td>\n",
       "    </tr>\n",
       "    <tr>\n",
       "      <th>3</th>\n",
       "      <td>152</td>\n",
       "      <td>249</td>\n",
       "    </tr>\n",
       "    <tr>\n",
       "      <th>4</th>\n",
       "      <td>150</td>\n",
       "      <td>226</td>\n",
       "    </tr>\n",
       "    <tr>\n",
       "      <th>5</th>\n",
       "      <td>146</td>\n",
       "      <td>233</td>\n",
       "    </tr>\n",
       "    <tr>\n",
       "      <th>6</th>\n",
       "      <td>178</td>\n",
       "      <td>236</td>\n",
       "    </tr>\n",
       "    <tr>\n",
       "      <th>7</th>\n",
       "      <td>153</td>\n",
       "      <td>246</td>\n",
       "    </tr>\n",
       "    <tr>\n",
       "      <th>8</th>\n",
       "      <td>169</td>\n",
       "      <td>251</td>\n",
       "    </tr>\n",
       "    <tr>\n",
       "      <th>9</th>\n",
       "      <td>177</td>\n",
       "      <td>270</td>\n",
       "    </tr>\n",
       "    <tr>\n",
       "      <th>10</th>\n",
       "      <td>147</td>\n",
       "      <td>253</td>\n",
       "    </tr>\n",
       "    <tr>\n",
       "      <th>11</th>\n",
       "      <td>159</td>\n",
       "      <td>253</td>\n",
       "    </tr>\n",
       "    <tr>\n",
       "      <th>12</th>\n",
       "      <td>137</td>\n",
       "      <td>215</td>\n",
       "    </tr>\n",
       "    <tr>\n",
       "      <th>13</th>\n",
       "      <td>150</td>\n",
       "      <td>214</td>\n",
       "    </tr>\n",
       "    <tr>\n",
       "      <th>14</th>\n",
       "      <td>156</td>\n",
       "      <td>223</td>\n",
       "    </tr>\n",
       "    <tr>\n",
       "      <th>15</th>\n",
       "      <td>168</td>\n",
       "      <td>251</td>\n",
       "    </tr>\n",
       "    <tr>\n",
       "      <th>16</th>\n",
       "      <td>173</td>\n",
       "      <td>274</td>\n",
       "    </tr>\n",
       "    <tr>\n",
       "      <th>17</th>\n",
       "      <td>170</td>\n",
       "      <td>263</td>\n",
       "    </tr>\n",
       "    <tr>\n",
       "      <th>18</th>\n",
       "      <td>159</td>\n",
       "      <td>251</td>\n",
       "    </tr>\n",
       "    <tr>\n",
       "      <th>19</th>\n",
       "      <td>143</td>\n",
       "      <td>241</td>\n",
       "    </tr>\n",
       "    <tr>\n",
       "      <th>20</th>\n",
       "      <td>161</td>\n",
       "      <td>235</td>\n",
       "    </tr>\n",
       "    <tr>\n",
       "      <th>21</th>\n",
       "      <td>249</td>\n",
       "      <td>335</td>\n",
       "    </tr>\n",
       "    <tr>\n",
       "      <th>22</th>\n",
       "      <td>285</td>\n",
       "      <td>374</td>\n",
       "    </tr>\n",
       "    <tr>\n",
       "      <th>23</th>\n",
       "      <td>272</td>\n",
       "      <td>374</td>\n",
       "    </tr>\n",
       "    <tr>\n",
       "      <th>24</th>\n",
       "      <td>259</td>\n",
       "      <td>353</td>\n",
       "    </tr>\n",
       "    <tr>\n",
       "      <th>25</th>\n",
       "      <td>269</td>\n",
       "      <td>371</td>\n",
       "    </tr>\n",
       "    <tr>\n",
       "      <th>26</th>\n",
       "      <td>272</td>\n",
       "      <td>322</td>\n",
       "    </tr>\n",
       "    <tr>\n",
       "      <th>27</th>\n",
       "      <td>281</td>\n",
       "      <td>366</td>\n",
       "    </tr>\n",
       "    <tr>\n",
       "      <th>28</th>\n",
       "      <td>272</td>\n",
       "      <td>361</td>\n",
       "    </tr>\n",
       "    <tr>\n",
       "      <th>29</th>\n",
       "      <td>270</td>\n",
       "      <td>352</td>\n",
       "    </tr>\n",
       "    <tr>\n",
       "      <th>30</th>\n",
       "      <td>276</td>\n",
       "      <td>347</td>\n",
       "    </tr>\n",
       "    <tr>\n",
       "      <th>31</th>\n",
       "      <td>224</td>\n",
       "      <td>286</td>\n",
       "    </tr>\n",
       "    <tr>\n",
       "      <th>32</th>\n",
       "      <td>288</td>\n",
       "      <td>374</td>\n",
       "    </tr>\n",
       "    <tr>\n",
       "      <th>33</th>\n",
       "      <td>279</td>\n",
       "      <td>353</td>\n",
       "    </tr>\n",
       "    <tr>\n",
       "      <th>34</th>\n",
       "      <td>262</td>\n",
       "      <td>336</td>\n",
       "    </tr>\n",
       "    <tr>\n",
       "      <th>35</th>\n",
       "      <td>297</td>\n",
       "      <td>363</td>\n",
       "    </tr>\n",
       "    <tr>\n",
       "      <th>36</th>\n",
       "      <td>272</td>\n",
       "      <td>344</td>\n",
       "    </tr>\n",
       "    <tr>\n",
       "      <th>37</th>\n",
       "      <td>237</td>\n",
       "      <td>326</td>\n",
       "    </tr>\n",
       "    <tr>\n",
       "      <th>38</th>\n",
       "      <td>228</td>\n",
       "      <td>303</td>\n",
       "    </tr>\n",
       "    <tr>\n",
       "      <th>39</th>\n",
       "      <td>271</td>\n",
       "      <td>333</td>\n",
       "    </tr>\n",
       "    <tr>\n",
       "      <th>40</th>\n",
       "      <td>281</td>\n",
       "      <td>372</td>\n",
       "    </tr>\n",
       "    <tr>\n",
       "      <th>41</th>\n",
       "      <td>283</td>\n",
       "      <td>370</td>\n",
       "    </tr>\n",
       "    <tr>\n",
       "      <th>42</th>\n",
       "      <td>237</td>\n",
       "      <td>321</td>\n",
       "    </tr>\n",
       "    <tr>\n",
       "      <th>43</th>\n",
       "      <td>267</td>\n",
       "      <td>343</td>\n",
       "    </tr>\n",
       "    <tr>\n",
       "      <th>44</th>\n",
       "      <td>246</td>\n",
       "      <td>305</td>\n",
       "    </tr>\n",
       "    <tr>\n",
       "      <th>45</th>\n",
       "      <td>269</td>\n",
       "      <td>339</td>\n",
       "    </tr>\n",
       "    <tr>\n",
       "      <th>46</th>\n",
       "      <td>292</td>\n",
       "      <td>344</td>\n",
       "    </tr>\n",
       "    <tr>\n",
       "      <th>47</th>\n",
       "      <td>234</td>\n",
       "      <td>315</td>\n",
       "    </tr>\n",
       "    <tr>\n",
       "      <th>48</th>\n",
       "      <td>235</td>\n",
       "      <td>313</td>\n",
       "    </tr>\n",
       "  </tbody>\n",
       "</table>\n",
       "</div>"
      ],
      "text/plain": [
       "    slice     \n",
       "     amin amax\n",
       "DID           \n",
       "0     253  329\n",
       "1     136  234\n",
       "2     145  247\n",
       "3     152  249\n",
       "4     150  226\n",
       "5     146  233\n",
       "6     178  236\n",
       "7     153  246\n",
       "8     169  251\n",
       "9     177  270\n",
       "10    147  253\n",
       "11    159  253\n",
       "12    137  215\n",
       "13    150  214\n",
       "14    156  223\n",
       "15    168  251\n",
       "16    173  274\n",
       "17    170  263\n",
       "18    159  251\n",
       "19    143  241\n",
       "20    161  235\n",
       "21    249  335\n",
       "22    285  374\n",
       "23    272  374\n",
       "24    259  353\n",
       "25    269  371\n",
       "26    272  322\n",
       "27    281  366\n",
       "28    272  361\n",
       "29    270  352\n",
       "30    276  347\n",
       "31    224  286\n",
       "32    288  374\n",
       "33    279  353\n",
       "34    262  336\n",
       "35    297  363\n",
       "36    272  344\n",
       "37    237  326\n",
       "38    228  303\n",
       "39    271  333\n",
       "40    281  372\n",
       "41    283  370\n",
       "42    237  321\n",
       "43    267  343\n",
       "44    246  305\n",
       "45    269  339\n",
       "46    292  344\n",
       "47    234  315\n",
       "48    235  313"
      ]
     },
     "execution_count": 88,
     "metadata": {},
     "output_type": "execute_result"
    }
   ],
   "source": [
    "mxslices = indexDF.groupby(\"DID\").agg({\"slice\" : [np.min, np.max]})\n",
    "mxslices"
   ]
  },
  {
   "cell_type": "code",
   "execution_count": 89,
   "metadata": {},
   "outputs": [
    {
     "name": "stderr",
     "output_type": "stream",
     "text": [
      "C:\\Users\\szabo\\Anaconda3\\lib\\site-packages\\pandas\\core\\reshape\\merge.py:643: UserWarning: merging between different levels can give an unintended result (1 levels on the left,2 on the right)\n",
      "  warnings.warn(msg, UserWarning)\n"
     ]
    },
    {
     "data": {
      "text/html": [
       "<div>\n",
       "<style scoped>\n",
       "    .dataframe tbody tr th:only-of-type {\n",
       "        vertical-align: middle;\n",
       "    }\n",
       "\n",
       "    .dataframe tbody tr th {\n",
       "        vertical-align: top;\n",
       "    }\n",
       "\n",
       "    .dataframe thead th {\n",
       "        text-align: right;\n",
       "    }\n",
       "</style>\n",
       "<table border=\"1\" class=\"dataframe\">\n",
       "  <thead>\n",
       "    <tr style=\"text-align: right;\">\n",
       "      <th></th>\n",
       "      <th>GID</th>\n",
       "      <th>directory</th>\n",
       "      <th>slice</th>\n",
       "      <th>DID</th>\n",
       "      <th>pos</th>\n",
       "    </tr>\n",
       "  </thead>\n",
       "  <tbody>\n",
       "    <tr>\n",
       "      <th>0</th>\n",
       "      <td>0</td>\n",
       "      <td>C:\\Users\\szabo\\Documents\\fogak\\CBCT 14d_100</td>\n",
       "      <td>253</td>\n",
       "      <td>0</td>\n",
       "      <td>0.000000</td>\n",
       "    </tr>\n",
       "    <tr>\n",
       "      <th>1</th>\n",
       "      <td>1</td>\n",
       "      <td>C:\\Users\\szabo\\Documents\\fogak\\CBCT 14d_100</td>\n",
       "      <td>254</td>\n",
       "      <td>0</td>\n",
       "      <td>0.013158</td>\n",
       "    </tr>\n",
       "    <tr>\n",
       "      <th>2</th>\n",
       "      <td>2</td>\n",
       "      <td>C:\\Users\\szabo\\Documents\\fogak\\CBCT 14d_100</td>\n",
       "      <td>255</td>\n",
       "      <td>0</td>\n",
       "      <td>0.026316</td>\n",
       "    </tr>\n",
       "    <tr>\n",
       "      <th>3</th>\n",
       "      <td>3</td>\n",
       "      <td>C:\\Users\\szabo\\Documents\\fogak\\CBCT 14d_100</td>\n",
       "      <td>256</td>\n",
       "      <td>0</td>\n",
       "      <td>0.039474</td>\n",
       "    </tr>\n",
       "    <tr>\n",
       "      <th>4</th>\n",
       "      <td>4</td>\n",
       "      <td>C:\\Users\\szabo\\Documents\\fogak\\CBCT 14d_100</td>\n",
       "      <td>257</td>\n",
       "      <td>0</td>\n",
       "      <td>0.052632</td>\n",
       "    </tr>\n",
       "    <tr>\n",
       "      <th>...</th>\n",
       "      <td>...</td>\n",
       "      <td>...</td>\n",
       "      <td>...</td>\n",
       "      <td>...</td>\n",
       "      <td>...</td>\n",
       "    </tr>\n",
       "    <tr>\n",
       "      <th>4044</th>\n",
       "      <td>4044</td>\n",
       "      <td>C:\\Users\\szabo\\Documents\\fogak\\CBCT 7d_100</td>\n",
       "      <td>309</td>\n",
       "      <td>48</td>\n",
       "      <td>0.948718</td>\n",
       "    </tr>\n",
       "    <tr>\n",
       "      <th>4045</th>\n",
       "      <td>4045</td>\n",
       "      <td>C:\\Users\\szabo\\Documents\\fogak\\CBCT 7d_100</td>\n",
       "      <td>310</td>\n",
       "      <td>48</td>\n",
       "      <td>0.961538</td>\n",
       "    </tr>\n",
       "    <tr>\n",
       "      <th>4046</th>\n",
       "      <td>4046</td>\n",
       "      <td>C:\\Users\\szabo\\Documents\\fogak\\CBCT 7d_100</td>\n",
       "      <td>311</td>\n",
       "      <td>48</td>\n",
       "      <td>0.974359</td>\n",
       "    </tr>\n",
       "    <tr>\n",
       "      <th>4047</th>\n",
       "      <td>4047</td>\n",
       "      <td>C:\\Users\\szabo\\Documents\\fogak\\CBCT 7d_100</td>\n",
       "      <td>312</td>\n",
       "      <td>48</td>\n",
       "      <td>0.987179</td>\n",
       "    </tr>\n",
       "    <tr>\n",
       "      <th>4048</th>\n",
       "      <td>4048</td>\n",
       "      <td>C:\\Users\\szabo\\Documents\\fogak\\CBCT 7d_100</td>\n",
       "      <td>313</td>\n",
       "      <td>48</td>\n",
       "      <td>1.000000</td>\n",
       "    </tr>\n",
       "  </tbody>\n",
       "</table>\n",
       "<p>4049 rows × 5 columns</p>\n",
       "</div>"
      ],
      "text/plain": [
       "       GID                                    directory  slice  DID       pos\n",
       "0        0  C:\\Users\\szabo\\Documents\\fogak\\CBCT 14d_100    253    0  0.000000\n",
       "1        1  C:\\Users\\szabo\\Documents\\fogak\\CBCT 14d_100    254    0  0.013158\n",
       "2        2  C:\\Users\\szabo\\Documents\\fogak\\CBCT 14d_100    255    0  0.026316\n",
       "3        3  C:\\Users\\szabo\\Documents\\fogak\\CBCT 14d_100    256    0  0.039474\n",
       "4        4  C:\\Users\\szabo\\Documents\\fogak\\CBCT 14d_100    257    0  0.052632\n",
       "...    ...                                          ...    ...  ...       ...\n",
       "4044  4044   C:\\Users\\szabo\\Documents\\fogak\\CBCT 7d_100    309   48  0.948718\n",
       "4045  4045   C:\\Users\\szabo\\Documents\\fogak\\CBCT 7d_100    310   48  0.961538\n",
       "4046  4046   C:\\Users\\szabo\\Documents\\fogak\\CBCT 7d_100    311   48  0.974359\n",
       "4047  4047   C:\\Users\\szabo\\Documents\\fogak\\CBCT 7d_100    312   48  0.987179\n",
       "4048  4048   C:\\Users\\szabo\\Documents\\fogak\\CBCT 7d_100    313   48  1.000000\n",
       "\n",
       "[4049 rows x 5 columns]"
      ]
     },
     "execution_count": 89,
     "metadata": {},
     "output_type": "execute_result"
    }
   ],
   "source": [
    "merged = pd.merge(indexDF, mxslices, on=\"DID\").drop(columns=\"Unnamed: 0\")\n",
    "merged[\"pos\"] = (merged[\"slice\"] - merged[\"slice\", \"amin\"]) / (merged[\"slice\", \"amax\"] - merged[\"slice\", \"amin\"])\n",
    "merged = merged.drop(columns=[[\"slice\", \"amax\"], [\"slice\", \"amin\"]])\n",
    "merged"
   ]
  },
  {
   "cell_type": "code",
   "execution_count": 90,
   "metadata": {},
   "outputs": [
    {
     "data": {
      "text/html": [
       "<div>\n",
       "<style scoped>\n",
       "    .dataframe tbody tr th:only-of-type {\n",
       "        vertical-align: middle;\n",
       "    }\n",
       "\n",
       "    .dataframe tbody tr th {\n",
       "        vertical-align: top;\n",
       "    }\n",
       "\n",
       "    .dataframe thead th {\n",
       "        text-align: right;\n",
       "    }\n",
       "</style>\n",
       "<table border=\"1\" class=\"dataframe\">\n",
       "  <thead>\n",
       "    <tr style=\"text-align: right;\">\n",
       "      <th></th>\n",
       "      <th>GID</th>\n",
       "      <th>directory</th>\n",
       "      <th>slice</th>\n",
       "      <th>DID</th>\n",
       "      <th>pos</th>\n",
       "      <th>iou</th>\n",
       "      <th>dice</th>\n",
       "      <th>hdorf</th>\n",
       "      <th>mask_intensity</th>\n",
       "      <th>pred_intensity</th>\n",
       "    </tr>\n",
       "  </thead>\n",
       "  <tbody>\n",
       "    <tr>\n",
       "      <th>18</th>\n",
       "      <td>18</td>\n",
       "      <td>C:\\Users\\szabo\\Documents\\fogak\\CBCT 14d_100</td>\n",
       "      <td>271</td>\n",
       "      <td>0</td>\n",
       "      <td>0.236842</td>\n",
       "      <td>0.552000</td>\n",
       "      <td>0.711340</td>\n",
       "      <td>2.000000</td>\n",
       "      <td>69.0</td>\n",
       "      <td>125.0</td>\n",
       "    </tr>\n",
       "    <tr>\n",
       "      <th>26</th>\n",
       "      <td>26</td>\n",
       "      <td>C:\\Users\\szabo\\Documents\\fogak\\CBCT 14d_100</td>\n",
       "      <td>279</td>\n",
       "      <td>0</td>\n",
       "      <td>0.342105</td>\n",
       "      <td>0.640000</td>\n",
       "      <td>0.780488</td>\n",
       "      <td>1.732051</td>\n",
       "      <td>64.0</td>\n",
       "      <td>100.0</td>\n",
       "    </tr>\n",
       "    <tr>\n",
       "      <th>32</th>\n",
       "      <td>32</td>\n",
       "      <td>C:\\Users\\szabo\\Documents\\fogak\\CBCT 14d_100</td>\n",
       "      <td>285</td>\n",
       "      <td>0</td>\n",
       "      <td>0.421053</td>\n",
       "      <td>0.625000</td>\n",
       "      <td>0.769231</td>\n",
       "      <td>1.732051</td>\n",
       "      <td>55.0</td>\n",
       "      <td>88.0</td>\n",
       "    </tr>\n",
       "    <tr>\n",
       "      <th>47</th>\n",
       "      <td>47</td>\n",
       "      <td>C:\\Users\\szabo\\Documents\\fogak\\CBCT 14d_100</td>\n",
       "      <td>300</td>\n",
       "      <td>0</td>\n",
       "      <td>0.618421</td>\n",
       "      <td>0.236111</td>\n",
       "      <td>0.382022</td>\n",
       "      <td>2.645751</td>\n",
       "      <td>17.0</td>\n",
       "      <td>72.0</td>\n",
       "    </tr>\n",
       "    <tr>\n",
       "      <th>77</th>\n",
       "      <td>77</td>\n",
       "      <td>C:\\Users\\szabo\\Documents\\fogak\\CBCT 201307231340</td>\n",
       "      <td>136</td>\n",
       "      <td>1</td>\n",
       "      <td>0.000000</td>\n",
       "      <td>0.784553</td>\n",
       "      <td>0.879271</td>\n",
       "      <td>2.000000</td>\n",
       "      <td>193.0</td>\n",
       "      <td>246.0</td>\n",
       "    </tr>\n",
       "    <tr>\n",
       "      <th>...</th>\n",
       "      <td>...</td>\n",
       "      <td>...</td>\n",
       "      <td>...</td>\n",
       "      <td>...</td>\n",
       "      <td>...</td>\n",
       "      <td>...</td>\n",
       "      <td>...</td>\n",
       "      <td>...</td>\n",
       "      <td>...</td>\n",
       "      <td>...</td>\n",
       "    </tr>\n",
       "    <tr>\n",
       "      <th>3913</th>\n",
       "      <td>3913</td>\n",
       "      <td>C:\\Users\\szabo\\Documents\\fogak\\CBCT 5s_100</td>\n",
       "      <td>259</td>\n",
       "      <td>47</td>\n",
       "      <td>0.308642</td>\n",
       "      <td>0.615385</td>\n",
       "      <td>0.761905</td>\n",
       "      <td>2.000000</td>\n",
       "      <td>56.0</td>\n",
       "      <td>91.0</td>\n",
       "    </tr>\n",
       "    <tr>\n",
       "      <th>3938</th>\n",
       "      <td>3938</td>\n",
       "      <td>C:\\Users\\szabo\\Documents\\fogak\\CBCT 5s_100</td>\n",
       "      <td>284</td>\n",
       "      <td>47</td>\n",
       "      <td>0.617284</td>\n",
       "      <td>0.545455</td>\n",
       "      <td>0.705882</td>\n",
       "      <td>2.000000</td>\n",
       "      <td>18.0</td>\n",
       "      <td>33.0</td>\n",
       "    </tr>\n",
       "    <tr>\n",
       "      <th>3975</th>\n",
       "      <td>3975</td>\n",
       "      <td>C:\\Users\\szabo\\Documents\\fogak\\CBCT 7d_100</td>\n",
       "      <td>240</td>\n",
       "      <td>48</td>\n",
       "      <td>0.064103</td>\n",
       "      <td>0.512712</td>\n",
       "      <td>0.677871</td>\n",
       "      <td>2.449490</td>\n",
       "      <td>121.0</td>\n",
       "      <td>236.0</td>\n",
       "    </tr>\n",
       "    <tr>\n",
       "      <th>3986</th>\n",
       "      <td>3986</td>\n",
       "      <td>C:\\Users\\szabo\\Documents\\fogak\\CBCT 7d_100</td>\n",
       "      <td>251</td>\n",
       "      <td>48</td>\n",
       "      <td>0.205128</td>\n",
       "      <td>0.762887</td>\n",
       "      <td>0.865497</td>\n",
       "      <td>1.732051</td>\n",
       "      <td>184.0</td>\n",
       "      <td>158.0</td>\n",
       "    </tr>\n",
       "    <tr>\n",
       "      <th>4036</th>\n",
       "      <td>4036</td>\n",
       "      <td>C:\\Users\\szabo\\Documents\\fogak\\CBCT 7d_100</td>\n",
       "      <td>301</td>\n",
       "      <td>48</td>\n",
       "      <td>0.846154</td>\n",
       "      <td>0.692308</td>\n",
       "      <td>0.818182</td>\n",
       "      <td>1.732051</td>\n",
       "      <td>54.0</td>\n",
       "      <td>78.0</td>\n",
       "    </tr>\n",
       "  </tbody>\n",
       "</table>\n",
       "<p>203 rows × 10 columns</p>\n",
       "</div>"
      ],
      "text/plain": [
       "       GID                                         directory  slice  DID  \\\n",
       "18      18       C:\\Users\\szabo\\Documents\\fogak\\CBCT 14d_100    271    0   \n",
       "26      26       C:\\Users\\szabo\\Documents\\fogak\\CBCT 14d_100    279    0   \n",
       "32      32       C:\\Users\\szabo\\Documents\\fogak\\CBCT 14d_100    285    0   \n",
       "47      47       C:\\Users\\szabo\\Documents\\fogak\\CBCT 14d_100    300    0   \n",
       "77      77  C:\\Users\\szabo\\Documents\\fogak\\CBCT 201307231340    136    1   \n",
       "...    ...                                               ...    ...  ...   \n",
       "3913  3913        C:\\Users\\szabo\\Documents\\fogak\\CBCT 5s_100    259   47   \n",
       "3938  3938        C:\\Users\\szabo\\Documents\\fogak\\CBCT 5s_100    284   47   \n",
       "3975  3975        C:\\Users\\szabo\\Documents\\fogak\\CBCT 7d_100    240   48   \n",
       "3986  3986        C:\\Users\\szabo\\Documents\\fogak\\CBCT 7d_100    251   48   \n",
       "4036  4036        C:\\Users\\szabo\\Documents\\fogak\\CBCT 7d_100    301   48   \n",
       "\n",
       "           pos       iou      dice     hdorf  mask_intensity  pred_intensity  \n",
       "18    0.236842  0.552000  0.711340  2.000000            69.0           125.0  \n",
       "26    0.342105  0.640000  0.780488  1.732051            64.0           100.0  \n",
       "32    0.421053  0.625000  0.769231  1.732051            55.0            88.0  \n",
       "47    0.618421  0.236111  0.382022  2.645751            17.0            72.0  \n",
       "77    0.000000  0.784553  0.879271  2.000000           193.0           246.0  \n",
       "...        ...       ...       ...       ...             ...             ...  \n",
       "3913  0.308642  0.615385  0.761905  2.000000            56.0            91.0  \n",
       "3938  0.617284  0.545455  0.705882  2.000000            18.0            33.0  \n",
       "3975  0.064103  0.512712  0.677871  2.449490           121.0           236.0  \n",
       "3986  0.205128  0.762887  0.865497  1.732051           184.0           158.0  \n",
       "4036  0.846154  0.692308  0.818182  1.732051            54.0            78.0  \n",
       "\n",
       "[203 rows x 10 columns]"
      ]
     },
     "execution_count": 90,
     "metadata": {},
     "output_type": "execute_result"
    }
   ],
   "source": [
    "combined = pd.merge(merged, metrics, left_index=True, right_index=True)\n",
    "combined"
   ]
  },
  {
   "cell_type": "code",
   "execution_count": 22,
   "metadata": {},
   "outputs": [],
   "source": [
    "combined.to_csv(\"metrics.csv\")"
   ]
  },
  {
   "cell_type": "code",
   "execution_count": 2,
   "metadata": {},
   "outputs": [],
   "source": [
    "# Load saved metrics\n",
    "combined = pd.read_csv(\"metrics.csv\")"
   ]
  },
  {
   "cell_type": "code",
   "execution_count": 91,
   "metadata": {},
   "outputs": [
    {
     "data": {
      "text/plain": [
       "[<matplotlib.lines.Line2D at 0x19108c667c8>]"
      ]
     },
     "execution_count": 91,
     "metadata": {},
     "output_type": "execute_result"
    },
    {
     "data": {
      "image/png": "[encoded data removed]",
      "text/plain": [
       "<Figure size 1332x756 with 1 Axes>"
      ]
     },
     "metadata": {
      "needs_background": "light"
     },
     "output_type": "display_data"
    }
   ],
   "source": [
    "fig = plt.gcf()\n",
    "fig.set_size_inches(18.5, 10.5)\n",
    "plt.plot(combined.mask_intensity, combined.iou, \"ro\")\n",
    "# IOU eloszlása a maszk fehér pixeleniek függvényében\n",
    "# X tengely: A maszk fehér pixeleinek száma\n",
    "# Y tengely: IOU"
   ]
  },
  {
   "cell_type": "code",
   "execution_count": 92,
   "metadata": {},
   "outputs": [
    {
     "data": {
      "text/plain": [
       "[<matplotlib.lines.Line2D at 0x192b1c16048>]"
      ]
     },
     "execution_count": 92,
     "metadata": {},
     "output_type": "execute_result"
    },
    {
     "data": {
      "image/png": "[encoded data removed]",
      "text/plain": [
       "<Figure size 1332x756 with 1 Axes>"
      ]
     },
     "metadata": {
      "needs_background": "light"
     },
     "output_type": "display_data"
    }
   ],
   "source": [
    "fig = plt.gcf()\n",
    "fig.set_size_inches(18.5, 10.5)\n",
    "plt.plot(combined.pos, combined.iou, \"ro\")\n",
    "# IOU eloszlása a szelet fogbeli elhelyezkedése alapján\n",
    "# X tengely: A szelet fogbeli helye, ahol 0 az első szelet, amihez tartozik maszk és 1 az utolsó\n",
    "# Y tengely: IOU"
   ]
  },
  {
   "cell_type": "code",
   "execution_count": 93,
   "metadata": {},
   "outputs": [
    {
     "data": {
      "text/plain": [
       "(-25.0, 525.0)"
      ]
     },
     "execution_count": 93,
     "metadata": {},
     "output_type": "execute_result"
    },
    {
     "data": {
      "image/png": "[encoded data removed]",
      "text/plain": [
       "<Figure size 1332x756 with 1 Axes>"
      ]
     },
     "metadata": {
      "needs_background": "light"
     },
     "output_type": "display_data"
    }
   ],
   "source": [
    "fig, ax = plt.subplots()\n",
    "fig.set_size_inches(18.5, 10.5)\n",
    "\n",
    "ax.plot(combined.mask_intensity, combined.pred_intensity, \"ro\")\n",
    "lims = [\n",
    "    np.min([ax.get_xlim(), ax.get_ylim()]),  # min of both axes\n",
    "    np.max([ax.get_xlim(), ax.get_ylim()]),  # max of both axes\n",
    "]\n",
    "\n",
    "# now plot both limits against eachother\n",
    "ax.plot(lims, lims, 'k-', alpha=0.75, zorder=0)\n",
    "ax.set_aspect('equal')\n",
    "ax.set_xlim(lims)\n",
    "ax.set_ylim(lims)\n",
    "\n",
    "# Az elvárt és a kimeneti maszk fehér pixeleinek eloszlása\n",
    "# X tengely: Az elvárt maszk fehér pixeleinek száma\n",
    "# Y tengely: A kimeneti maszk fehér pixeleinek száma"
   ]
  },
  {
   "cell_type": "code",
   "execution_count": 94,
   "metadata": {},
   "outputs": [],
   "source": [
    "histData2D = np.histogram2d(combined.mask_intensity, combined.pred_intensity, bins=(100,100))"
   ]
  },
  {
   "cell_type": "code",
   "execution_count": 95,
   "metadata": {},
   "outputs": [
    {
     "data": {
      "text/plain": [
       "<matplotlib.image.AxesImage at 0x19107fd8408>"
      ]
     },
     "execution_count": 95,
     "metadata": {},
     "output_type": "execute_result"
    },
    {
     "data": {
      "image/png": "[encoded data removed]",
      "text/plain": [
       "<Figure size 1332x1332 with 1 Axes>"
      ]
     },
     "metadata": {
      "needs_background": "light"
     },
     "output_type": "display_data"
    }
   ],
   "source": [
    "fig = plt.gcf()\n",
    "fig.set_size_inches(18.5, 18.5)\n",
    "plt.imshow(histData2D[0][::-1, :])"
   ]
  },
  {
   "cell_type": "code",
   "execution_count": 96,
   "metadata": {},
   "outputs": [],
   "source": [
    "barData = combined[combined.iou < 0.1].groupby(\"DID\").count() / combined.groupby(\"DID\").count()"
   ]
  },
  {
   "cell_type": "code",
   "execution_count": 97,
   "metadata": {},
   "outputs": [
    {
     "ename": "SyntaxError",
     "evalue": "invalid syntax (<ipython-input-97-df0eca0bfa5c>, line 1)",
     "output_type": "error",
     "traceback": [
      "\u001b[1;36m  File \u001b[1;32m\"<ipython-input-97-df0eca0bfa5c>\"\u001b[1;36m, line \u001b[1;32m1\u001b[0m\n\u001b[1;33m    np.\u001b[0m\n\u001b[1;37m       ^\u001b[0m\n\u001b[1;31mSyntaxError\u001b[0m\u001b[1;31m:\u001b[0m invalid syntax\n"
     ]
    }
   ],
   "source": [
    "np."
   ]
  },
  {
   "cell_type": "code",
   "execution_count": 98,
   "metadata": {},
   "outputs": [
    {
     "data": {
      "image/png": "[encoded data removed]",
      "text/plain": [
       "<Figure size 1332x756 with 1 Axes>"
      ]
     },
     "metadata": {
      "needs_background": "light"
     },
     "output_type": "display_data"
    }
   ],
   "source": [
    "fig = plt.gcf()\n",
    "fig.set_size_inches(18.5, 10.5)\n",
    "for limit in reversed([0.1, 0.2, 0.3, 0.5, 0.8]):\n",
    "    barData = combined[combined.iou < limit].groupby(\"DID\").count() / combined.groupby(\"DID\").count()\n",
    "    plt.bar(barData.index.values, barData.iou.values);\n",
    "plt.show()\n",
    "\n",
    "# Histogram a hibák relatív számának alakulásáról feogak szerint\n",
    "# X tengely: a fog azonosítója\n",
    "# Y tengely: A hibák relatív száma, ahol hibának vesszük a:\n",
    "# lila: 0.1, piros : 0.2, zöld : 0.3, sárga : 0.5, kék : 0.8\n",
    "# alatti IOU-val rendelkező képeket."
   ]
  },
  {
   "cell_type": "code",
   "execution_count": 32,
   "metadata": {},
   "outputs": [
    {
     "name": "stdout",
     "output_type": "stream",
     "text": [
      "IOU: 0.0\n"
     ]
    },
    {
     "data": {
      "image/png": "[encoded data removed]",
      "text/plain": [
       "<Figure size 432x288 with 1 Axes>"
      ]
     },
     "metadata": {
      "needs_background": "light"
     },
     "output_type": "display_data"
    },
    {
     "name": "stdout",
     "output_type": "stream",
     "text": [
      "IOU: 0.0\n"
     ]
    },
    {
     "data": {
      "image/png": "[encoded data removed]",
      "text/plain": [
       "<Figure size 432x288 with 1 Axes>"
      ]
     },
     "metadata": {
      "needs_background": "light"
     },
     "output_type": "display_data"
    },
    {
     "name": "stdout",
     "output_type": "stream",
     "text": [
      "IOU: 0.0\n"
     ]
    },
    {
     "data": {
      "image/png": "[encoded data removed]",
      "text/plain": [
       "<Figure size 432x288 with 1 Axes>"
      ]
     },
     "metadata": {
      "needs_background": "light"
     },
     "output_type": "display_data"
    },
    {
     "name": "stdout",
     "output_type": "stream",
     "text": [
      "IOU: 0.0\n"
     ]
    },
    {
     "data": {
      "image/png": "[encoded data removed]",
      "text/plain": [
       "<Figure size 432x288 with 1 Axes>"
      ]
     },
     "metadata": {
      "needs_background": "light"
     },
     "output_type": "display_data"
    },
    {
     "name": "stdout",
     "output_type": "stream",
     "text": [
      "IOU: 0.0\n"
     ]
    },
    {
     "data": {
      "image/png": "[encoded data removed]",
      "text/plain": [
       "<Figure size 432x288 with 1 Axes>"
      ]
     },
     "metadata": {
      "needs_background": "light"
     },
     "output_type": "display_data"
    },
    {
     "name": "stdout",
     "output_type": "stream",
     "text": [
      "IOU: 0.04545454680919647\n"
     ]
    },
    {
     "data": {
      "image/png": "[encoded data removed]",
      "text/plain": [
       "<Figure size 432x288 with 1 Axes>"
      ]
     },
     "metadata": {
      "needs_background": "light"
     },
     "output_type": "display_data"
    },
    {
     "name": "stdout",
     "output_type": "stream",
     "text": [
      "IOU: 0.0555555559694767\n"
     ]
    },
    {
     "data": {
      "image/png": "[encoded data removed]",
      "text/plain": [
       "<Figure size 432x288 with 1 Axes>"
      ]
     },
     "metadata": {
      "needs_background": "light"
     },
     "output_type": "display_data"
    },
    {
     "name": "stdout",
     "output_type": "stream",
     "text": [
      "IOU: 0.0\n"
     ]
    },
    {
     "data": {
      "image/png": "[encoded data removed]",
      "text/plain": [
       "<Figure size 432x288 with 1 Axes>"
      ]
     },
     "metadata": {
      "needs_background": "light"
     },
     "output_type": "display_data"
    },
    {
     "name": "stdout",
     "output_type": "stream",
     "text": [
      "IOU: 0.0\n"
     ]
    },
    {
     "data": {
      "image/png": "[encoded data removed]",
      "text/plain": [
       "<Figure size 432x288 with 1 Axes>"
      ]
     },
     "metadata": {
      "needs_background": "light"
     },
     "output_type": "display_data"
    },
    {
     "name": "stdout",
     "output_type": "stream",
     "text": [
      "IOU: 0.0\n"
     ]
    },
    {
     "data": {
      "image/png": "[encoded data removed]",
      "text/plain": [
       "<Figure size 432x288 with 1 Axes>"
      ]
     },
     "metadata": {
      "needs_background": "light"
     },
     "output_type": "display_data"
    },
    {
     "name": "stdout",
     "output_type": "stream",
     "text": [
      "IOU: 0.0\n"
     ]
    },
    {
     "data": {
      "image/png": "[encoded data removed]",
      "text/plain": [
       "<Figure size 432x288 with 1 Axes>"
      ]
     },
     "metadata": {
      "needs_background": "light"
     },
     "output_type": "display_data"
    },
    {
     "name": "stdout",
     "output_type": "stream",
     "text": [
      "IOU: 0.0\n"
     ]
    },
    {
     "data": {
      "image/png": "[encoded data removed]",
      "text/plain": [
       "<Figure size 432x288 with 1 Axes>"
      ]
     },
     "metadata": {
      "needs_background": "light"
     },
     "output_type": "display_data"
    },
    {
     "name": "stdout",
     "output_type": "stream",
     "text": [
      "IOU: 0.0\n"
     ]
    },
    {
     "data": {
      "image/png": "[encoded data removed]",
      "text/plain": [
       "<Figure size 432x288 with 1 Axes>"
      ]
     },
     "metadata": {
      "needs_background": "light"
     },
     "output_type": "display_data"
    },
    {
     "name": "stdout",
     "output_type": "stream",
     "text": [
      "IOU: 0.0\n"
     ]
    },
    {
     "data": {
      "image/png": "[encoded data removed]",
      "text/plain": [
       "<Figure size 432x288 with 1 Axes>"
      ]
     },
     "metadata": {
      "needs_background": "light"
     },
     "output_type": "display_data"
    },
    {
     "name": "stdout",
     "output_type": "stream",
     "text": [
      "IOU: 0.0\n"
     ]
    },
    {
     "data": {
      "image/png": "[encoded data removed]",
      "text/plain": [
       "<Figure size 432x288 with 1 Axes>"
      ]
     },
     "metadata": {
      "needs_background": "light"
     },
     "output_type": "display_data"
    },
    {
     "name": "stdout",
     "output_type": "stream",
     "text": [
      "IOU: 0.0\n"
     ]
    },
    {
     "data": {
      "image/png": "[encoded data removed]",
      "text/plain": [
       "<Figure size 432x288 with 1 Axes>"
      ]
     },
     "metadata": {
      "needs_background": "light"
     },
     "output_type": "display_data"
    },
    {
     "name": "stdout",
     "output_type": "stream",
     "text": [
      "IOU: 0.0\n"
     ]
    },
    {
     "data": {
      "image/png": "[encoded data removed]",
      "text/plain": [
       "<Figure size 432x288 with 1 Axes>"
      ]
     },
     "metadata": {
      "needs_background": "light"
     },
     "output_type": "display_data"
    },
    {
     "name": "stdout",
     "output_type": "stream",
     "text": [
      "IOU: 0.0\n"
     ]
    },
    {
     "data": {
      "image/png": "[encoded data removed]",
      "text/plain": [
       "<Figure size 432x288 with 1 Axes>"
      ]
     },
     "metadata": {
      "needs_background": "light"
     },
     "output_type": "display_data"
    },
    {
     "name": "stdout",
     "output_type": "stream",
     "text": [
      "IOU: 0.0\n"
     ]
    },
    {
     "data": {
      "image/png": "[encoded data removed]",
      "text/plain": [
       "<Figure size 432x288 with 1 Axes>"
      ]
     },
     "metadata": {
      "needs_background": "light"
     },
     "output_type": "display_data"
    },
    {
     "name": "stdout",
     "output_type": "stream",
     "text": [
      "IOU: 0.0\n"
     ]
    },
    {
     "data": {
      "image/png": "[encoded data removed]",
      "text/plain": [
       "<Figure size 432x288 with 1 Axes>"
      ]
     },
     "metadata": {
      "needs_background": "light"
     },
     "output_type": "display_data"
    },
    {
     "name": "stdout",
     "output_type": "stream",
     "text": [
      "IOU: 0.0\n"
     ]
    },
    {
     "data": {
      "image/png": "[encoded data removed]",
      "text/plain": [
       "<Figure size 432x288 with 1 Axes>"
      ]
     },
     "metadata": {
      "needs_background": "light"
     },
     "output_type": "display_data"
    },
    {
     "name": "stdout",
     "output_type": "stream",
     "text": [
      "IOU: 0.0\n"
     ]
    },
    {
     "data": {
      "image/png": "[encoded data removed]",
      "text/plain": [
       "<Figure size 432x288 with 1 Axes>"
      ]
     },
     "metadata": {
      "needs_background": "light"
     },
     "output_type": "display_data"
    },
    {
     "name": "stdout",
     "output_type": "stream",
     "text": [
      "IOU: 0.0\n"
     ]
    },
    {
     "data": {
      "image/png": "[encoded data removed]",
      "text/plain": [
       "<Figure size 432x288 with 1 Axes>"
      ]
     },
     "metadata": {
      "needs_background": "light"
     },
     "output_type": "display_data"
    },
    {
     "name": "stdout",
     "output_type": "stream",
     "text": [
      "IOU: 0.0833333358168602\n"
     ]
    },
    {
     "data": {
      "image/png": "[encoded data removed]",
      "text/plain": [
       "<Figure size 432x288 with 1 Axes>"
      ]
     },
     "metadata": {
      "needs_background": "light"
     },
     "output_type": "display_data"
    },
    {
     "name": "stdout",
     "output_type": "stream",
     "text": [
      "IOU: 0.06666667014360428\n"
     ]
    },
    {
     "data": {
      "image/png": "[encoded data removed]",
      "text/plain": [
       "<Figure size 432x288 with 1 Axes>"
      ]
     },
     "metadata": {
      "needs_background": "light"
     },
     "output_type": "display_data"
    },
    {
     "name": "stdout",
     "output_type": "stream",
     "text": [
      "IOU: 0.0\n"
     ]
    },
    {
     "data": {
      "image/png": "[encoded data removed]",
      "text/plain": [
       "<Figure size 432x288 with 1 Axes>"
      ]
     },
     "metadata": {
      "needs_background": "light"
     },
     "output_type": "display_data"
    },
    {
     "name": "stdout",
     "output_type": "stream",
     "text": [
      "IOU: 0.0\n"
     ]
    },
    {
     "data": {
      "image/png": "[encoded data removed]",
      "text/plain": [
       "<Figure size 432x288 with 1 Axes>"
      ]
     },
     "metadata": {
      "needs_background": "light"
     },
     "output_type": "display_data"
    },
    {
     "name": "stdout",
     "output_type": "stream",
     "text": [
      "IOU: 0.0\n"
     ]
    },
    {
     "data": {
      "image/png": "[encoded data removed]",
      "text/plain": [
       "<Figure size 432x288 with 1 Axes>"
      ]
     },
     "metadata": {
      "needs_background": "light"
     },
     "output_type": "display_data"
    },
    {
     "name": "stdout",
     "output_type": "stream",
     "text": [
      "IOU: 0.0\n"
     ]
    },
    {
     "data": {
      "image/png": "[encoded data removed]",
      "text/plain": [
       "<Figure size 432x288 with 1 Axes>"
      ]
     },
     "metadata": {
      "needs_background": "light"
     },
     "output_type": "display_data"
    },
    {
     "name": "stdout",
     "output_type": "stream",
     "text": [
      "IOU: 0.0\n"
     ]
    },
    {
     "data": {
      "image/png": "[encoded data removed]",
      "text/plain": [
       "<Figure size 432x288 with 1 Axes>"
      ]
     },
     "metadata": {
      "needs_background": "light"
     },
     "output_type": "display_data"
    },
    {
     "name": "stdout",
     "output_type": "stream",
     "text": [
      "IOU: 0.0\n"
     ]
    },
    {
     "data": {
      "image/png": "[encoded data removed]",
      "text/plain": [
       "<Figure size 432x288 with 1 Axes>"
      ]
     },
     "metadata": {
      "needs_background": "light"
     },
     "output_type": "display_data"
    },
    {
     "name": "stdout",
     "output_type": "stream",
     "text": [
      "IOU: 0.0\n"
     ]
    },
    {
     "data": {
      "image/png": "[encoded data removed]",
      "text/plain": [
       "<Figure size 432x288 with 1 Axes>"
      ]
     },
     "metadata": {
      "needs_background": "light"
     },
     "output_type": "display_data"
    },
    {
     "name": "stdout",
     "output_type": "stream",
     "text": [
      "IOU: 0.0\n"
     ]
    },
    {
     "data": {
      "image/png": "[encoded data removed]",
      "text/plain": [
       "<Figure size 432x288 with 1 Axes>"
      ]
     },
     "metadata": {
      "needs_background": "light"
     },
     "output_type": "display_data"
    },
    {
     "name": "stdout",
     "output_type": "stream",
     "text": [
      "IOU: 0.0\n"
     ]
    },
    {
     "data": {
      "image/png": "[encoded data removed]",
      "text/plain": [
       "<Figure size 432x288 with 1 Axes>"
      ]
     },
     "metadata": {
      "needs_background": "light"
     },
     "output_type": "display_data"
    },
    {
     "name": "stdout",
     "output_type": "stream",
     "text": [
      "IOU: 0.0\n"
     ]
    },
    {
     "data": {
      "image/png": "[encoded data removed]",
      "text/plain": [
       "<Figure size 432x288 with 1 Axes>"
      ]
     },
     "metadata": {
      "needs_background": "light"
     },
     "output_type": "display_data"
    },
    {
     "name": "stdout",
     "output_type": "stream",
     "text": [
      "IOU: 0.0\n"
     ]
    },
    {
     "data": {
      "image/png": "[encoded data removed]",
      "text/plain": [
       "<Figure size 432x288 with 1 Axes>"
      ]
     },
     "metadata": {
      "needs_background": "light"
     },
     "output_type": "display_data"
    },
    {
     "name": "stdout",
     "output_type": "stream",
     "text": [
      "IOU: 0.0\n"
     ]
    },
    {
     "data": {
      "image/png": "[encoded data removed]",
      "text/plain": [
       "<Figure size 432x288 with 1 Axes>"
      ]
     },
     "metadata": {
      "needs_background": "light"
     },
     "output_type": "display_data"
    },
    {
     "name": "stdout",
     "output_type": "stream",
     "text": [
      "IOU: 0.0\n"
     ]
    },
    {
     "data": {
      "image/png": "[encoded data removed]",
      "text/plain": [
       "<Figure size 432x288 with 1 Axes>"
      ]
     },
     "metadata": {
      "needs_background": "light"
     },
     "output_type": "display_data"
    },
    {
     "name": "stdout",
     "output_type": "stream",
     "text": [
      "IOU: 0.0\n"
     ]
    },
    {
     "data": {
      "image/png": "[encoded data removed]",
      "text/plain": [
       "<Figure size 432x288 with 1 Axes>"
      ]
     },
     "metadata": {
      "needs_background": "light"
     },
     "output_type": "display_data"
    },
    {
     "name": "stdout",
     "output_type": "stream",
     "text": [
      "IOU: 0.0\n"
     ]
    },
    {
     "data": {
      "image/png": "[encoded data removed]",
      "text/plain": [
       "<Figure size 432x288 with 1 Axes>"
      ]
     },
     "metadata": {
      "needs_background": "light"
     },
     "output_type": "display_data"
    },
    {
     "name": "stdout",
     "output_type": "stream",
     "text": [
      "IOU: 0.0\n"
     ]
    },
    {
     "data": {
      "image/png": "[encoded data removed]",
      "text/plain": [
       "<Figure size 432x288 with 1 Axes>"
      ]
     },
     "metadata": {
      "needs_background": "light"
     },
     "output_type": "display_data"
    },
    {
     "name": "stdout",
     "output_type": "stream",
     "text": [
      "IOU: 0.0\n"
     ]
    },
    {
     "data": {
      "image/png": "[encoded data removed]",
      "text/plain": [
       "<Figure size 432x288 with 1 Axes>"
      ]
     },
     "metadata": {
      "needs_background": "light"
     },
     "output_type": "display_data"
    },
    {
     "name": "stdout",
     "output_type": "stream",
     "text": [
      "IOU: 0.0\n"
     ]
    },
    {
     "data": {
      "image/png": "[encoded data removed]",
      "text/plain": [
       "<Figure size 432x288 with 1 Axes>"
      ]
     },
     "metadata": {
      "needs_background": "light"
     },
     "output_type": "display_data"
    },
    {
     "name": "stdout",
     "output_type": "stream",
     "text": [
      "IOU: 0.0\n"
     ]
    },
    {
     "data": {
      "image/png": "[encoded data removed]",
      "text/plain": [
       "<Figure size 432x288 with 1 Axes>"
      ]
     },
     "metadata": {
      "needs_background": "light"
     },
     "output_type": "display_data"
    },
    {
     "name": "stdout",
     "output_type": "stream",
     "text": [
      "IOU: 0.0\n"
     ]
    },
    {
     "data": {
      "image/png": "[encoded data removed]",
      "text/plain": [
       "<Figure size 432x288 with 1 Axes>"
      ]
     },
     "metadata": {
      "needs_background": "light"
     },
     "output_type": "display_data"
    },
    {
     "name": "stdout",
     "output_type": "stream",
     "text": [
      "IOU: 0.0\n"
     ]
    },
    {
     "data": {
      "image/png": "[encoded data removed]",
      "text/plain": [
       "<Figure size 432x288 with 1 Axes>"
      ]
     },
     "metadata": {
      "needs_background": "light"
     },
     "output_type": "display_data"
    },
    {
     "name": "stdout",
     "output_type": "stream",
     "text": [
      "IOU: 0.0\n"
     ]
    },
    {
     "data": {
      "image/png": "[encoded data removed]",
      "text/plain": [
       "<Figure size 432x288 with 1 Axes>"
      ]
     },
     "metadata": {
      "needs_background": "light"
     },
     "output_type": "display_data"
    },
    {
     "name": "stdout",
     "output_type": "stream",
     "text": [
      "IOU: 0.0\n"
     ]
    },
    {
     "data": {
      "image/png": "[encoded data removed]",
      "text/plain": [
       "<Figure size 432x288 with 1 Axes>"
      ]
     },
     "metadata": {
      "needs_background": "light"
     },
     "output_type": "display_data"
    },
    {
     "name": "stdout",
     "output_type": "stream",
     "text": [
      "IOU: 0.0\n"
     ]
    },
    {
     "data": {
      "image/png": "[encoded data removed]",
      "text/plain": [
       "<Figure size 432x288 with 1 Axes>"
      ]
     },
     "metadata": {
      "needs_background": "light"
     },
     "output_type": "display_data"
    },
    {
     "name": "stdout",
     "output_type": "stream",
     "text": [
      "IOU: 0.0\n"
     ]
    },
    {
     "data": {
      "image/png": "[encoded data removed]",
      "text/plain": [
       "<Figure size 432x288 with 1 Axes>"
      ]
     },
     "metadata": {
      "needs_background": "light"
     },
     "output_type": "display_data"
    },
    {
     "name": "stdout",
     "output_type": "stream",
     "text": [
      "IOU: 0.0\n"
     ]
    },
    {
     "data": {
      "image/png": "[encoded data removed]",
      "text/plain": [
       "<Figure size 432x288 with 1 Axes>"
      ]
     },
     "metadata": {
      "needs_background": "light"
     },
     "output_type": "display_data"
    },
    {
     "name": "stdout",
     "output_type": "stream",
     "text": [
      "IOU: 0.0\n"
     ]
    },
    {
     "data": {
      "image/png": "[encoded data removed]",
      "text/plain": [
       "<Figure size 432x288 with 1 Axes>"
      ]
     },
     "metadata": {
      "needs_background": "light"
     },
     "output_type": "display_data"
    },
    {
     "name": "stdout",
     "output_type": "stream",
     "text": [
      "IOU: 0.0\n"
     ]
    },
    {
     "data": {
      "image/png": "[encoded data removed]",
      "text/plain": [
       "<Figure size 432x288 with 1 Axes>"
      ]
     },
     "metadata": {
      "needs_background": "light"
     },
     "output_type": "display_data"
    },
    {
     "name": "stdout",
     "output_type": "stream",
     "text": [
      "IOU: 0.0\n"
     ]
    },
    {
     "data": {
      "image/png": "[encoded data removed]",
      "text/plain": [
       "<Figure size 432x288 with 1 Axes>"
      ]
     },
     "metadata": {
      "needs_background": "light"
     },
     "output_type": "display_data"
    },
    {
     "name": "stdout",
     "output_type": "stream",
     "text": [
      "IOU: 0.0\n"
     ]
    },
    {
     "data": {
      "image/png": "[encoded data removed]",
      "text/plain": [
       "<Figure size 432x288 with 1 Axes>"
      ]
     },
     "metadata": {
      "needs_background": "light"
     },
     "output_type": "display_data"
    },
    {
     "name": "stdout",
     "output_type": "stream",
     "text": [
      "IOU: 0.0\n"
     ]
    },
    {
     "data": {
      "image/png": "[encoded data removed]",
      "text/plain": [
       "<Figure size 432x288 with 1 Axes>"
      ]
     },
     "metadata": {
      "needs_background": "light"
     },
     "output_type": "display_data"
    },
    {
     "name": "stdout",
     "output_type": "stream",
     "text": [
      "IOU: 0.0\n"
     ]
    },
    {
     "data": {
      "image/png": "[encoded data removed]",
      "text/plain": [
       "<Figure size 432x288 with 1 Axes>"
      ]
     },
     "metadata": {
      "needs_background": "light"
     },
     "output_type": "display_data"
    },
    {
     "name": "stdout",
     "output_type": "stream",
     "text": [
      "IOU: 0.0\n"
     ]
    },
    {
     "data": {
      "image/png": "[encoded data removed]",
      "text/plain": [
       "<Figure size 432x288 with 1 Axes>"
      ]
     },
     "metadata": {
      "needs_background": "light"
     },
     "output_type": "display_data"
    },
    {
     "name": "stdout",
     "output_type": "stream",
     "text": [
      "IOU: 0.0\n"
     ]
    },
    {
     "data": {
      "image/png": "[encoded data removed]",
      "text/plain": [
       "<Figure size 432x288 with 1 Axes>"
      ]
     },
     "metadata": {
      "needs_background": "light"
     },
     "output_type": "display_data"
    },
    {
     "name": "stdout",
     "output_type": "stream",
     "text": [
      "IOU: 0.0\n"
     ]
    },
    {
     "data": {
      "image/png": "[encoded data removed]",
      "text/plain": [
       "<Figure size 432x288 with 1 Axes>"
      ]
     },
     "metadata": {
      "needs_background": "light"
     },
     "output_type": "display_data"
    },
    {
     "name": "stdout",
     "output_type": "stream",
     "text": [
      "IOU: 0.0\n"
     ]
    },
    {
     "data": {
      "image/png": "[encoded data removed]",
      "text/plain": [
       "<Figure size 432x288 with 1 Axes>"
      ]
     },
     "metadata": {
      "needs_background": "light"
     },
     "output_type": "display_data"
    },
    {
     "name": "stdout",
     "output_type": "stream",
     "text": [
      "IOU: 0.0\n"
     ]
    },
    {
     "data": {
      "image/png": "[encoded data removed]",
      "text/plain": [
       "<Figure size 432x288 with 1 Axes>"
      ]
     },
     "metadata": {
      "needs_background": "light"
     },
     "output_type": "display_data"
    },
    {
     "name": "stdout",
     "output_type": "stream",
     "text": [
      "IOU: 0.0\n"
     ]
    },
    {
     "data": {
      "image/png": "[encoded data removed]",
      "text/plain": [
       "<Figure size 432x288 with 1 Axes>"
      ]
     },
     "metadata": {
      "needs_background": "light"
     },
     "output_type": "display_data"
    },
    {
     "name": "stdout",
     "output_type": "stream",
     "text": [
      "IOU: 0.0\n"
     ]
    },
    {
     "data": {
      "image/png": "[encoded data removed]",
      "text/plain": [
       "<Figure size 432x288 with 1 Axes>"
      ]
     },
     "metadata": {
      "needs_background": "light"
     },
     "output_type": "display_data"
    },
    {
     "name": "stdout",
     "output_type": "stream",
     "text": [
      "IOU: 0.0\n"
     ]
    },
    {
     "data": {
      "image/png": "[encoded data removed]",
      "text/plain": [
       "<Figure size 432x288 with 1 Axes>"
      ]
     },
     "metadata": {
      "needs_background": "light"
     },
     "output_type": "display_data"
    },
    {
     "name": "stdout",
     "output_type": "stream",
     "text": [
      "IOU: 0.0\n"
     ]
    },
    {
     "data": {
      "image/png": "[encoded data removed]",
      "text/plain": [
       "<Figure size 432x288 with 1 Axes>"
      ]
     },
     "metadata": {
      "needs_background": "light"
     },
     "output_type": "display_data"
    },
    {
     "name": "stdout",
     "output_type": "stream",
     "text": [
      "IOU: 0.0\n"
     ]
    },
    {
     "data": {
      "image/png": "[encoded data removed]",
      "text/plain": [
       "<Figure size 432x288 with 1 Axes>"
      ]
     },
     "metadata": {
      "needs_background": "light"
     },
     "output_type": "display_data"
    },
    {
     "name": "stdout",
     "output_type": "stream",
     "text": [
      "IOU: 0.0\n"
     ]
    },
    {
     "data": {
      "image/png": "[encoded data removed]",
      "text/plain": [
       "<Figure size 432x288 with 1 Axes>"
      ]
     },
     "metadata": {
      "needs_background": "light"
     },
     "output_type": "display_data"
    },
    {
     "name": "stdout",
     "output_type": "stream",
     "text": [
      "IOU: 0.06451612710952759\n"
     ]
    },
    {
     "data": {
      "image/png": "[encoded data removed]",
      "text/plain": [
       "<Figure size 432x288 with 1 Axes>"
      ]
     },
     "metadata": {
      "needs_background": "light"
     },
     "output_type": "display_data"
    },
    {
     "name": "stdout",
     "output_type": "stream",
     "text": [
      "IOU: 0.0\n"
     ]
    },
    {
     "data": {
      "image/png": "[encoded data removed]",
      "text/plain": [
       "<Figure size 432x288 with 1 Axes>"
      ]
     },
     "metadata": {
      "needs_background": "light"
     },
     "output_type": "display_data"
    },
    {
     "name": "stdout",
     "output_type": "stream",
     "text": [
      "IOU: 0.0\n"
     ]
    },
    {
     "data": {
      "image/png": "[encoded data removed]",
      "text/plain": [
       "<Figure size 432x288 with 1 Axes>"
      ]
     },
     "metadata": {
      "needs_background": "light"
     },
     "output_type": "display_data"
    },
    {
     "name": "stdout",
     "output_type": "stream",
     "text": [
      "IOU: 0.0\n"
     ]
    },
    {
     "data": {
      "image/png": "[encoded data removed]",
      "text/plain": [
       "<Figure size 432x288 with 1 Axes>"
      ]
     },
     "metadata": {
      "needs_background": "light"
     },
     "output_type": "display_data"
    },
    {
     "name": "stdout",
     "output_type": "stream",
     "text": [
      "IOU: 0.0\n"
     ]
    },
    {
     "data": {
      "image/png": "[encoded data removed]",
      "text/plain": [
       "<Figure size 432x288 with 1 Axes>"
      ]
     },
     "metadata": {
      "needs_background": "light"
     },
     "output_type": "display_data"
    },
    {
     "name": "stdout",
     "output_type": "stream",
     "text": [
      "IOU: 0.0\n"
     ]
    },
    {
     "data": {
      "image/png": "[encoded data removed]",
      "text/plain": [
       "<Figure size 432x288 with 1 Axes>"
      ]
     },
     "metadata": {
      "needs_background": "light"
     },
     "output_type": "display_data"
    },
    {
     "name": "stdout",
     "output_type": "stream",
     "text": [
      "IOU: 0.0\n"
     ]
    },
    {
     "data": {
      "image/png": "[encoded data removed]",
      "text/plain": [
       "<Figure size 432x288 with 1 Axes>"
      ]
     },
     "metadata": {
      "needs_background": "light"
     },
     "output_type": "display_data"
    },
    {
     "name": "stdout",
     "output_type": "stream",
     "text": [
      "IOU: 0.0\n"
     ]
    },
    {
     "data": {
      "image/png": "[encoded data removed]",
      "text/plain": [
       "<Figure size 432x288 with 1 Axes>"
      ]
     },
     "metadata": {
      "needs_background": "light"
     },
     "output_type": "display_data"
    },
    {
     "name": "stdout",
     "output_type": "stream",
     "text": [
      "IOU: 0.0\n"
     ]
    },
    {
     "data": {
      "image/png": "[encoded data removed]",
      "text/plain": [
       "<Figure size 432x288 with 1 Axes>"
      ]
     },
     "metadata": {
      "needs_background": "light"
     },
     "output_type": "display_data"
    },
    {
     "name": "stdout",
     "output_type": "stream",
     "text": [
      "IOU: 0.0\n"
     ]
    },
    {
     "data": {
      "image/png": "[encoded data removed]",
      "text/plain": [
       "<Figure size 432x288 with 1 Axes>"
      ]
     },
     "metadata": {
      "needs_background": "light"
     },
     "output_type": "display_data"
    },
    {
     "name": "stdout",
     "output_type": "stream",
     "text": [
      "IOU: 0.0\n"
     ]
    },
    {
     "data": {
      "image/png": "[encoded data removed]",
      "text/plain": [
       "<Figure size 432x288 with 1 Axes>"
      ]
     },
     "metadata": {
      "needs_background": "light"
     },
     "output_type": "display_data"
    },
    {
     "name": "stdout",
     "output_type": "stream",
     "text": [
      "IOU: 0.0\n"
     ]
    },
    {
     "data": {
      "image/png": "[encoded data removed]",
      "text/plain": [
       "<Figure size 432x288 with 1 Axes>"
      ]
     },
     "metadata": {
      "needs_background": "light"
     },
     "output_type": "display_data"
    },
    {
     "name": "stdout",
     "output_type": "stream",
     "text": [
      "IOU: 0.0\n"
     ]
    },
    {
     "data": {
      "image/png": "[encoded data removed]",
      "text/plain": [
       "<Figure size 432x288 with 1 Axes>"
      ]
     },
     "metadata": {
      "needs_background": "light"
     },
     "output_type": "display_data"
    },
    {
     "name": "stdout",
     "output_type": "stream",
     "text": [
      "IOU: 0.0\n"
     ]
    },
    {
     "data": {
      "image/png": "[encoded data removed]",
      "text/plain": [
       "<Figure size 432x288 with 1 Axes>"
      ]
     },
     "metadata": {
      "needs_background": "light"
     },
     "output_type": "display_data"
    },
    {
     "name": "stdout",
     "output_type": "stream",
     "text": [
      "IOU: 0.0\n"
     ]
    },
    {
     "data": {
      "image/png": "[encoded data removed]",
      "text/plain": [
       "<Figure size 432x288 with 1 Axes>"
      ]
     },
     "metadata": {
      "needs_background": "light"
     },
     "output_type": "display_data"
    },
    {
     "name": "stdout",
     "output_type": "stream",
     "text": [
      "IOU: 0.0\n"
     ]
    },
    {
     "data": {
      "image/png": "[encoded data removed]",
      "text/plain": [
       "<Figure size 432x288 with 1 Axes>"
      ]
     },
     "metadata": {
      "needs_background": "light"
     },
     "output_type": "display_data"
    },
    {
     "name": "stdout",
     "output_type": "stream",
     "text": [
      "IOU: 0.0\n"
     ]
    },
    {
     "data": {
      "image/png": "[encoded data removed]",
      "text/plain": [
       "<Figure size 432x288 with 1 Axes>"
      ]
     },
     "metadata": {
      "needs_background": "light"
     },
     "output_type": "display_data"
    },
    {
     "name": "stdout",
     "output_type": "stream",
     "text": [
      "IOU: 0.0\n"
     ]
    },
    {
     "data": {
      "image/png": "[encoded data removed]",
      "text/plain": [
       "<Figure size 432x288 with 1 Axes>"
      ]
     },
     "metadata": {
      "needs_background": "light"
     },
     "output_type": "display_data"
    },
    {
     "name": "stdout",
     "output_type": "stream",
     "text": [
      "IOU: 0.0\n"
     ]
    },
    {
     "data": {
      "image/png": "[encoded data removed]",
      "text/plain": [
       "<Figure size 432x288 with 1 Axes>"
      ]
     },
     "metadata": {
      "needs_background": "light"
     },
     "output_type": "display_data"
    },
    {
     "name": "stdout",
     "output_type": "stream",
     "text": [
      "IOU: 0.0\n"
     ]
    },
    {
     "data": {
      "image/png": "[encoded data removed]",
      "text/plain": [
       "<Figure size 432x288 with 1 Axes>"
      ]
     },
     "metadata": {
      "needs_background": "light"
     },
     "output_type": "display_data"
    },
    {
     "name": "stdout",
     "output_type": "stream",
     "text": [
      "IOU: 0.0\n"
     ]
    },
    {
     "data": {
      "image/png": "[encoded data removed]",
      "text/plain": [
       "<Figure size 432x288 with 1 Axes>"
      ]
     },
     "metadata": {
      "needs_background": "light"
     },
     "output_type": "display_data"
    },
    {
     "name": "stdout",
     "output_type": "stream",
     "text": [
      "IOU: 0.0\n"
     ]
    },
    {
     "data": {
      "image/png": "[encoded data removed]",
      "text/plain": [
       "<Figure size 432x288 with 1 Axes>"
      ]
     },
     "metadata": {
      "needs_background": "light"
     },
     "output_type": "display_data"
    },
    {
     "name": "stdout",
     "output_type": "stream",
     "text": [
      "IOU: 0.0\n"
     ]
    },
    {
     "data": {
      "image/png": "[encoded data removed]",
      "text/plain": [
       "<Figure size 432x288 with 1 Axes>"
      ]
     },
     "metadata": {
      "needs_background": "light"
     },
     "output_type": "display_data"
    },
    {
     "name": "stdout",
     "output_type": "stream",
     "text": [
      "IOU: 0.0\n"
     ]
    },
    {
     "data": {
      "image/png": "[encoded data removed]",
      "text/plain": [
       "<Figure size 432x288 with 1 Axes>"
      ]
     },
     "metadata": {
      "needs_background": "light"
     },
     "output_type": "display_data"
    },
    {
     "name": "stdout",
     "output_type": "stream",
     "text": [
      "IOU: 0.0\n"
     ]
    },
    {
     "data": {
      "image/png": "[encoded data removed]",
      "text/plain": [
       "<Figure size 432x288 with 1 Axes>"
      ]
     },
     "metadata": {
      "needs_background": "light"
     },
     "output_type": "display_data"
    },
    {
     "name": "stdout",
     "output_type": "stream",
     "text": [
      "IOU: 0.0\n"
     ]
    },
    {
     "data": {
      "image/png": "[encoded data removed]",
      "text/plain": [
       "<Figure size 432x288 with 1 Axes>"
      ]
     },
     "metadata": {
      "needs_background": "light"
     },
     "output_type": "display_data"
    },
    {
     "name": "stdout",
     "output_type": "stream",
     "text": [
      "IOU: 0.0\n"
     ]
    },
    {
     "data": {
      "image/png": "[encoded data removed]",
      "text/plain": [
       "<Figure size 432x288 with 1 Axes>"
      ]
     },
     "metadata": {
      "needs_background": "light"
     },
     "output_type": "display_data"
    },
    {
     "name": "stdout",
     "output_type": "stream",
     "text": [
      "IOU: 0.0\n"
     ]
    },
    {
     "data": {
      "image/png": "[encoded data removed]",
      "text/plain": [
       "<Figure size 432x288 with 1 Axes>"
      ]
     },
     "metadata": {
      "needs_background": "light"
     },
     "output_type": "display_data"
    },
    {
     "name": "stdout",
     "output_type": "stream",
     "text": [
      "IOU: 0.0\n"
     ]
    },
    {
     "data": {
      "image/png": "[encoded data removed]",
      "text/plain": [
       "<Figure size 432x288 with 1 Axes>"
      ]
     },
     "metadata": {
      "needs_background": "light"
     },
     "output_type": "display_data"
    },
    {
     "name": "stdout",
     "output_type": "stream",
     "text": [
      "IOU: 0.0\n"
     ]
    },
    {
     "data": {
      "image/png": "[encoded data removed]",
      "text/plain": [
       "<Figure size 432x288 with 1 Axes>"
      ]
     },
     "metadata": {
      "needs_background": "light"
     },
     "output_type": "display_data"
    },
    {
     "name": "stdout",
     "output_type": "stream",
     "text": [
      "IOU: 0.0\n"
     ]
    },
    {
     "data": {
      "image/png": "[encoded data removed]",
      "text/plain": [
       "<Figure size 432x288 with 1 Axes>"
      ]
     },
     "metadata": {
      "needs_background": "light"
     },
     "output_type": "display_data"
    },
    {
     "name": "stdout",
     "output_type": "stream",
     "text": [
      "IOU: 0.0\n"
     ]
    },
    {
     "data": {
      "image/png": "[encoded data removed]",
      "text/plain": [
       "<Figure size 432x288 with 1 Axes>"
      ]
     },
     "metadata": {
      "needs_background": "light"
     },
     "output_type": "display_data"
    },
    {
     "name": "stdout",
     "output_type": "stream",
     "text": [
      "IOU: 0.0\n"
     ]
    },
    {
     "data": {
      "image/png": "[encoded data removed]",
      "text/plain": [
       "<Figure size 432x288 with 1 Axes>"
      ]
     },
     "metadata": {
      "needs_background": "light"
     },
     "output_type": "display_data"
    },
    {
     "name": "stdout",
     "output_type": "stream",
     "text": [
      "IOU: 0.0\n"
     ]
    },
    {
     "data": {
      "image/png": "[encoded data removed]",
      "text/plain": [
       "<Figure size 432x288 with 1 Axes>"
      ]
     },
     "metadata": {
      "needs_background": "light"
     },
     "output_type": "display_data"
    },
    {
     "name": "stdout",
     "output_type": "stream",
     "text": [
      "IOU: 0.0\n"
     ]
    },
    {
     "data": {
      "image/png": "[encoded data removed]",
      "text/plain": [
       "<Figure size 432x288 with 1 Axes>"
      ]
     },
     "metadata": {
      "needs_background": "light"
     },
     "output_type": "display_data"
    },
    {
     "name": "stdout",
     "output_type": "stream",
     "text": [
      "IOU: 0.0\n"
     ]
    },
    {
     "data": {
      "image/png": "[encoded data removed]",
      "text/plain": [
       "<Figure size 432x288 with 1 Axes>"
      ]
     },
     "metadata": {
      "needs_background": "light"
     },
     "output_type": "display_data"
    },
    {
     "name": "stdout",
     "output_type": "stream",
     "text": [
      "IOU: 0.0\n"
     ]
    },
    {
     "data": {
      "image/png": "[encoded data removed]",
      "text/plain": [
       "<Figure size 432x288 with 1 Axes>"
      ]
     },
     "metadata": {
      "needs_background": "light"
     },
     "output_type": "display_data"
    },
    {
     "name": "stdout",
     "output_type": "stream",
     "text": [
      "IOU: 0.0\n"
     ]
    },
    {
     "data": {
      "image/png": "[encoded data removed]",
      "text/plain": [
       "<Figure size 432x288 with 1 Axes>"
      ]
     },
     "metadata": {
      "needs_background": "light"
     },
     "output_type": "display_data"
    },
    {
     "name": "stdout",
     "output_type": "stream",
     "text": [
      "IOU: 0.0\n"
     ]
    },
    {
     "data": {
      "image/png": "[encoded data removed]",
      "text/plain": [
       "<Figure size 432x288 with 1 Axes>"
      ]
     },
     "metadata": {
      "needs_background": "light"
     },
     "output_type": "display_data"
    },
    {
     "name": "stdout",
     "output_type": "stream",
     "text": [
      "IOU: 0.0\n"
     ]
    },
    {
     "data": {
      "image/png": "[encoded data removed]",
      "text/plain": [
       "<Figure size 432x288 with 1 Axes>"
      ]
     },
     "metadata": {
      "needs_background": "light"
     },
     "output_type": "display_data"
    },
    {
     "name": "stdout",
     "output_type": "stream",
     "text": [
      "IOU: 0.0\n"
     ]
    },
    {
     "data": {
      "image/png": "[encoded data removed]",
      "text/plain": [
       "<Figure size 432x288 with 1 Axes>"
      ]
     },
     "metadata": {
      "needs_background": "light"
     },
     "output_type": "display_data"
    },
    {
     "name": "stdout",
     "output_type": "stream",
     "text": [
      "IOU: 0.0\n"
     ]
    },
    {
     "data": {
      "image/png": "[encoded data removed]",
      "text/plain": [
       "<Figure size 432x288 with 1 Axes>"
      ]
     },
     "metadata": {
      "needs_background": "light"
     },
     "output_type": "display_data"
    }
   ],
   "source": [
    "processImages(combined[combined.iou <= 0.1].index.values)"
   ]
  },
  {
   "cell_type": "code",
   "execution_count": 62,
   "metadata": {},
   "outputs": [
    {
     "name": "stdout",
     "output_type": "stream",
     "text": [
      "IOU: 1.0\n"
     ]
    },
    {
     "data": {
      "image/png": "[encoded data removed]",
      "text/plain": [
       "<Figure size 432x288 with 1 Axes>"
      ]
     },
     "metadata": {
      "needs_background": "light"
     },
     "output_type": "display_data"
    },
    {
     "name": "stdout",
     "output_type": "stream",
     "text": [
      "IOU: 1.0\n"
     ]
    },
    {
     "data": {
      "image/png": "[encoded data removed]",
      "text/plain": [
       "<Figure size 432x288 with 1 Axes>"
      ]
     },
     "metadata": {
      "needs_background": "light"
     },
     "output_type": "display_data"
    },
    {
     "name": "stdout",
     "output_type": "stream",
     "text": [
      "IOU: 1.0\n"
     ]
    },
    {
     "data": {
      "image/png": "[encoded data removed]",
      "text/plain": [
       "<Figure size 432x288 with 1 Axes>"
      ]
     },
     "metadata": {
      "needs_background": "light"
     },
     "output_type": "display_data"
    },
    {
     "name": "stdout",
     "output_type": "stream",
     "text": [
      "IOU: 1.0\n"
     ]
    },
    {
     "data": {
      "image/png": "[encoded data removed]",
      "text/plain": [
       "<Figure size 432x288 with 1 Axes>"
      ]
     },
     "metadata": {
      "needs_background": "light"
     },
     "output_type": "display_data"
    },
    {
     "name": "stdout",
     "output_type": "stream",
     "text": [
      "IOU: 1.0\n"
     ]
    },
    {
     "data": {
      "image/png": "[encoded data removed]",
      "text/plain": [
       "<Figure size 432x288 with 1 Axes>"
      ]
     },
     "metadata": {
      "needs_background": "light"
     },
     "output_type": "display_data"
    },
    {
     "name": "stdout",
     "output_type": "stream",
     "text": [
      "IOU: 1.0\n"
     ]
    },
    {
     "data": {
      "image/png": "[encoded data removed]",
      "text/plain": [
       "<Figure size 432x288 with 1 Axes>"
      ]
     },
     "metadata": {
      "needs_background": "light"
     },
     "output_type": "display_data"
    },
    {
     "name": "stdout",
     "output_type": "stream",
     "text": [
      "IOU: 1.0\n"
     ]
    },
    {
     "data": {
      "image/png": "[encoded data removed]",
      "text/plain": [
       "<Figure size 432x288 with 1 Axes>"
      ]
     },
     "metadata": {
      "needs_background": "light"
     },
     "output_type": "display_data"
    },
    {
     "name": "stdout",
     "output_type": "stream",
     "text": [
      "IOU: 1.0\n"
     ]
    },
    {
     "data": {
      "image/png": "[encoded data removed]",
      "text/plain": [
       "<Figure size 432x288 with 1 Axes>"
      ]
     },
     "metadata": {
      "needs_background": "light"
     },
     "output_type": "display_data"
    },
    {
     "name": "stdout",
     "output_type": "stream",
     "text": [
      "IOU: 1.0\n"
     ]
    },
    {
     "data": {
      "image/png": "[encoded data removed]",
      "text/plain": [
       "<Figure size 432x288 with 1 Axes>"
      ]
     },
     "metadata": {
      "needs_background": "light"
     },
     "output_type": "display_data"
    },
    {
     "name": "stdout",
     "output_type": "stream",
     "text": [
      "IOU: 1.0\n"
     ]
    },
    {
     "data": {
      "image/png": "[encoded data removed]",
      "text/plain": [
       "<Figure size 432x288 with 1 Axes>"
      ]
     },
     "metadata": {
      "needs_background": "light"
     },
     "output_type": "display_data"
    }
   ],
   "source": [
    "processImages(combined[combined.iou > 0.9999].index.values[:10])"
   ]
  },
  {
   "cell_type": "code",
   "execution_count": 36,
   "metadata": {},
   "outputs": [],
   "source": [
    "avgiouPerTooth = combined.groupby(\"DID\").agg({\"iou\":np.average})"
   ]
  },
  {
   "cell_type": "code",
   "execution_count": 39,
   "metadata": {},
   "outputs": [
    {
     "data": {
      "text/plain": [
       "Index(['iou'], dtype='object')"
      ]
     },
     "execution_count": 39,
     "metadata": {},
     "output_type": "execute_result"
    }
   ],
   "source": [
    "avgiouPerTooth.columns"
   ]
  },
  {
   "cell_type": "code",
   "execution_count": 41,
   "metadata": {},
   "outputs": [
    {
     "data": {
      "text/plain": [
       "<BarContainer object of 49 artists>"
      ]
     },
     "execution_count": 41,
     "metadata": {},
     "output_type": "execute_result"
    },
    {
     "data": {
      "image/png": "[encoded data removed]",
      "text/plain": [
       "<Figure size 1332x756 with 1 Axes>"
      ]
     },
     "metadata": {
      "needs_background": "light"
     },
     "output_type": "display_data"
    }
   ],
   "source": [
    "fig = plt.gcf()\n",
    "fig.set_size_inches(18.5, 10.5)\n",
    "plt.bar(avgiouPerTooth.index, avgiouPerTooth[\"iou\"])\n",
    "# Fogankénti átlagos IOU\n",
    "# X tengely: a fog azonosítója\n",
    "# Y tengely: átlagos IOU"
   ]
  },
  {
   "cell_type": "code",
   "execution_count": 56,
   "metadata": {},
   "outputs": [
    {
     "data": {
      "text/plain": [
       "0.0    0.000000\n",
       "0.1    0.565675\n",
       "0.2    0.737705\n",
       "0.3    0.812500\n",
       "0.4    0.853490\n",
       "0.5    0.882114\n",
       "0.6    0.903452\n",
       "0.7    0.923872\n",
       "0.8    0.941860\n",
       "0.9    0.963222\n",
       "1.0    1.000000\n",
       "Name: iou, dtype: float64"
      ]
     },
     "execution_count": 56,
     "metadata": {},
     "output_type": "execute_result"
    }
   ],
   "source": [
    "combined.iou.quantile(np.linspace(0.0, 1.0, 11))\n",
    "# Percentilisek, megmutatja, hogy meddig kell emelnünk az IOU felső korlátját, hogy az eredmények adott százalékát lefedjük"
   ]
  },
  {
   "cell_type": "code",
   "execution_count": 69,
   "metadata": {},
   "outputs": [],
   "source": [
    "def showATeeth(did):\n",
    "    ids = combined[combined.DID == did][\"GID\"].values\n",
    "    imgPaths = [f\"original/{i}.png\" for i in ids]\n",
    "    mskPaths = [f\"roots/{i}.png\" for i in ids]\n",
    "    \n",
    "    imgs = []\n",
    "    \n",
    "    for i in range(len(ids)):\n",
    "        raw = Image.open(imgPaths[i])\n",
    "        raw = np.array(raw.resize((256, 256)))/255.\n",
    "        raw = raw[:,:,0:3]\n",
    "        imgs.append(raw[:,:,0])\n",
    "\n",
    "        truemsk = Image.open(mskPaths[i])\n",
    "        truemsk = np.array(truemsk.resize((256, 256)))/255.\n",
    "        if len(truemsk.shape) > 2:\n",
    "            truemsk = truemsk[:,:,0]\n",
    "        \n",
    "        #predict the mask \n",
    "        pred = model.predict(np.expand_dims(raw, 0))\n",
    "\n",
    "        #mask post-processing \n",
    "        msk  = pred.squeeze()\n",
    "        msk[msk >= 0.5] = 1 \n",
    "        msk[msk < 0.5] = 0\n",
    "        \n",
    "        \n",
    "    data = np.array(imgs)\n",
    "    print(data.shape)\n",
    "    fig = plt.figure()\n",
    "    fig.set_size_inches(18.5, 10.5)\n",
    "    ax = fig.gca(projection='3d')\n",
    "\n",
    "    ax.voxels(data, alpha = 0.2)\n",
    "\n",
    "plt.show()"
   ]
  },
  {
   "cell_type": "markdown",
   "metadata": {
    "colab_type": "text",
    "id": "OfoO80D4uYAj"
   },
   "source": [
    "# References\n",
    "\n",
    "\n",
    "1.   http://deeplearning.net/tutorial/unet.html\n",
    "2.   https://github.com/ldenoue/keras-unet\n",
    "\n"
   ]
  }
 ],
 "metadata": {
  "accelerator": "GPU",
  "colab": {
   "name": "Copy of Unet.ipynb",
   "provenance": [
    {
     "file_id": "https://github.com/zaidalyafeai/Notebooks/blob/master/unet.ipynb",
     "timestamp": 1595263311044
    }
   ]
  },
  "kernelspec": {
   "display_name": "Python 3",
   "language": "python",
   "name": "python3"
  },
  "language_info": {
   "codemirror_mode": {
    "name": "ipython",
    "version": 3
   },
   "file_extension": ".py",
   "mimetype": "text/x-python",
   "name": "python",
   "nbconvert_exporter": "python",
   "pygments_lexer": "ipython3",
   "version": "3.7.4"
  }
 },
 "nbformat": 4,
 "nbformat_minor": 4
}
