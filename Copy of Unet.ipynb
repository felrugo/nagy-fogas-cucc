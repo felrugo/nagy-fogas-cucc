{
 "cells": [
  {
   "cell_type": "markdown",
   "metadata": {
    "colab_type": "text",
    "id": "mh-MgyQM2Qw9"
   },
   "source": [
    "# Introduction\n",
    "\n",
    "The U-Net model is a simple fully  convolutional neural network that is used for binary segmentation i.e foreground and background pixel-wise classification. Mainly, it consists of two parts. \n",
    "\n",
    "*   Contracting Path: we apply a series of conv layers and downsampling layers  (max-pooling) layers to reduce the spatial size \n",
    "*   Expanding Path: we apply a series of upsampling layers to reconstruct the spatial size of the input. \n",
    "\n",
    "The two parts are connected using a concatenation layers among different levels. This allows learning different features at different levels. At the end we have a simple conv 1x1 layer to reduce the number of channels to 1. \n",
    "\n",
    "\n",
    "![alt text](https://blog.playment.io/wp-content/uploads/2018/03/Screen-Shot-2018-09-05-at-3.00.03-PM.png)"
   ]
  },
  {
   "cell_type": "markdown",
   "metadata": {
    "colab_type": "text",
    "id": "3LisvDshzevQ"
   },
   "source": [
    "# Imports"
   ]
  },
  {
   "cell_type": "code",
   "execution_count": 7,
   "metadata": {
    "colab": {
     "base_uri": "https://localhost:8080/",
     "height": 34
    },
    "colab_type": "code",
    "executionInfo": {
     "elapsed": 3577,
     "status": "ok",
     "timestamp": 1595263332250,
     "user": {
      "displayName": "Felrugo",
      "photoUrl": "https://lh3.googleusercontent.com/a-/AOh14GiEZYCHDckrxx9NlTyMjHwT3AV1Xr35LocC6wp5=s64",
      "userId": "06350835367473888493"
     },
     "user_tz": -120
    },
    "id": "bdeDl5HO0QsY",
    "outputId": "7f618222-cc1c-4eb3-f01e-f93776d12359"
   },
   "outputs": [],
   "source": [
    "import numpy as np\n",
    "import matplotlib.pyplot as plt\n",
    "import os\n",
    "from PIL import Image\n",
    "import tensorflow as tf\n",
    "#import keras\n",
    "keras = tf.keras\n",
    "Model = keras.models.Model\n",
    "Conv2D, MaxPooling2D, Input, Conv2DTranspose, Concatenate, BatchNormalization, UpSampling2D = keras.layers.Conv2D, keras.layers.MaxPooling2D, keras.layers.Input, keras.layers.Conv2DTranspose, keras.layers.Concatenate, keras.layers.BatchNormalization, keras.layers.UpSampling2D\n",
    "Dropout, Activation = keras.layers.Dropout, keras.layers.Activation\n",
    "Adam, SGD = keras.optimizers.Adam, keras.optimizers.SGD\n",
    "ModelCheckpoint, ReduceLROnPlateau, EarlyStopping = keras.callbacks.ModelCheckpoint, keras.callbacks. ReduceLROnPlateau, keras.callbacks.EarlyStopping\n",
    "K = keras.backend\n",
    "plot_model = keras.utils.plot_model\n",
    "\n",
    "import glob\n",
    "import random\n",
    "import cv2\n",
    "from random import shuffle"
   ]
  },
  {
   "cell_type": "markdown",
   "metadata": {
    "colab_type": "text",
    "id": "aOpRsS-TzhRg"
   },
   "source": [
    "# Dataset\n",
    "\n",
    "We will use the The Oxford-IIIT Pet Dataset. It contains 37 classes of dogs and cats with around 200 images per each class. The dataset contains labels as bounding boxes and segmentation masks. The total number of images in the dataset is a little more than 7K. \n",
    "\n",
    "![alt text](http://www.robots.ox.ac.uk/~vgg/data/pets/pet_annotations.jpg)\n",
    "\n",
    "Download the images/masks and unzip the files "
   ]
  },
  {
   "cell_type": "code",
   "execution_count": 8,
   "metadata": {
    "colab": {
     "base_uri": "https://localhost:8080/",
     "height": 1000
    },
    "colab_type": "code",
    "executionInfo": {
     "elapsed": 45605,
     "status": "ok",
     "timestamp": 1595263389754,
     "user": {
      "displayName": "Felrugo",
      "photoUrl": "https://lh3.googleusercontent.com/a-/AOh14GiEZYCHDckrxx9NlTyMjHwT3AV1Xr35LocC6wp5=s64",
      "userId": "06350835367473888493"
     },
     "user_tz": -120
    },
    "id": "nuR1xDbQjHj3",
    "outputId": "946ad96e-b950-4081-a967-1d618e785668"
   },
   "outputs": [
    {
     "name": "stderr",
     "output_type": "stream",
     "text": [
      "'wget' is not recognized as an internal or external command,\n",
      "operable program or batch file.\n",
      "'wget' is not recognized as an internal or external command,\n",
      "operable program or batch file.\n",
      "tar: Error opening archive: Failed to open 'images.tar.gz'\n",
      "'rm' is not recognized as an internal or external command,\n",
      "operable program or batch file.\n"
     ]
    }
   ],
   "source": [
    "!wget http://www.robots.ox.ac.uk/~vgg/data/pets/data/images.tar.gz\n",
    "!wget http://www.robots.ox.ac.uk/~vgg/data/pets/data/annotations.tar.gz\n",
    "!tar -xvzf images.tar.gz && tar -xvzf annotations.tar.gz\n",
    "!rm  images/*.mat"
   ]
  },
  {
   "cell_type": "code",
   "execution_count": 9,
   "metadata": {},
   "outputs": [
    {
     "data": {
      "text/plain": [
       "(501, 501)"
      ]
     },
     "execution_count": 9,
     "metadata": {},
     "output_type": "execute_result"
    }
   ],
   "source": [
    "t = Image.open(\"binary/0.png\")\n",
    "i = np.array(t)\n",
    "i = i[:,:,0]\n",
    "i.shape"
   ]
  },
  {
   "cell_type": "markdown",
   "metadata": {
    "colab_type": "text",
    "id": "gF9UZdcr0Xkq"
   },
   "source": [
    "Note that we have two foulders. The first one is `images` which contains the raw images and annotation which contains the masks as a `binary` foulder image."
   ]
  },
  {
   "cell_type": "markdown",
   "metadata": {
    "colab_type": "text",
    "id": "tavQ2-MJ0x9E"
   },
   "source": [
    "# Generators"
   ]
  },
  {
   "cell_type": "code",
   "execution_count": 10,
   "metadata": {
    "colab": {},
    "colab_type": "code",
    "executionInfo": {
     "elapsed": 613,
     "status": "ok",
     "timestamp": 1595263414609,
     "user": {
      "displayName": "Felrugo",
      "photoUrl": "https://lh3.googleusercontent.com/a-/AOh14GiEZYCHDckrxx9NlTyMjHwT3AV1Xr35LocC6wp5=s64",
      "userId": "06350835367473888493"
     },
     "user_tz": -120
    },
    "id": "P8tq55g677wp"
   },
   "outputs": [],
   "source": [
    "def image_generator(files, batch_size = 32, sz = (512, 512)):\n",
    "  \n",
    "  while True: \n",
    "    \n",
    "    #extract a random batch \n",
    "    batch = np.random.choice(files, size = batch_size)    \n",
    "    \n",
    "    #variables for collecting batches of inputs and outputs \n",
    "    batch_x = []\n",
    "    batch_y = []\n",
    "    \n",
    "    \n",
    "    for f in batch:\n",
    "\n",
    "        #get the masks. Note that masks are png files \n",
    "        mask = Image.open(f'binary/{f}.png')\n",
    "        mask = np.array(mask.resize(sz))\n",
    "\n",
    "\n",
    "        #preprocess the mask \n",
    "        mask[mask == 0] = 0 \n",
    "        mask[mask != 0 ] = 1\n",
    "        \n",
    "        batch_y.append(mask)\n",
    "\n",
    "        #preprocess the raw images \n",
    "        raw = Image.open(f'original/{f}.png')\n",
    "        raw = raw.resize(sz)\n",
    "        raw = np.array(raw)\n",
    "\n",
    "        #check the number of channels because some of the images are RGBA or GRAY\n",
    "        if len(raw.shape) == 2:\n",
    "          raw = np.stack((raw,)*3, axis=-1)\n",
    "\n",
    "        else:\n",
    "          raw = raw[:,:,0:3]\n",
    "\n",
    "        batch_x.append(raw)\n",
    "\n",
    "    #preprocess a batch of images and masks \n",
    "    batch_x = np.array(batch_x)/255.\n",
    "    batch_y = np.array(batch_y)\n",
    "    #batch_y = np.expand_dims(batch_y,3)\n",
    "\n",
    "    yield (batch_x, batch_y)      \n",
    "    "
   ]
  },
  {
   "cell_type": "code",
   "execution_count": 11,
   "metadata": {
    "colab": {},
    "colab_type": "code",
    "executionInfo": {
     "elapsed": 493,
     "status": "ok",
     "timestamp": 1595263428997,
     "user": {
      "displayName": "Felrugo",
      "photoUrl": "https://lh3.googleusercontent.com/a-/AOh14GiEZYCHDckrxx9NlTyMjHwT3AV1Xr35LocC6wp5=s64",
      "userId": "06350835367473888493"
     },
     "user_tz": -120
    },
    "id": "PvwbmS-YTHEZ"
   },
   "outputs": [],
   "source": [
    "batch_size = 32\n",
    "\n",
    "all_files = [i for i in range(4049)]\n",
    "shuffle(all_files)\n",
    "\n",
    "split = int(0.95 * len(all_files))\n",
    "\n",
    "#split into training and testing\n",
    "train_files = all_files[0:split]\n",
    "test_files  = all_files[split:]\n",
    "\n",
    "train_generator = image_generator(train_files, batch_size = batch_size)\n",
    "test_generator  = image_generator(test_files, batch_size = batch_size)"
   ]
  },
  {
   "cell_type": "code",
   "execution_count": 12,
   "metadata": {
    "colab": {},
    "colab_type": "code",
    "executionInfo": {
     "elapsed": 696,
     "status": "ok",
     "timestamp": 1595263437844,
     "user": {
      "displayName": "Felrugo",
      "photoUrl": "https://lh3.googleusercontent.com/a-/AOh14GiEZYCHDckrxx9NlTyMjHwT3AV1Xr35LocC6wp5=s64",
      "userId": "06350835367473888493"
     },
     "user_tz": -120
    },
    "id": "yn_bdWgIuRHD"
   },
   "outputs": [],
   "source": [
    "x, y= next(train_generator)"
   ]
  },
  {
   "cell_type": "code",
   "execution_count": 13,
   "metadata": {},
   "outputs": [
    {
     "data": {
      "text/plain": [
       "(32, 512, 512, 3)"
      ]
     },
     "execution_count": 13,
     "metadata": {},
     "output_type": "execute_result"
    }
   ],
   "source": [
    "y.shape"
   ]
  },
  {
   "cell_type": "code",
   "execution_count": 14,
   "metadata": {
    "colab": {
     "base_uri": "https://localhost:8080/",
     "height": 160
    },
    "colab_type": "code",
    "executionInfo": {
     "elapsed": 566,
     "status": "ok",
     "timestamp": 1595263449991,
     "user": {
      "displayName": "Felrugo",
      "photoUrl": "https://lh3.googleusercontent.com/a-/AOh14GiEZYCHDckrxx9NlTyMjHwT3AV1Xr35LocC6wp5=s64",
      "userId": "06350835367473888493"
     },
     "user_tz": -120
    },
    "id": "jnuNW20FeupL",
    "outputId": "6fb4e0c2-f495-4156-dbde-f18fcc64ae2b"
   },
   "outputs": [
    {
     "data": {
      "text/plain": [
       "<matplotlib.image.AxesImage at 0x239109a5b88>"
      ]
     },
     "execution_count": 14,
     "metadata": {},
     "output_type": "execute_result"
    },
    {
     "data": {
      "image/png": "[encoded data removed]",
      "text/plain": [
       "<Figure size 432x288 with 1 Axes>"
      ]
     },
     "metadata": {
      "needs_background": "light"
     },
     "output_type": "display_data"
    }
   ],
   "source": [
    "plt.axis('off')\n",
    "img = x[0]\n",
    "msk = y[0].squeeze()\n",
    "#msk = np.stack((msk,)*3, axis=-1)\n",
    "\n",
    "plt.imshow( np.concatenate([img, msk, img*msk], axis = 1))"
   ]
  },
  {
   "cell_type": "markdown",
   "metadata": {
    "colab_type": "text",
    "id": "raXLOfBk1pLV"
   },
   "source": [
    "# IoU metric\n",
    "\n",
    "The intersection over union (IoU) metric is a simple metric used to evaluate the performance of a segmentation algorithm. Given two masks $y_{true}, y_{pred}$ we evaluate \n",
    "\n",
    "$$IoU = \\frac{y_{true} \\cap y_{pred}}{y_{true} \\cup y_{pred}}$$"
   ]
  },
  {
   "cell_type": "code",
   "execution_count": 8,
   "metadata": {
    "colab": {},
    "colab_type": "code",
    "executionInfo": {
     "elapsed": 759,
     "status": "ok",
     "timestamp": 1595263562205,
     "user": {
      "displayName": "Felrugo",
      "photoUrl": "https://lh3.googleusercontent.com/a-/AOh14GiEZYCHDckrxx9NlTyMjHwT3AV1Xr35LocC6wp5=s64",
      "userId": "06350835367473888493"
     },
     "user_tz": -120
    },
    "id": "xJLriYXX1oZU"
   },
   "outputs": [],
   "source": [
    "def mean_iou(y_true, y_pred):\n",
    "    yt0 = y_true[:,:,:,0]\n",
    "    yp0 = K.cast(y_pred[:,:,:,0] > 0.5, 'float32')\n",
    "    inter = tf.math.count_nonzero(tf.logical_and(tf.equal(yt0, 1), tf.equal(yp0, 1)))\n",
    "    union = tf.math.count_nonzero(tf.add(yt0, yp0))\n",
    "    iou = tf.where(tf.equal(union, 0), 1., tf.cast(inter/union, 'float32'))\n",
    "    return iou"
   ]
  },
  {
   "cell_type": "markdown",
   "metadata": {
    "colab_type": "text",
    "id": "160g6Ex41r-2"
   },
   "source": [
    "# Model"
   ]
  },
  {
   "cell_type": "code",
   "execution_count": 9,
   "metadata": {
    "colab": {},
    "colab_type": "code",
    "executionInfo": {
     "elapsed": 598,
     "status": "ok",
     "timestamp": 1595263562777,
     "user": {
      "displayName": "Felrugo",
      "photoUrl": "https://lh3.googleusercontent.com/a-/AOh14GiEZYCHDckrxx9NlTyMjHwT3AV1Xr35LocC6wp5=s64",
      "userId": "06350835367473888493"
     },
     "user_tz": -120
    },
    "id": "hONrrUbW9CM_"
   },
   "outputs": [],
   "source": [
    "def unet(sz = (512, 512, 3)):\n",
    "  x = Input(sz)\n",
    "  inputs = x\n",
    "  \n",
    "  #down sampling \n",
    "  f = 9\n",
    "  layers = []\n",
    "  \n",
    "  for i in range(0, 6):\n",
    "    x = Conv2D(f, 3, activation='relu', padding='same') (x)\n",
    "    x = Conv2D(f, 3, activation='relu', padding='same') (x)\n",
    "    layers.append(x)\n",
    "    x = MaxPooling2D() (x)\n",
    "    f = f*2\n",
    "  ff2 = 64 \n",
    "  \n",
    "  #bottleneck \n",
    "  j = len(layers) - 1\n",
    "  x = Conv2D(f, 3, activation='relu', padding='same') (x)\n",
    "  x = Conv2D(f, 3, activation='relu', padding='same') (x)\n",
    "  x = Conv2DTranspose(ff2, 2, strides=(2, 2), padding='same') (x)\n",
    "  x = Concatenate(axis=3)([x, layers[j]])\n",
    "  j = j -1 \n",
    "  \n",
    "  #upsampling \n",
    "  for i in range(0, 5):\n",
    "    ff2 = ff2//2\n",
    "    f = f // 2 \n",
    "    x = Conv2D(f, 3, activation='relu', padding='same') (x)\n",
    "    x = Conv2D(f, 3, activation='relu', padding='same') (x)\n",
    "    x = Conv2DTranspose(ff2, 2, strides=(2, 2), padding='same') (x)\n",
    "    x = Concatenate(axis=3)([x, layers[j]])\n",
    "    j = j -1 \n",
    "    \n",
    "  \n",
    "  #classification \n",
    "  x = Conv2D(f, 3, activation='relu', padding='same') (x)\n",
    "  x = Conv2D(f, 3, activation='relu', padding='same') (x)\n",
    "  outputs = Conv2D(1, 1, activation='sigmoid') (x)\n",
    "  \n",
    "  #model creation \n",
    "  model = Model(inputs=[inputs], outputs=[outputs])\n",
    "  model.compile(optimizer = 'rmsprop', loss = 'binary_crossentropy', metrics = [mean_iou])\n",
    "  \n",
    "  return model"
   ]
  },
  {
   "cell_type": "code",
   "execution_count": 10,
   "metadata": {
    "colab": {},
    "colab_type": "code",
    "executionInfo": {
     "elapsed": 953,
     "status": "ok",
     "timestamp": 1595263563931,
     "user": {
      "displayName": "Felrugo",
      "photoUrl": "https://lh3.googleusercontent.com/a-/AOh14GiEZYCHDckrxx9NlTyMjHwT3AV1Xr35LocC6wp5=s64",
      "userId": "06350835367473888493"
     },
     "user_tz": -120
    },
    "id": "67Fyeczk_zzh"
   },
   "outputs": [],
   "source": [
    "model = unet()"
   ]
  },
  {
   "cell_type": "markdown",
   "metadata": {
    "colab_type": "text",
    "id": "t7QY8rgO1zUU"
   },
   "source": [
    "# Callbacks\n",
    "\n",
    "Simple functions to save the model at each epoch and show some predictions "
   ]
  },
  {
   "cell_type": "code",
   "execution_count": 11,
   "metadata": {
    "colab": {},
    "colab_type": "code",
    "executionInfo": {
     "elapsed": 601,
     "status": "ok",
     "timestamp": 1595263569621,
     "user": {
      "displayName": "Felrugo",
      "photoUrl": "https://lh3.googleusercontent.com/a-/AOh14GiEZYCHDckrxx9NlTyMjHwT3AV1Xr35LocC6wp5=s64",
      "userId": "06350835367473888493"
     },
     "user_tz": -120
    },
    "id": "xfqXmNuc9lWZ"
   },
   "outputs": [],
   "source": [
    "def build_callbacks():\n",
    "        checkpointer = ModelCheckpoint(filepath='unet.h5', verbose=0, save_best_only=True, save_weights_only=True)\n",
    "        callbacks = [checkpointer, PlotLearning()]\n",
    "        return callbacks\n",
    "\n",
    "# inheritance for training process plot \n",
    "class PlotLearning(keras.callbacks.Callback):\n",
    "\n",
    "    def on_train_begin(self, logs={}):\n",
    "        self.i = 0\n",
    "        self.x = []\n",
    "        self.losses = []\n",
    "        self.val_losses = []\n",
    "        self.acc = []\n",
    "        self.val_acc = []\n",
    "        #self.fig = plt.figure()\n",
    "        self.logs = []\n",
    "    def on_epoch_end(self, epoch, logs={}):\n",
    "        self.logs.append(logs)\n",
    "        self.x.append(self.i)\n",
    "        self.losses.append(logs.get('loss'))\n",
    "        self.val_losses.append(logs.get('val_loss'))\n",
    "        self.acc.append(logs.get('mean_iou'))\n",
    "        self.val_acc.append(logs.get('val_mean_iou'))\n",
    "        self.i += 1\n",
    "        print('i=',self.i,'loss=',logs.get('loss'),'val_loss=',logs.get('val_loss'),'mean_iou=',logs.get('mean_iou'),'val_mean_iou=',logs.get('val_mean_iou'))\n",
    "        \n",
    "        #choose a random test image and preprocess\n",
    "        path = np.random.choice(test_files)\n",
    "        raw = Image.open(f'original/{path}.png')\n",
    "        raw = np.array(raw.resize((512, 512)))/255.\n",
    "        raw = raw[:,:,0:3]\n",
    "        \n",
    "        truemsk = Image.open(f'binary/{path}.png')\n",
    "        truemsk = np.array(truemsk.resize((512, 512)))/255.\n",
    "        \n",
    "        #predict the mask \n",
    "        pred = model.predict(np.expand_dims(raw, 0))\n",
    "        \n",
    "        #mask post-processing \n",
    "        msk  = pred.squeeze()\n",
    "        msk = np.stack((msk,)*3, axis=-1)\n",
    "        msk[msk >= 0.5] = 1 \n",
    "        msk[msk < 0.5] = 0 \n",
    "        \n",
    "        #show the mask and the segmented image \n",
    "        combined = np.concatenate([raw, msk, truemsk, raw* msk], axis = 1)\n",
    "        plt.axis('off')\n",
    "        plt.imshow(combined)\n",
    "        plt.show()"
   ]
  },
  {
   "cell_type": "markdown",
   "metadata": {
    "colab_type": "text",
    "id": "sU6SPuVY8Mdc"
   },
   "source": [
    "# Training"
   ]
  },
  {
   "cell_type": "code",
   "execution_count": null,
   "metadata": {
    "colab": {
     "base_uri": "https://localhost:8080/",
     "height": 1000
    },
    "colab_type": "code",
    "executionInfo": {
     "elapsed": 3220431,
     "status": "ok",
     "timestamp": 1595266792874,
     "user": {
      "displayName": "Felrugo",
      "photoUrl": "https://lh3.googleusercontent.com/a-/AOh14GiEZYCHDckrxx9NlTyMjHwT3AV1Xr35LocC6wp5=s64",
      "userId": "06350835367473888493"
     },
     "user_tz": -120
    },
    "id": "_MXGinNg9Wjj",
    "outputId": "dcc87ed7-1cca-4ad2-d34c-b44abaaa33b2"
   },
   "outputs": [
    {
     "name": "stdout",
     "output_type": "stream",
     "text": [
      "WARNING:tensorflow:From <ipython-input-12-f41b8c0b9612>:5: Model.fit_generator (from tensorflow.python.keras.engine.training) is deprecated and will be removed in a future version.\n",
      "Instructions for updating:\n",
      "Please use Model.fit, which supports generators.\n",
      "WARNING:tensorflow:sample_weight modes were coerced from\n",
      "  ...\n",
      "    to  \n",
      "  ['...']\n",
      "WARNING:tensorflow:sample_weight modes were coerced from\n",
      "  ...\n",
      "    to  \n",
      "  ['...']\n",
      "Train for 120 steps, validate for 6 steps\n",
      "Epoch 1/30\n",
      "119/120 [============================>.] - ETA: 14s - loss: 0.5860 - mean_iou: 0.4142i= 1 loss= 0.5811398779352506 val_loss= 0.00838653432826201 mean_iou= 0.41726416 val_mean_iou= 0.76074123\n"
     ]
    },
    {
     "data": {
      "image/png": "[encoded data removed]",
      "text/plain": [
       "<Figure size 432x288 with 1 Axes>"
      ]
     },
     "metadata": {
      "needs_background": "light"
     },
     "output_type": "display_data"
    },
    {
     "name": "stdout",
     "output_type": "stream",
     "text": [
      "120/120 [==============================] - 1735s 14s/step - loss: 0.5811 - mean_iou: 0.4173 - val_loss: 0.0084 - val_mean_iou: 0.7607\n",
      "Epoch 2/30\n",
      "119/120 [============================>.] - ETA: 14s - loss: 0.0742 - mean_iou: 0.7365i= 2 loss= 0.07364085583249107 val_loss= 0.009679184140016636 mean_iou= 0.7375463 val_mean_iou= 0.6784467\n"
     ]
    },
    {
     "data": {
      "image/png": "[encoded data removed]",
      "text/plain": [
       "<Figure size 432x288 with 1 Axes>"
      ]
     },
     "metadata": {
      "needs_background": "light"
     },
     "output_type": "display_data"
    },
    {
     "name": "stdout",
     "output_type": "stream",
     "text": [
      "120/120 [==============================] - 1737s 14s/step - loss: 0.0736 - mean_iou: 0.7375 - val_loss: 0.0097 - val_mean_iou: 0.6784\n",
      "Epoch 3/30\n",
      " 31/120 [======>.......................] - ETA: 25:24 - loss: 0.0060 - mean_iou: 0.8289"
     ]
    }
   ],
   "source": [
    "train_steps = len(train_files) //batch_size\n",
    "test_steps = len(test_files) //batch_size\n",
    "model.fit_generator(train_generator, \n",
    "                    epochs = 30, steps_per_epoch = train_steps,validation_data = test_generator, validation_steps = test_steps,\n",
    "                    callbacks = build_callbacks(), verbose = 1)"
   ]
  },
  {
   "cell_type": "markdown",
   "metadata": {
    "colab_type": "text",
    "id": "0O5zCKBr8OZ1"
   },
   "source": [
    "# Testing"
   ]
  },
  {
   "cell_type": "code",
   "execution_count": null,
   "metadata": {
    "colab": {
     "base_uri": "https://localhost:8080/",
     "height": 224
    },
    "colab_type": "code",
    "id": "ld3st_p38fv9",
    "outputId": "6b08cdcf-2bc8-4910-bc19-dda8a5fe4a28"
   },
   "outputs": [
    {
     "name": "stdout",
     "output_type": "stream",
     "text": [
      "--2019-01-05 15:38:20--  http://r.ddmcdn.com/s_f/o_1/cx_462/cy_245/cw_1349/ch_1349/w_720/APL/uploads/2015/06/caturday-shutterstock_149320799.jpg\n",
      "Resolving r.ddmcdn.com (r.ddmcdn.com)... 52.85.158.141, 52.85.158.126, 52.85.158.204, ...\n",
      "Connecting to r.ddmcdn.com (r.ddmcdn.com)|52.85.158.141|:80... connected.\n",
      "HTTP request sent, awaiting response... 200 OK\n",
      "Length: 63220 (62K) [image/jpeg]\n",
      "Saving to: ‘test.jpg’\n",
      "\n",
      "test.jpg            100%[===================>]  61.74K   127KB/s    in 0.5s    \n",
      "\n",
      "2019-01-05 15:38:21 (127 KB/s) - ‘test.jpg’ saved [63220/63220]\n",
      "\n"
     ]
    }
   ],
   "source": [
    "!wget http://r.ddmcdn.com/s_f/o_1/cx_462/cy_245/cw_1349/ch_1349/w_720/APL/uploads/2015/06/caturday-shutterstock_149320799.jpg -O test.jpg"
   ]
  },
  {
   "cell_type": "code",
   "execution_count": null,
   "metadata": {
    "colab": {
     "base_uri": "https://localhost:8080/",
     "height": 200
    },
    "colab_type": "code",
    "id": "S17rew7Vqk5e",
    "outputId": "c872faec-0bce-4916-b0f4-6d9480c2270e"
   },
   "outputs": [
    {
     "data": {
      "image/png": "[encoded data removed]",
      "text/plain": [
       "<matplotlib.figure.Figure at 0x7f0a22088470>"
      ]
     },
     "metadata": {
      "tags": []
     },
     "output_type": "display_data"
    }
   ],
   "source": [
    "raw = Image.open('test.jpg')\n",
    "raw = np.array(raw.resize((256, 256)))/255.\n",
    "raw = raw[:,:,0:3]\n",
    "\n",
    "#predict the mask \n",
    "pred = model.predict(np.expand_dims(raw, 0))\n",
    "\n",
    "#mask post-processing \n",
    "msk  = pred.squeeze()\n",
    "msk = np.stack((msk,)*3, axis=-1)\n",
    "msk[msk >= 0.5] = 1 \n",
    "msk[msk < 0.5] = 0 \n",
    "\n",
    "#show the mask and the segmented image \n",
    "combined = np.concatenate([raw, msk, raw* msk], axis = 1)\n",
    "plt.axis('off')\n",
    "plt.imshow(combined)\n",
    "plt.show()"
   ]
  },
  {
   "cell_type": "markdown",
   "metadata": {
    "colab_type": "text",
    "id": "OfoO80D4uYAj"
   },
   "source": [
    "# References\n",
    "\n",
    "\n",
    "1.   http://deeplearning.net/tutorial/unet.html\n",
    "2.   https://github.com/ldenoue/keras-unet\n",
    "\n"
   ]
  }
 ],
 "metadata": {
  "accelerator": "GPU",
  "colab": {
   "name": "Copy of Unet.ipynb",
   "provenance": [
    {
     "file_id": "https://github.com/zaidalyafeai/Notebooks/blob/master/unet.ipynb",
     "timestamp": 1595263311044
    }
   ]
  },
  "kernelspec": {
   "display_name": "Python 3",
   "language": "python",
   "name": "python3"
  },
  "language_info": {
   "codemirror_mode": {
    "name": "ipython",
    "version": 3
   },
   "file_extension": ".py",
   "mimetype": "text/x-python",
   "name": "python",
   "nbconvert_exporter": "python",
   "pygments_lexer": "ipython3",
   "version": "3.7.4"
  }
 },
 "nbformat": 4,
 "nbformat_minor": 4
}
